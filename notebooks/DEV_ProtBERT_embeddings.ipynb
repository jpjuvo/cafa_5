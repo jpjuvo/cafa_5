{
 "cells": [
  {
   "cell_type": "code",
   "execution_count": 1,
   "id": "955367cc",
   "metadata": {},
   "outputs": [],
   "source": [
    "import os\n",
    "import numpy as np"
   ]
  },
  {
   "cell_type": "markdown",
   "id": "43804b60",
   "metadata": {},
   "source": [
    "## Check that protein order and ids match with t5 and ProtBERT data"
   ]
  },
  {
   "cell_type": "code",
   "execution_count": 2,
   "id": "5cf9c4e0",
   "metadata": {},
   "outputs": [
    {
     "name": "stdout",
     "output_type": "stream",
     "text": [
      "(142246,)\n"
     ]
    },
    {
     "data": {
      "text/plain": [
       "array(['Q96S79', 'Q9VSA3', 'O94652', ..., 'Q5RGB0', 'A0A2R8QMZ5',\n",
       "       'A0A8I6GHU0'], dtype='<U10')"
      ]
     },
     "execution_count": 2,
     "metadata": {},
     "output_type": "execute_result"
    }
   ],
   "source": [
    "t5_train_protein_ids = np.load('../input/t5embeds/train_ids.npy')\n",
    "print(t5_train_protein_ids.shape)\n",
    "\n",
    "t5_train_protein_ids[10:]"
   ]
  },
  {
   "cell_type": "code",
   "execution_count": 3,
   "id": "b5678e17",
   "metadata": {},
   "outputs": [
    {
     "name": "stdout",
     "output_type": "stream",
     "text": [
      "(142246,)\n"
     ]
    },
    {
     "data": {
      "text/plain": [
       "array(['Q96S79', 'Q9VSA3', 'O94652', ..., 'Q5RGB0', 'A0A2R8QMZ5',\n",
       "       'A0A8I6GHU0'], dtype='<U10')"
      ]
     },
     "execution_count": 3,
     "metadata": {},
     "output_type": "execute_result"
    }
   ],
   "source": [
    "train_protein_ids = np.load('../input/protbert/train_ids.npy')\n",
    "print(train_protein_ids.shape)\n",
    "\n",
    "train_protein_ids[10:]"
   ]
  },
  {
   "cell_type": "code",
   "execution_count": 4,
   "id": "361a7757",
   "metadata": {},
   "outputs": [],
   "source": [
    "for t5id, protbid in zip(t5_train_protein_ids, train_protein_ids):\n",
    "    assert t5id == protbid"
   ]
  },
  {
   "cell_type": "code",
   "execution_count": 5,
   "id": "5cf63e19",
   "metadata": {},
   "outputs": [
    {
     "name": "stdout",
     "output_type": "stream",
     "text": [
      "(141865,)\n"
     ]
    },
    {
     "data": {
      "text/plain": [
       "array(['Q6PD28', 'Q61151', 'Q60996', ..., 'C0HK73', 'C0HK74',\n",
       "       'A0A3G2FQK2'], dtype='<U10')"
      ]
     },
     "execution_count": 5,
     "metadata": {},
     "output_type": "execute_result"
    }
   ],
   "source": [
    "t5_test_protein_ids = np.load('../input/t5embeds/test_ids.npy')\n",
    "print(t5_test_protein_ids.shape)\n",
    "\n",
    "t5_test_protein_ids[10:]"
   ]
  },
  {
   "cell_type": "code",
   "execution_count": 6,
   "id": "db538155",
   "metadata": {},
   "outputs": [
    {
     "name": "stdout",
     "output_type": "stream",
     "text": [
      "(141865,)\n"
     ]
    },
    {
     "data": {
      "text/plain": [
       "array(['Q6PD28', 'Q61151', 'Q60996', ..., 'C0HK73', 'C0HK74',\n",
       "       'A0A3G2FQK2'], dtype='<U10')"
      ]
     },
     "execution_count": 6,
     "metadata": {},
     "output_type": "execute_result"
    }
   ],
   "source": [
    "test_protein_ids = np.load('../input/protbert/test_ids.npy')\n",
    "print(test_protein_ids.shape)\n",
    "\n",
    "test_protein_ids[10:]"
   ]
  },
  {
   "cell_type": "code",
   "execution_count": 7,
   "id": "cbe1276b",
   "metadata": {},
   "outputs": [],
   "source": [
    "for t5id, protbid in zip(t5_test_protein_ids, test_protein_ids):\n",
    "    assert t5id == protbid"
   ]
  },
  {
   "cell_type": "markdown",
   "id": "f4b7c7b8",
   "metadata": {},
   "source": [
    "## Check that embedding arrays have the same length in dim 0"
   ]
  },
  {
   "cell_type": "code",
   "execution_count": 8,
   "id": "1fbe392f",
   "metadata": {},
   "outputs": [
    {
     "name": "stdout",
     "output_type": "stream",
     "text": [
      "(142246, 1024)\n"
     ]
    },
    {
     "data": {
      "text/plain": [
       "array([[ 0.00636303,  0.02944883,  0.09846962, ...,  0.00937784,\n",
       "        -0.01578914,  0.04661998],\n",
       "       [ 0.14939098,  0.01464015,  0.09270354, ..., -0.04761164,\n",
       "        -0.04260522,  0.07161822],\n",
       "       [ 0.10037302,  0.04698575,  0.11737668, ..., -0.05759605,\n",
       "         0.00786862, -0.02742218],\n",
       "       ...,\n",
       "       [ 0.08936108,  0.01151177,  0.06091401, ..., -0.05628559,\n",
       "        -0.03020042,  0.05164602],\n",
       "       [ 0.1433515 ,  0.01719081,  0.10126918, ..., -0.07295063,\n",
       "        -0.05011886,  0.04958069],\n",
       "       [ 0.07333668,  0.14439818,  0.09883559, ..., -0.04201012,\n",
       "        -0.02329361,  0.01381291]], dtype=float32)"
      ]
     },
     "execution_count": 8,
     "metadata": {},
     "output_type": "execute_result"
    }
   ],
   "source": [
    "train_embeddings = np.load('../input/protbert/train_embeddings.npy')\n",
    "print(train_embeddings.shape)\n",
    "\n",
    "train_embeddings[10:]"
   ]
  },
  {
   "cell_type": "code",
   "execution_count": 9,
   "id": "8f927b9d",
   "metadata": {},
   "outputs": [
    {
     "name": "stdout",
     "output_type": "stream",
     "text": [
      "(141865, 1024)\n"
     ]
    },
    {
     "data": {
      "text/plain": [
       "array([[ 0.06649183,  0.00319942,  0.04586471, ..., -0.01581855,\n",
       "        -0.09877828,  0.01703018],\n",
       "       [ 0.06693225,  0.00681594,  0.06246408, ..., -0.0151395 ,\n",
       "        -0.06438215,  0.00587138],\n",
       "       [ 0.15260948,  0.03689965,  0.08205988, ..., -0.075584  ,\n",
       "        -0.01990554, -0.01229535],\n",
       "       ...,\n",
       "       [ 0.00672094,  0.05063736,  0.06403048, ..., -0.0894379 ,\n",
       "         0.06239922,  0.0124557 ],\n",
       "       [ 0.00904713,  0.0404883 ,  0.06691992, ..., -0.09513594,\n",
       "         0.05643811,  0.01611577],\n",
       "       [-0.04431173,  0.1087536 ,  0.01108837, ..., -0.11288367,\n",
       "         0.14603603, -0.02327826]], dtype=float32)"
      ]
     },
     "execution_count": 9,
     "metadata": {},
     "output_type": "execute_result"
    }
   ],
   "source": [
    "test_embeddings = np.load('../input/protbert/test_embeddings.npy')\n",
    "print(test_embeddings.shape)\n",
    "\n",
    "test_embeddings[10:]"
   ]
  },
  {
   "cell_type": "code",
   "execution_count": null,
   "id": "11283e0e",
   "metadata": {},
   "outputs": [],
   "source": []
  }
 ],
 "metadata": {
  "kernelspec": {
   "display_name": "Python 3 (ipykernel)",
   "language": "python",
   "name": "python3"
  },
  "language_info": {
   "codemirror_mode": {
    "name": "ipython",
    "version": 3
   },
   "file_extension": ".py",
   "mimetype": "text/x-python",
   "name": "python",
   "nbconvert_exporter": "python",
   "pygments_lexer": "ipython3",
   "version": "3.9.16"
  }
 },
 "nbformat": 4,
 "nbformat_minor": 5
}
