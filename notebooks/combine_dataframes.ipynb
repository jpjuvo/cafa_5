{
 "cells": [
  {
   "cell_type": "code",
   "execution_count": 1,
   "id": "94dfd80f",
   "metadata": {},
   "outputs": [],
   "source": [
    "import pandas as pd\n",
    "import os\n",
    "import numpy as np\n",
    "import polars as pl"
   ]
  },
  {
   "cell_type": "code",
   "execution_count": 2,
   "id": "cd6fc24b",
   "metadata": {},
   "outputs": [
    {
     "name": "stdout",
     "output_type": "stream",
     "text": [
      "31466\n"
     ]
    }
   ],
   "source": [
    "def get_competition_terms():\n",
    "    train_terms_df = pl.read_csv('../input/cafa-5-protein-function-prediction/Train/train_terms.tsv', \n",
    "                separator='\\t', new_columns=['id', 'term','ont'])\n",
    "    return train_terms_df['term'].unique()\n",
    "\n",
    "targets = get_competition_terms()\n",
    "print(len(targets))"
   ]
  },
  {
   "cell_type": "code",
   "execution_count": 3,
   "id": "18b90eb0",
   "metadata": {},
   "outputs": [
    {
     "name": "stdout",
     "output_type": "stream",
     "text": [
      "141864\n"
     ]
    }
   ],
   "source": [
    "def get_competition_test_ids():\n",
    "    sample_sub = pl.read_csv('../input/cafa-5-protein-function-prediction/sample_submission.tsv', \n",
    "                separator='\\t', new_columns=['id', 'term','pred'])\n",
    "    return sample_sub['id'].unique()\n",
    "ids = get_competition_test_ids()\n",
    "print(len(ids))"
   ]
  },
  {
   "cell_type": "code",
   "execution_count": 4,
   "id": "9eac3f32",
   "metadata": {},
   "outputs": [],
   "source": [
    "def load_sub_polars(fn, th:float):\n",
    "    \"\"\" Read only rows that contain competition targets and are test proteins \"\"\"\n",
    "    # read lazyframe\n",
    "    df = pl.scan_csv(\n",
    "        fn,\n",
    "        separator='\\t', \n",
    "        has_header=False, \n",
    "        new_columns=['Protein Id', 'GO Term Id','Prediction'],\n",
    "        dtypes={'Prediction':pl.Float32}\n",
    "    )\n",
    "    return df.filter((pl.col(\"GO Term Id\").is_in(targets)) & \\\n",
    "                     (pl.col(\"Prediction\") > th) & \\\n",
    "                     (pl.col(\"Protein Id\").is_in(ids)))"
   ]
  },
  {
   "cell_type": "markdown",
   "id": "f5a13a59",
   "metadata": {},
   "source": [
    "## Concatenate DQZ ontology submissions"
   ]
  },
  {
   "cell_type": "code",
   "execution_count": 5,
   "id": "d6e7b04a",
   "metadata": {},
   "outputs": [],
   "source": [
    "suffix = '_zero_10'\n",
    "th = 0.5"
   ]
  },
  {
   "cell_type": "code",
   "execution_count": 6,
   "id": "d609b217",
   "metadata": {},
   "outputs": [],
   "source": [
    "df_dqz_bp = load_sub_polars(f'../output/DGZ/bp_th-0.1_deepgozero{suffix}_submission.tsv', th=th)\n",
    "df_dqz_mf = load_sub_polars(f'../output/DGZ/mf_th-0.1_deepgozero{suffix}_submission.tsv', th=th)\n",
    "df_dqz_cc = load_sub_polars(f'../output/DGZ/cc_th-0.1_deepgozero{suffix}_submission.tsv', th=th)"
   ]
  },
  {
   "cell_type": "code",
   "execution_count": 7,
   "id": "2b003867",
   "metadata": {},
   "outputs": [],
   "source": [
    "# Here we collect the lazyframe to df - takes lots of RAM\n",
    "df_dqz = pl.concat(\n",
    "    [df_dqz_bp, df_dqz_cc, df_dqz_mf],\n",
    "    rechunk=False,\n",
    "    parallel=False\n",
    ").collect()"
   ]
  },
  {
   "cell_type": "code",
   "execution_count": 8,
   "id": "30bfbf04",
   "metadata": {},
   "outputs": [],
   "source": [
    "df_dqz.write_csv(\n",
    "    f'../output/DGZ/th-{th}_deepgozero{suffix}_submission.tsv',\n",
    "    separator='\\t',\n",
    "    has_header=False,\n",
    "    float_precision=3\n",
    ")"
   ]
  },
  {
   "cell_type": "code",
   "execution_count": null,
   "id": "a6734ac3",
   "metadata": {},
   "outputs": [],
   "source": []
  }
 ],
 "metadata": {
  "kernelspec": {
   "display_name": "Python 3 (ipykernel)",
   "language": "python",
   "name": "python3"
  },
  "language_info": {
   "codemirror_mode": {
    "name": "ipython",
    "version": 3
   },
   "file_extension": ".py",
   "mimetype": "text/x-python",
   "name": "python",
   "nbconvert_exporter": "python",
   "pygments_lexer": "ipython3",
   "version": "3.9.16"
  }
 },
 "nbformat": 4,
 "nbformat_minor": 5
}
