{
 "cells": [
  {
   "cell_type": "code",
   "execution_count": 1,
   "id": "6a81be20",
   "metadata": {},
   "outputs": [],
   "source": [
    "import re\n",
    "import numpy as np # linear algebra\n",
    "import pandas as pd # data processing, CSV file I/O (e.g. pd.read_csv)\n",
    "import joblib\n",
    "import pickle\n",
    "from tqdm import tqdm\n",
    "from Bio import SeqIO\n",
    "import gc"
   ]
  },
  {
   "cell_type": "code",
   "execution_count": 2,
   "id": "30080bed",
   "metadata": {},
   "outputs": [],
   "source": [
    "import sys\n",
    "sys.path.append('../')\n",
    "from src.ensemble_utils import ProteinPredictions"
   ]
  },
  {
   "cell_type": "code",
   "execution_count": 3,
   "id": "56875d02",
   "metadata": {},
   "outputs": [],
   "source": [
    "def extract_go_terms_and_branches(file_path):\n",
    "    with open(file_path, 'r') as file:\n",
    "        content = file.read()\n",
    "        # Match each stanza with [Term] in the OBO file\n",
    "        stanzas = re.findall(r'\\[Term\\][\\s\\S]*?(?=\\n\\[|$)', content)\n",
    "\n",
    "    go_terms_dict = {}\n",
    "    for stanza in stanzas:\n",
    "        # Extract the GO term ID\n",
    "        go_id = re.search(r'^id: (GO:\\d+)', stanza, re.MULTILINE)\n",
    "        if go_id:\n",
    "            go_id = go_id.group(1)\n",
    "\n",
    "        # Extract the namespace (branch)\n",
    "        namespace = re.search(r'^namespace: (\\w+)', stanza, re.MULTILINE)\n",
    "        if namespace:\n",
    "            namespace = namespace.group(1)\n",
    "\n",
    "        if go_id and namespace:\n",
    "            # Map the branch abbreviation to the corresponding BPO, CCO, or MFO\n",
    "            branch_abbr = {'biological_process': 'BPO', 'cellular_component': 'CCO', 'molecular_function': 'MFO'}\n",
    "            go_terms_dict[go_id] = branch_abbr[namespace]\n",
    "\n",
    "    return go_terms_dict\n",
    "\n",
    "file_path = '../input/cafa-5-protein-function-prediction/Train/go-basic.obo'\n",
    "go_terms_dict = extract_go_terms_and_branches(file_path)"
   ]
  },
  {
   "cell_type": "markdown",
   "id": "ce207c66",
   "metadata": {},
   "source": [
    "## Ensembling Tomi's best ESM and T5 models\n",
    "\n",
    "#### LB: 0.5117"
   ]
  },
  {
   "cell_type": "code",
   "execution_count": 11,
   "id": "06eb97e5",
   "metadata": {},
   "outputs": [],
   "source": [
    "protein_predictions = ProteinPredictions()"
   ]
  },
  {
   "cell_type": "code",
   "execution_count": 12,
   "id": "0e37e402",
   "metadata": {},
   "outputs": [
    {
     "name": "stderr",
     "output_type": "stream",
     "text": [
      "9692291it [00:14, 656277.85it/s]\n"
     ]
    }
   ],
   "source": [
    "for l in tqdm(open('../input/ensemble/tomi_v2_t5_0.484.tsv')):\n",
    "    item_list = l.split('\\t')\n",
    "    temp_id = item_list[0]\n",
    "    go=item_list[1]\n",
    "    score = float(item_list[2].strip())\n",
    "    if go in go_terms_dict:\n",
    "        root = go_terms_dict[go]\n",
    "        protein_predictions.add_prediction(temp_id, go, score, root, 0, 0,1)"
   ]
  },
  {
   "cell_type": "code",
   "execution_count": 13,
   "id": "028412ff",
   "metadata": {},
   "outputs": [
    {
     "name": "stderr",
     "output_type": "stream",
     "text": [
      "9750489it [00:17, 561676.74it/s]\n"
     ]
    }
   ],
   "source": [
    "for l in tqdm(open('../input/ensemble/tomi_v9_esm2_0.495.tsv')):\n",
    "    item_list = l.split('\\t')\n",
    "    temp_id = item_list[0]\n",
    "    go=item_list[1]\n",
    "    score = float(item_list[2].strip())\n",
    "    if go in go_terms_dict:\n",
    "        root = go_terms_dict[go]\n",
    "        protein_predictions.add_prediction(temp_id, go, score, root, 0, 1,1)"
   ]
  },
  {
   "cell_type": "code",
   "execution_count": 14,
   "id": "86bb3cd2",
   "metadata": {},
   "outputs": [],
   "source": [
    "protein_predictions.get_predictions(output_file='../output/ensemble/tomi_v2_and_v9.tsv')"
   ]
  },
  {
   "cell_type": "markdown",
   "id": "afab8b49",
   "metadata": {},
   "source": [
    "## Ensembling Joni's best ESM and T5 models\n",
    "\n",
    "#### LB: 0.51415"
   ]
  },
  {
   "cell_type": "code",
   "execution_count": 15,
   "id": "c01c4be9",
   "metadata": {},
   "outputs": [],
   "source": [
    "protein_predictions = ProteinPredictions()"
   ]
  },
  {
   "cell_type": "code",
   "execution_count": 16,
   "id": "56d09b6d",
   "metadata": {},
   "outputs": [
    {
     "name": "stderr",
     "output_type": "stream",
     "text": [
      "212797500it [05:30, 644235.61it/s]\n"
     ]
    }
   ],
   "source": [
    "for l in tqdm(open('../input/ensemble/joni_v1_t5_0.478.tsv')):\n",
    "    item_list = l.split('\\t')\n",
    "    temp_id = item_list[0]\n",
    "    go=item_list[1]\n",
    "    score = float(item_list[2].strip())\n",
    "    if go in go_terms_dict:\n",
    "        root = go_terms_dict[go]\n",
    "        protein_predictions.add_prediction(temp_id, go, score, root, 0, 0,1)"
   ]
  },
  {
   "cell_type": "code",
   "execution_count": 17,
   "id": "7490b5b3",
   "metadata": {},
   "outputs": [
    {
     "name": "stderr",
     "output_type": "stream",
     "text": [
      "212797500it [06:39, 532224.98it/s]\n"
     ]
    }
   ],
   "source": [
    "for l in tqdm(open('../input/ensemble/joni_v8_esm2_f1-0.34_0.509.tsv')):\n",
    "    item_list = l.split('\\t')\n",
    "    temp_id = item_list[0]\n",
    "    go=item_list[1]\n",
    "    score = float(item_list[2].strip())\n",
    "    if go in go_terms_dict:\n",
    "        root = go_terms_dict[go]\n",
    "        protein_predictions.add_prediction(temp_id, go, score, root, 0, 1,1)"
   ]
  },
  {
   "cell_type": "code",
   "execution_count": 18,
   "id": "2170e15e",
   "metadata": {},
   "outputs": [],
   "source": [
    "protein_predictions.get_predictions(output_file='../output/ensemble/joni_v1_and_v8.tsv')"
   ]
  },
  {
   "cell_type": "markdown",
   "id": "f3bd05e5",
   "metadata": {},
   "source": [
    "## Ensembling Joni's and Tomi's ensembles\n",
    "\n",
    "#### LB: 0.51862"
   ]
  },
  {
   "cell_type": "code",
   "execution_count": 19,
   "id": "18cde5e7",
   "metadata": {},
   "outputs": [],
   "source": [
    "protein_predictions = ProteinPredictions()"
   ]
  },
  {
   "cell_type": "code",
   "execution_count": 20,
   "id": "1af9c734",
   "metadata": {},
   "outputs": [
    {
     "name": "stderr",
     "output_type": "stream",
     "text": [
      "9158397it [00:14, 624659.20it/s]\n"
     ]
    }
   ],
   "source": [
    "for l in tqdm(open('../output/ensemble/tomi_v2_and_v9.tsv')):\n",
    "    item_list = l.split('\\t')\n",
    "    temp_id = item_list[0]\n",
    "    go=item_list[1]\n",
    "    score = float(item_list[2].strip())\n",
    "    if go in go_terms_dict:\n",
    "        root = go_terms_dict[go]\n",
    "        protein_predictions.add_prediction(temp_id, go, score, root, 0, 0,1)"
   ]
  },
  {
   "cell_type": "code",
   "execution_count": 21,
   "id": "5c8cb9c0",
   "metadata": {},
   "outputs": [
    {
     "name": "stderr",
     "output_type": "stream",
     "text": [
      "17874864it [00:34, 516274.29it/s]\n"
     ]
    }
   ],
   "source": [
    "for l in tqdm(open('../output/ensemble/joni_v1_and_v8.tsv')):\n",
    "    item_list = l.split('\\t')\n",
    "    temp_id = item_list[0]\n",
    "    go=item_list[1]\n",
    "    score = float(item_list[2].strip())\n",
    "    if go in go_terms_dict:\n",
    "        root = go_terms_dict[go]\n",
    "        protein_predictions.add_prediction(temp_id, go, score, root, 0, 1,1)"
   ]
  },
  {
   "cell_type": "code",
   "execution_count": 22,
   "id": "60ab3499",
   "metadata": {},
   "outputs": [],
   "source": [
    "protein_predictions.get_predictions(output_file='../output/ensemble/joni_and_tomi_ensemble.tsv')"
   ]
  },
  {
   "cell_type": "markdown",
   "id": "590eec7e",
   "metadata": {},
   "source": [
    "## Include Diamond score\n",
    "\n",
    "#### LB: 0.53991"
   ]
  },
  {
   "cell_type": "code",
   "execution_count": 23,
   "id": "742e07a2",
   "metadata": {},
   "outputs": [],
   "source": [
    "protein_predictions = ProteinPredictions()"
   ]
  },
  {
   "cell_type": "code",
   "execution_count": 24,
   "id": "bc57c688",
   "metadata": {},
   "outputs": [
    {
     "name": "stderr",
     "output_type": "stream",
     "text": [
      "17874864it [00:26, 665294.63it/s]\n"
     ]
    }
   ],
   "source": [
    "for l in tqdm(open('../output/ensemble/joni_and_tomi_ensemble.tsv')):\n",
    "    item_list = l.split('\\t')\n",
    "    temp_id = item_list[0]\n",
    "    go=item_list[1]\n",
    "    score = float(item_list[2].strip())\n",
    "    if go in go_terms_dict:\n",
    "        root = go_terms_dict[go]\n",
    "        protein_predictions.add_prediction(temp_id, go, score, root, 0, 0,1)"
   ]
  },
  {
   "cell_type": "code",
   "execution_count": 25,
   "id": "ba720a44",
   "metadata": {},
   "outputs": [
    {
     "name": "stderr",
     "output_type": "stream",
     "text": [
      "32473384it [01:00, 540831.17it/s]\n"
     ]
    }
   ],
   "source": [
    "for l in tqdm(open('../input/ensemble/diamond_submission_netgo.tsv')):\n",
    "    item_list = l.split('\\t')\n",
    "    temp_id = item_list[0]\n",
    "    go=item_list[1]\n",
    "    score = float(item_list[2].strip())\n",
    "    if go in go_terms_dict:\n",
    "        root = go_terms_dict[go]\n",
    "        protein_predictions.add_prediction(temp_id, go, score, root, 0, 1,1)"
   ]
  },
  {
   "cell_type": "code",
   "execution_count": 26,
   "id": "66c7b665",
   "metadata": {},
   "outputs": [],
   "source": [
    "protein_predictions.get_predictions(output_file='../output/ensemble/ensemble_j_t_models_and_diamond.tsv')"
   ]
  },
  {
   "cell_type": "markdown",
   "id": "a935e228",
   "metadata": {},
   "source": [
    "## Include Public methods\n",
    "\n",
    "- [QuickGO annotations](https://www.kaggle.com/datasets/mtinti/quick-go-2022-03-02) (Some of these are not present in Private test [according to the host](https://www.kaggle.com/competitions/cafa-5-protein-function-prediction/discussion/432529#2397240), so increase in LB may not show in Private LB)\n",
    "- [Adaluo's model ensemble](https://www.kaggle.com/code/adaluodao/pytorch-keras-etc-3-blend-cafa-metric-etc) (combination of several methods) - LB:0.53605\n",
    "\n",
    "#### LB: 0.57075"
   ]
  },
  {
   "cell_type": "code",
   "execution_count": 27,
   "id": "eab6097c",
   "metadata": {},
   "outputs": [],
   "source": [
    "protein_predictions = ProteinPredictions()"
   ]
  },
  {
   "cell_type": "code",
   "execution_count": 28,
   "id": "e153d762",
   "metadata": {},
   "outputs": [
    {
     "name": "stderr",
     "output_type": "stream",
     "text": [
      "4201907it [00:07, 576952.22it/s]\n"
     ]
    }
   ],
   "source": [
    "for l in tqdm(open('../input/ensemble/quickgo.tsv')):\n",
    "    item_list = l.split('\\t')\n",
    "    temp_id = item_list[1]\n",
    "    go=item_list[2].strip()\n",
    "    score = float(1)\n",
    "    if go in go_terms_dict:\n",
    "        root = go_terms_dict[go]\n",
    "        protein_predictions.add_prediction(temp_id, go, score, root, 0, 0,1)"
   ]
  },
  {
   "cell_type": "code",
   "execution_count": 30,
   "id": "fbc99d42",
   "metadata": {},
   "outputs": [
    {
     "name": "stderr",
     "output_type": "stream",
     "text": [
      "15924702it [00:24, 654827.99it/s]\n"
     ]
    }
   ],
   "source": [
    "for l in tqdm(open('../input/ensemble/adaluo_ensembling_multiple_methods_pub.tsv')):\n",
    "    item_list = l.split('\\t')\n",
    "    temp_id = item_list[0]\n",
    "    go=item_list[1]\n",
    "    score = float(item_list[2].strip())\n",
    "    if go in go_terms_dict:\n",
    "        root = go_terms_dict[go]\n",
    "        protein_predictions.add_prediction(temp_id, go, score, root, 0, 1,1)"
   ]
  },
  {
   "cell_type": "code",
   "execution_count": 31,
   "id": "34669c7b",
   "metadata": {},
   "outputs": [
    {
     "name": "stderr",
     "output_type": "stream",
     "text": [
      "17874864it [00:31, 566392.94it/s]\n"
     ]
    }
   ],
   "source": [
    "for l in tqdm(open('../output/ensemble/ensemble_j_t_models_and_diamond.tsv')):\n",
    "    item_list = l.split('\\t')\n",
    "    temp_id = item_list[0]\n",
    "    go=item_list[1]\n",
    "    score = float(item_list[2].strip())\n",
    "    if go in go_terms_dict:\n",
    "        root = go_terms_dict[go]\n",
    "        protein_predictions.add_prediction(temp_id, go, score, root, 0, 1,1)"
   ]
  },
  {
   "cell_type": "code",
   "execution_count": 32,
   "id": "bb94e597",
   "metadata": {},
   "outputs": [],
   "source": [
    "protein_predictions.get_predictions(output_file='../output/ensemble/QuickGO_Adaluo_J_T_diamond_ensemble.tsv')"
   ]
  },
  {
   "cell_type": "markdown",
   "id": "6aa8cb64",
   "metadata": {},
   "source": [
    "## Public 2\n",
    "\n",
    "- Increase top=42 -> 50 Go Terms to include in sub\n",
    "\n",
    "#### LB: 0.57033\n",
    "\n",
    "Only a small effect and made the LB worse."
   ]
  },
  {
   "cell_type": "code",
   "execution_count": 4,
   "id": "b0404339",
   "metadata": {},
   "outputs": [],
   "source": [
    "protein_predictions = ProteinPredictions()"
   ]
  },
  {
   "cell_type": "code",
   "execution_count": 5,
   "id": "be9ddaef",
   "metadata": {},
   "outputs": [
    {
     "name": "stderr",
     "output_type": "stream",
     "text": [
      "4201907it [00:07, 560477.80it/s]\n"
     ]
    }
   ],
   "source": [
    "for l in tqdm(open('../input/ensemble/quickgo.tsv')):\n",
    "    item_list = l.split('\\t')\n",
    "    temp_id = item_list[1]\n",
    "    go=item_list[2].strip()\n",
    "    score = float(1)\n",
    "    if go in go_terms_dict:\n",
    "        root = go_terms_dict[go]\n",
    "        protein_predictions.add_prediction(temp_id, go, score, root, 0, 0,1)"
   ]
  },
  {
   "cell_type": "code",
   "execution_count": 6,
   "id": "cf4dcf9d",
   "metadata": {},
   "outputs": [
    {
     "name": "stderr",
     "output_type": "stream",
     "text": [
      "15924702it [00:24, 652203.71it/s]\n"
     ]
    }
   ],
   "source": [
    "for l in tqdm(open('../input/ensemble/adaluo_ensembling_multiple_methods_pub.tsv')):\n",
    "    item_list = l.split('\\t')\n",
    "    temp_id = item_list[0]\n",
    "    go=item_list[1]\n",
    "    score = float(item_list[2].strip())\n",
    "    if go in go_terms_dict:\n",
    "        root = go_terms_dict[go]\n",
    "        protein_predictions.add_prediction(temp_id, go, score, root, 0, 1,1)"
   ]
  },
  {
   "cell_type": "code",
   "execution_count": 7,
   "id": "85e23058",
   "metadata": {},
   "outputs": [
    {
     "name": "stderr",
     "output_type": "stream",
     "text": [
      "17874864it [00:31, 576582.32it/s]\n"
     ]
    }
   ],
   "source": [
    "for l in tqdm(open('../output/ensemble/ensemble_j_t_models_and_diamond.tsv')):\n",
    "    item_list = l.split('\\t')\n",
    "    temp_id = item_list[0]\n",
    "    go=item_list[1]\n",
    "    score = float(item_list[2].strip())\n",
    "    if go in go_terms_dict:\n",
    "        root = go_terms_dict[go]\n",
    "        protein_predictions.add_prediction(temp_id, go, score, root, 0, 1,1)"
   ]
  },
  {
   "cell_type": "code",
   "execution_count": 8,
   "id": "4467f419",
   "metadata": {},
   "outputs": [],
   "source": [
    "protein_predictions.get_predictions(\n",
    "    output_file='../output/ensemble/QuickGO_Adaluo_J_T_diamond_ensemble_top50.tsv',\n",
    "    top=50\n",
    ")"
   ]
  },
  {
   "cell_type": "markdown",
   "id": "3962d743",
   "metadata": {},
   "source": [
    "## Public 3\n",
    "\n",
    "- Reduce weighting for own models from 1:1 to 1:0.5.\n",
    "\n",
    "#### LB: 0.57308"
   ]
  },
  {
   "cell_type": "code",
   "execution_count": 9,
   "id": "8b25f639",
   "metadata": {},
   "outputs": [],
   "source": [
    "protein_predictions = ProteinPredictions()"
   ]
  },
  {
   "cell_type": "code",
   "execution_count": 10,
   "id": "3b98820e",
   "metadata": {},
   "outputs": [
    {
     "name": "stderr",
     "output_type": "stream",
     "text": [
      "4201907it [00:07, 564458.63it/s]\n"
     ]
    }
   ],
   "source": [
    "for l in tqdm(open('../input/ensemble/quickgo.tsv')):\n",
    "    item_list = l.split('\\t')\n",
    "    temp_id = item_list[1]\n",
    "    go=item_list[2].strip()\n",
    "    score = float(1)\n",
    "    if go in go_terms_dict:\n",
    "        root = go_terms_dict[go]\n",
    "        protein_predictions.add_prediction(temp_id, go, score, root, 0, 0,1)"
   ]
  },
  {
   "cell_type": "code",
   "execution_count": 11,
   "id": "59cddd51",
   "metadata": {},
   "outputs": [
    {
     "name": "stderr",
     "output_type": "stream",
     "text": [
      "15924702it [00:25, 630272.93it/s]\n"
     ]
    }
   ],
   "source": [
    "for l in tqdm(open('../input/ensemble/adaluo_ensembling_multiple_methods_pub.tsv')):\n",
    "    item_list = l.split('\\t')\n",
    "    temp_id = item_list[0]\n",
    "    go=item_list[1]\n",
    "    score = float(item_list[2].strip())\n",
    "    if go in go_terms_dict:\n",
    "        root = go_terms_dict[go]\n",
    "        protein_predictions.add_prediction(temp_id, go, score, root, 0, 1,1)"
   ]
  },
  {
   "cell_type": "code",
   "execution_count": 12,
   "id": "3ecc418e",
   "metadata": {},
   "outputs": [
    {
     "name": "stderr",
     "output_type": "stream",
     "text": [
      "17874864it [00:31, 573344.11it/s]\n"
     ]
    }
   ],
   "source": [
    "for l in tqdm(open('../output/ensemble/ensemble_j_t_models_and_diamond.tsv')):\n",
    "    item_list = l.split('\\t')\n",
    "    temp_id = item_list[0]\n",
    "    go=item_list[1]\n",
    "    score = float(item_list[2].strip())\n",
    "    if go in go_terms_dict:\n",
    "        root = go_terms_dict[go]\n",
    "        protein_predictions.add_prediction(temp_id, go, score, root, 0, 1, 0.5)"
   ]
  },
  {
   "cell_type": "code",
   "execution_count": 13,
   "id": "08641a3b",
   "metadata": {},
   "outputs": [],
   "source": [
    "protein_predictions.get_predictions(\n",
    "    output_file='../output/ensemble/QuickGO_Adaluo_J_T_diamond_ensemble_own-w-0.5.tsv',\n",
    ")"
   ]
  },
  {
   "cell_type": "markdown",
   "id": "0d6f7388",
   "metadata": {},
   "source": [
    "## Public 4\n",
    "\n",
    "- Add [Blast predictions](https://www.kaggle.com/datasets/samusram/proteinet-best)\n",
    "- Keep lower weights in ensembling blast and own ensemble.\n",
    "\n",
    "#### LB: 0.56276\n",
    "\n",
    "Drop in LB."
   ]
  },
  {
   "cell_type": "code",
   "execution_count": 14,
   "id": "5c1227c1",
   "metadata": {},
   "outputs": [],
   "source": [
    "protein_predictions = ProteinPredictions()"
   ]
  },
  {
   "cell_type": "code",
   "execution_count": 15,
   "id": "e1844a7d",
   "metadata": {},
   "outputs": [
    {
     "name": "stderr",
     "output_type": "stream",
     "text": [
      "4201907it [00:07, 567498.53it/s]\n"
     ]
    }
   ],
   "source": [
    "for l in tqdm(open('../input/ensemble/quickgo.tsv')):\n",
    "    item_list = l.split('\\t')\n",
    "    temp_id = item_list[1]\n",
    "    go=item_list[2].strip()\n",
    "    score = float(1)\n",
    "    if go in go_terms_dict:\n",
    "        root = go_terms_dict[go]\n",
    "        protein_predictions.add_prediction(temp_id, go, score, root, 0, 0,1)"
   ]
  },
  {
   "cell_type": "code",
   "execution_count": 16,
   "id": "6958f77b",
   "metadata": {},
   "outputs": [
    {
     "name": "stderr",
     "output_type": "stream",
     "text": [
      "15924702it [00:25, 627569.83it/s]\n"
     ]
    }
   ],
   "source": [
    "for l in tqdm(open('../input/ensemble/adaluo_ensembling_multiple_methods_pub.tsv')):\n",
    "    item_list = l.split('\\t')\n",
    "    temp_id = item_list[0]\n",
    "    go=item_list[1]\n",
    "    score = float(item_list[2].strip())\n",
    "    if go in go_terms_dict:\n",
    "        root = go_terms_dict[go]\n",
    "        protein_predictions.add_prediction(temp_id, go, score, root, 0, 1,1)"
   ]
  },
  {
   "cell_type": "code",
   "execution_count": 18,
   "id": "8d05793d",
   "metadata": {},
   "outputs": [
    {
     "name": "stderr",
     "output_type": "stream",
     "text": [
      "15013787it [00:28, 526411.30it/s]\n"
     ]
    }
   ],
   "source": [
    "for l in tqdm(open('../input/ensemble/blast_submission.tsv')):\n",
    "    item_list = l.split('\\t')\n",
    "    temp_id = item_list[1]\n",
    "    go=item_list[2]\n",
    "    score = float(item_list[3].strip())\n",
    "    if go in go_terms_dict:\n",
    "        root = go_terms_dict[go]\n",
    "        protein_predictions.add_prediction(temp_id, go, score, root, 0, 1, 0.5)"
   ]
  },
  {
   "cell_type": "code",
   "execution_count": 19,
   "id": "cacdef1c",
   "metadata": {},
   "outputs": [
    {
     "name": "stderr",
     "output_type": "stream",
     "text": [
      "17874864it [00:32, 547953.27it/s]\n"
     ]
    }
   ],
   "source": [
    "for l in tqdm(open('../output/ensemble/ensemble_j_t_models_and_diamond.tsv')):\n",
    "    item_list = l.split('\\t')\n",
    "    temp_id = item_list[0]\n",
    "    go=item_list[1]\n",
    "    score = float(item_list[2].strip())\n",
    "    if go in go_terms_dict:\n",
    "        root = go_terms_dict[go]\n",
    "        protein_predictions.add_prediction(temp_id, go, score, root, 0, 1, 0.5)"
   ]
  },
  {
   "cell_type": "code",
   "execution_count": 20,
   "id": "de36f0c3",
   "metadata": {},
   "outputs": [],
   "source": [
    "protein_predictions.get_predictions(\n",
    "    output_file='../output/ensemble/QuickGO_Adaluo_blast_J_T_diamond_ensemble_own-w-0.5.tsv',\n",
    ")"
   ]
  },
  {
   "cell_type": "markdown",
   "id": "7e065876",
   "metadata": {},
   "source": [
    "## Public 5\n",
    "\n",
    "- Add [SiddhVR's predictions](https://www.kaggle.com/code/siddhvr/cafa5-ems2-embeds-with-pytorch/output). These were obtained by training model on BlastP, Sprof, QuickGo and DeeepGoZero\n",
    "- Keep lower weights in ensembling own ensemble.\n",
    "\n",
    "#### LB: 0.56751"
   ]
  },
  {
   "cell_type": "code",
   "execution_count": 21,
   "id": "0fc15630",
   "metadata": {},
   "outputs": [],
   "source": [
    "protein_predictions = ProteinPredictions()"
   ]
  },
  {
   "cell_type": "code",
   "execution_count": 22,
   "id": "984ed236",
   "metadata": {},
   "outputs": [
    {
     "name": "stderr",
     "output_type": "stream",
     "text": [
      "4201907it [00:07, 573614.68it/s]\n"
     ]
    }
   ],
   "source": [
    "for l in tqdm(open('../input/ensemble/quickgo.tsv')):\n",
    "    item_list = l.split('\\t')\n",
    "    temp_id = item_list[1]\n",
    "    go=item_list[2].strip()\n",
    "    score = float(1)\n",
    "    if go in go_terms_dict:\n",
    "        root = go_terms_dict[go]\n",
    "        protein_predictions.add_prediction(temp_id, go, score, root, 0, 0,1)"
   ]
  },
  {
   "cell_type": "code",
   "execution_count": 23,
   "id": "e722eb51",
   "metadata": {},
   "outputs": [
    {
     "name": "stderr",
     "output_type": "stream",
     "text": [
      "15924702it [00:24, 641373.17it/s]\n"
     ]
    }
   ],
   "source": [
    "for l in tqdm(open('../input/ensemble/adaluo_ensembling_multiple_methods_pub.tsv')):\n",
    "    item_list = l.split('\\t')\n",
    "    temp_id = item_list[0]\n",
    "    go=item_list[1]\n",
    "    score = float(item_list[2].strip())\n",
    "    if go in go_terms_dict:\n",
    "        root = go_terms_dict[go]\n",
    "        protein_predictions.add_prediction(temp_id, go, score, root, 0, 1,1)"
   ]
  },
  {
   "cell_type": "code",
   "execution_count": 24,
   "id": "d7d64731",
   "metadata": {},
   "outputs": [
    {
     "name": "stderr",
     "output_type": "stream",
     "text": [
      "75255907it [01:04, 1172039.61it/s]\n"
     ]
    }
   ],
   "source": [
    "for l in tqdm(open('../input/ensemble/siddhvr_best_pub.tsv')):\n",
    "    item_list = l.split('\\t')\n",
    "    temp_id = item_list[0]\n",
    "    go=item_list[1]\n",
    "    score = float(item_list[2].strip())\n",
    "    if go in go_terms_dict:\n",
    "        root = go_terms_dict[go]\n",
    "        protein_predictions.add_prediction(temp_id, go, score, root, 0, 1,1)"
   ]
  },
  {
   "cell_type": "code",
   "execution_count": 25,
   "id": "f00e8f2e",
   "metadata": {},
   "outputs": [
    {
     "name": "stderr",
     "output_type": "stream",
     "text": [
      "17874864it [00:31, 568973.34it/s]\n"
     ]
    }
   ],
   "source": [
    "for l in tqdm(open('../output/ensemble/ensemble_j_t_models_and_diamond.tsv')):\n",
    "    item_list = l.split('\\t')\n",
    "    temp_id = item_list[0]\n",
    "    go=item_list[1]\n",
    "    score = float(item_list[2].strip())\n",
    "    if go in go_terms_dict:\n",
    "        root = go_terms_dict[go]\n",
    "        protein_predictions.add_prediction(temp_id, go, score, root, 0, 1, 0.5)"
   ]
  },
  {
   "cell_type": "code",
   "execution_count": 26,
   "id": "78926d3a",
   "metadata": {},
   "outputs": [],
   "source": [
    "protein_predictions.get_predictions(\n",
    "    output_file='../output/ensemble/QuickGO_Adaluo_SiddhVR_J_T_diamond_ensemble_own-w-0.5.tsv',\n",
    ")"
   ]
  },
  {
   "cell_type": "code",
   "execution_count": null,
   "id": "63517740",
   "metadata": {},
   "outputs": [],
   "source": []
  }
 ],
 "metadata": {
  "kernelspec": {
   "display_name": "Python 3 (ipykernel)",
   "language": "python",
   "name": "python3"
  },
  "language_info": {
   "codemirror_mode": {
    "name": "ipython",
    "version": 3
   },
   "file_extension": ".py",
   "mimetype": "text/x-python",
   "name": "python",
   "nbconvert_exporter": "python",
   "pygments_lexer": "ipython3",
   "version": "3.9.16"
  }
 },
 "nbformat": 4,
 "nbformat_minor": 5
}
