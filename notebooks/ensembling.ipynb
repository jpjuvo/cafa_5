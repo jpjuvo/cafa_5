{
 "cells": [
  {
   "cell_type": "code",
   "execution_count": 3,
   "id": "5a5e8516",
   "metadata": {},
   "outputs": [],
   "source": [
    "import re\n",
    "import numpy as np # linear algebra\n",
    "import pandas as pd # data processing, CSV file I/O (e.g. pd.read_csv)\n",
    "import joblib\n",
    "import pickle\n",
    "from tqdm import tqdm\n",
    "from Bio import SeqIO\n",
    "import gc"
   ]
  },
  {
   "cell_type": "code",
   "execution_count": 4,
   "id": "f5e3a8a9",
   "metadata": {},
   "outputs": [],
   "source": [
    "import sys\n",
    "sys.path.append('../')\n",
    "from src.ensemble_utils import ProteinPredictions"
   ]
  },
  {
   "cell_type": "code",
   "execution_count": 5,
   "id": "8181402a",
   "metadata": {},
   "outputs": [],
   "source": [
    "def extract_go_terms_and_branches(file_path):\n",
    "    with open(file_path, 'r') as file:\n",
    "        content = file.read()\n",
    "        # Match each stanza with [Term] in the OBO file\n",
    "        stanzas = re.findall(r'\\[Term\\][\\s\\S]*?(?=\\n\\[|$)', content)\n",
    "\n",
    "    go_terms_dict = {}\n",
    "    for stanza in stanzas:\n",
    "        # Extract the GO term ID\n",
    "        go_id = re.search(r'^id: (GO:\\d+)', stanza, re.MULTILINE)\n",
    "        if go_id:\n",
    "            go_id = go_id.group(1)\n",
    "\n",
    "        # Extract the namespace (branch)\n",
    "        namespace = re.search(r'^namespace: (\\w+)', stanza, re.MULTILINE)\n",
    "        if namespace:\n",
    "            namespace = namespace.group(1)\n",
    "\n",
    "        if go_id and namespace:\n",
    "            # Map the branch abbreviation to the corresponding BPO, CCO, or MFO\n",
    "            branch_abbr = {'biological_process': 'BPO', 'cellular_component': 'CCO', 'molecular_function': 'MFO'}\n",
    "            go_terms_dict[go_id] = branch_abbr[namespace]\n",
    "\n",
    "    return go_terms_dict\n",
    "\n",
    "file_path = '../input/cafa-5-protein-function-prediction/Train/go-basic.obo'\n",
    "go_terms_dict = extract_go_terms_and_branches(file_path)"
   ]
  },
  {
   "cell_type": "markdown",
   "id": "aa45cb78",
   "metadata": {},
   "source": [
    "## Ensembling Tomi's best ESM and T5 models\n",
    "\n",
    "#### LB: 0.5117"
   ]
  },
  {
   "cell_type": "code",
   "execution_count": 11,
   "id": "ebe4f0a6",
   "metadata": {},
   "outputs": [],
   "source": [
    "protein_predictions = ProteinPredictions()"
   ]
  },
  {
   "cell_type": "code",
   "execution_count": 12,
   "id": "68c1dcd5",
   "metadata": {},
   "outputs": [
    {
     "name": "stderr",
     "output_type": "stream",
     "text": [
      "9692291it [00:14, 656277.85it/s]\n"
     ]
    }
   ],
   "source": [
    "for l in tqdm(open('../input/ensemble/tomi_v2_t5_0.484.tsv')):\n",
    "    item_list = l.split('\\t')\n",
    "    temp_id = item_list[0]\n",
    "    go=item_list[1]\n",
    "    score = float(item_list[2].strip())\n",
    "    if go in go_terms_dict:\n",
    "        root = go_terms_dict[go]\n",
    "        protein_predictions.add_prediction(temp_id, go, score, root, 0, 0,1)"
   ]
  },
  {
   "cell_type": "code",
   "execution_count": 13,
   "id": "c226569e",
   "metadata": {},
   "outputs": [
    {
     "name": "stderr",
     "output_type": "stream",
     "text": [
      "9750489it [00:17, 561676.74it/s]\n"
     ]
    }
   ],
   "source": [
    "for l in tqdm(open('../input/ensemble/tomi_v9_esm2_0.495.tsv')):\n",
    "    item_list = l.split('\\t')\n",
    "    temp_id = item_list[0]\n",
    "    go=item_list[1]\n",
    "    score = float(item_list[2].strip())\n",
    "    if go in go_terms_dict:\n",
    "        root = go_terms_dict[go]\n",
    "        protein_predictions.add_prediction(temp_id, go, score, root, 0, 1,1)"
   ]
  },
  {
   "cell_type": "code",
   "execution_count": 14,
   "id": "c07a8e74",
   "metadata": {},
   "outputs": [],
   "source": [
    "protein_predictions.get_predictions(output_file='../output/ensemble/tomi_v2_and_v9.tsv')"
   ]
  },
  {
   "cell_type": "markdown",
   "id": "ae799537",
   "metadata": {},
   "source": [
    "## Ensembling Joni's best ESM and T5 models\n",
    "\n",
    "#### LB: 0.51415"
   ]
  },
  {
   "cell_type": "code",
   "execution_count": 15,
   "id": "9dfe4a99",
   "metadata": {},
   "outputs": [],
   "source": [
    "protein_predictions = ProteinPredictions()"
   ]
  },
  {
   "cell_type": "code",
   "execution_count": 16,
   "id": "3125f11e",
   "metadata": {},
   "outputs": [
    {
     "name": "stderr",
     "output_type": "stream",
     "text": [
      "212797500it [05:30, 644235.61it/s]\n"
     ]
    }
   ],
   "source": [
    "for l in tqdm(open('../input/ensemble/joni_v1_t5_0.478.tsv')):\n",
    "    item_list = l.split('\\t')\n",
    "    temp_id = item_list[0]\n",
    "    go=item_list[1]\n",
    "    score = float(item_list[2].strip())\n",
    "    if go in go_terms_dict:\n",
    "        root = go_terms_dict[go]\n",
    "        protein_predictions.add_prediction(temp_id, go, score, root, 0, 0,1)"
   ]
  },
  {
   "cell_type": "code",
   "execution_count": 17,
   "id": "ebb05e5f",
   "metadata": {},
   "outputs": [
    {
     "name": "stderr",
     "output_type": "stream",
     "text": [
      "212797500it [06:39, 532224.98it/s]\n"
     ]
    }
   ],
   "source": [
    "for l in tqdm(open('../input/ensemble/joni_v8_esm2_f1-0.34_0.509.tsv')):\n",
    "    item_list = l.split('\\t')\n",
    "    temp_id = item_list[0]\n",
    "    go=item_list[1]\n",
    "    score = float(item_list[2].strip())\n",
    "    if go in go_terms_dict:\n",
    "        root = go_terms_dict[go]\n",
    "        protein_predictions.add_prediction(temp_id, go, score, root, 0, 1,1)"
   ]
  },
  {
   "cell_type": "code",
   "execution_count": 18,
   "id": "0613add9",
   "metadata": {},
   "outputs": [],
   "source": [
    "protein_predictions.get_predictions(output_file='../output/ensemble/joni_v1_and_v8.tsv')"
   ]
  },
  {
   "cell_type": "markdown",
   "id": "37164a0b",
   "metadata": {},
   "source": [
    "## Ensembling Joni's and Tomi's ensembles\n",
    "\n",
    "#### LB: 0.51862"
   ]
  },
  {
   "cell_type": "code",
   "execution_count": 19,
   "id": "71a0b019",
   "metadata": {},
   "outputs": [],
   "source": [
    "protein_predictions = ProteinPredictions()"
   ]
  },
  {
   "cell_type": "code",
   "execution_count": 20,
   "id": "9f1f14d7",
   "metadata": {},
   "outputs": [
    {
     "name": "stderr",
     "output_type": "stream",
     "text": [
      "9158397it [00:14, 624659.20it/s]\n"
     ]
    }
   ],
   "source": [
    "for l in tqdm(open('../output/ensemble/tomi_v2_and_v9.tsv')):\n",
    "    item_list = l.split('\\t')\n",
    "    temp_id = item_list[0]\n",
    "    go=item_list[1]\n",
    "    score = float(item_list[2].strip())\n",
    "    if go in go_terms_dict:\n",
    "        root = go_terms_dict[go]\n",
    "        protein_predictions.add_prediction(temp_id, go, score, root, 0, 0,1)"
   ]
  },
  {
   "cell_type": "code",
   "execution_count": 21,
   "id": "4b75e022",
   "metadata": {},
   "outputs": [
    {
     "name": "stderr",
     "output_type": "stream",
     "text": [
      "17874864it [00:34, 516274.29it/s]\n"
     ]
    }
   ],
   "source": [
    "for l in tqdm(open('../output/ensemble/joni_v1_and_v8.tsv')):\n",
    "    item_list = l.split('\\t')\n",
    "    temp_id = item_list[0]\n",
    "    go=item_list[1]\n",
    "    score = float(item_list[2].strip())\n",
    "    if go in go_terms_dict:\n",
    "        root = go_terms_dict[go]\n",
    "        protein_predictions.add_prediction(temp_id, go, score, root, 0, 1,1)"
   ]
  },
  {
   "cell_type": "code",
   "execution_count": 22,
   "id": "499d622c",
   "metadata": {},
   "outputs": [],
   "source": [
    "protein_predictions.get_predictions(output_file='../output/ensemble/joni_and_tomi_ensemble.tsv')"
   ]
  },
  {
   "cell_type": "markdown",
   "id": "0a1aeb48",
   "metadata": {},
   "source": [
    "## Include Diamond score\n",
    "\n",
    "#### LB: 0.53991"
   ]
  },
  {
   "cell_type": "code",
   "execution_count": 23,
   "id": "515846ab",
   "metadata": {},
   "outputs": [],
   "source": [
    "protein_predictions = ProteinPredictions()"
   ]
  },
  {
   "cell_type": "code",
   "execution_count": 24,
   "id": "5181e382",
   "metadata": {},
   "outputs": [
    {
     "name": "stderr",
     "output_type": "stream",
     "text": [
      "17874864it [00:26, 665294.63it/s]\n"
     ]
    }
   ],
   "source": [
    "for l in tqdm(open('../output/ensemble/joni_and_tomi_ensemble.tsv')):\n",
    "    item_list = l.split('\\t')\n",
    "    temp_id = item_list[0]\n",
    "    go=item_list[1]\n",
    "    score = float(item_list[2].strip())\n",
    "    if go in go_terms_dict:\n",
    "        root = go_terms_dict[go]\n",
    "        protein_predictions.add_prediction(temp_id, go, score, root, 0, 0,1)"
   ]
  },
  {
   "cell_type": "code",
   "execution_count": 25,
   "id": "8b5969a1",
   "metadata": {},
   "outputs": [
    {
     "name": "stderr",
     "output_type": "stream",
     "text": [
      "32473384it [01:00, 540831.17it/s]\n"
     ]
    }
   ],
   "source": [
    "for l in tqdm(open('../input/ensemble/diamond_submission_netgo.tsv')):\n",
    "    item_list = l.split('\\t')\n",
    "    temp_id = item_list[0]\n",
    "    go=item_list[1]\n",
    "    score = float(item_list[2].strip())\n",
    "    if go in go_terms_dict:\n",
    "        root = go_terms_dict[go]\n",
    "        protein_predictions.add_prediction(temp_id, go, score, root, 0, 1,1)"
   ]
  },
  {
   "cell_type": "code",
   "execution_count": 26,
   "id": "e5521851",
   "metadata": {},
   "outputs": [],
   "source": [
    "protein_predictions.get_predictions(output_file='../output/ensemble/ensemble_j_t_models_and_diamond.tsv')"
   ]
  },
  {
   "cell_type": "markdown",
   "id": "5a0c1ca2",
   "metadata": {},
   "source": [
    "## Include Public methods\n",
    "\n",
    "- [QuickGO annotations](https://www.kaggle.com/datasets/mtinti/quick-go-2022-03-02) (Some of these are not present in Private test [according to the host](https://www.kaggle.com/competitions/cafa-5-protein-function-prediction/discussion/432529#2397240), so increase in LB may not show in Private LB)\n",
    "- [Adaluo's model ensemble](https://www.kaggle.com/code/adaluodao/pytorch-keras-etc-3-blend-cafa-metric-etc) (combination of several methods) - LB:0.53605\n",
    "\n",
    "#### LB: 0.57075"
   ]
  },
  {
   "cell_type": "code",
   "execution_count": 27,
   "id": "69920bea",
   "metadata": {},
   "outputs": [],
   "source": [
    "protein_predictions = ProteinPredictions()"
   ]
  },
  {
   "cell_type": "code",
   "execution_count": 28,
   "id": "93c2892a",
   "metadata": {},
   "outputs": [
    {
     "name": "stderr",
     "output_type": "stream",
     "text": [
      "4201907it [00:07, 576952.22it/s]\n"
     ]
    }
   ],
   "source": [
    "for l in tqdm(open('../input/ensemble/quickgo.tsv')):\n",
    "    item_list = l.split('\\t')\n",
    "    temp_id = item_list[1]\n",
    "    go=item_list[2].strip()\n",
    "    score = float(1)\n",
    "    if go in go_terms_dict:\n",
    "        root = go_terms_dict[go]\n",
    "        protein_predictions.add_prediction(temp_id, go, score, root, 0, 0,1)"
   ]
  },
  {
   "cell_type": "code",
   "execution_count": 30,
   "id": "d88f6904",
   "metadata": {},
   "outputs": [
    {
     "name": "stderr",
     "output_type": "stream",
     "text": [
      "15924702it [00:24, 654827.99it/s]\n"
     ]
    }
   ],
   "source": [
    "for l in tqdm(open('../input/ensemble/adaluo_ensembling_multiple_methods_pub.tsv')):\n",
    "    item_list = l.split('\\t')\n",
    "    temp_id = item_list[0]\n",
    "    go=item_list[1]\n",
    "    score = float(item_list[2].strip())\n",
    "    if go in go_terms_dict:\n",
    "        root = go_terms_dict[go]\n",
    "        protein_predictions.add_prediction(temp_id, go, score, root, 0, 1,1)"
   ]
  },
  {
   "cell_type": "code",
   "execution_count": 31,
   "id": "c9355993",
   "metadata": {},
   "outputs": [
    {
     "name": "stderr",
     "output_type": "stream",
     "text": [
      "17874864it [00:31, 566392.94it/s]\n"
     ]
    }
   ],
   "source": [
    "for l in tqdm(open('../output/ensemble/ensemble_j_t_models_and_diamond.tsv')):\n",
    "    item_list = l.split('\\t')\n",
    "    temp_id = item_list[0]\n",
    "    go=item_list[1]\n",
    "    score = float(item_list[2].strip())\n",
    "    if go in go_terms_dict:\n",
    "        root = go_terms_dict[go]\n",
    "        protein_predictions.add_prediction(temp_id, go, score, root, 0, 1,1)"
   ]
  },
  {
   "cell_type": "code",
   "execution_count": 32,
   "id": "9bd60c31",
   "metadata": {},
   "outputs": [],
   "source": [
    "protein_predictions.get_predictions(output_file='../output/ensemble/QuickGO_Adaluo_J_T_diamond_ensemble.tsv')"
   ]
  },
  {
   "cell_type": "markdown",
   "id": "4214e8dd",
   "metadata": {},
   "source": [
    "# Things to try\n",
    "\n",
    "- Increase top=42 Go Terms ot include in training "
   ]
  },
  {
   "cell_type": "code",
   "execution_count": null,
   "id": "7daa7577",
   "metadata": {},
   "outputs": [],
   "source": []
  }
 ],
 "metadata": {
  "kernelspec": {
   "display_name": "Python 3 (ipykernel)",
   "language": "python",
   "name": "python3"
  },
  "language_info": {
   "codemirror_mode": {
    "name": "ipython",
    "version": 3
   },
   "file_extension": ".py",
   "mimetype": "text/x-python",
   "name": "python",
   "nbconvert_exporter": "python",
   "pygments_lexer": "ipython3",
   "version": "3.9.16"
  }
 },
 "nbformat": 4,
 "nbformat_minor": 5
}
