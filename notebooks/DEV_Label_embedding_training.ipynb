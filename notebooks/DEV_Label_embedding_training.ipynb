{
 "cells": [
  {
   "cell_type": "code",
   "execution_count": 1,
   "id": "b8df2c6c",
   "metadata": {},
   "outputs": [],
   "source": [
    "import torch\n",
    "import torch.nn as nn\n",
    "import torch.nn.functional as F\n",
    "from torch.utils.data import Dataset, DataLoader\n",
    "from torch.utils.data.sampler import RandomSampler, SequentialSampler\n",
    "import pandas as pd\n",
    "import numpy as np\n",
    "import os\n",
    "from datetime import datetime\n",
    "import seaborn as sns\n",
    "import matplotlib.pyplot as plt\n",
    "from tqdm.auto import tqdm\n",
    "from sklearn.model_selection import StratifiedKFold, KFold\n",
    "import gc\n",
    "import wandb"
   ]
  },
  {
   "cell_type": "code",
   "execution_count": 2,
   "id": "6166de4b",
   "metadata": {},
   "outputs": [
    {
     "name": "stdout",
     "output_type": "stream",
     "text": [
      "(5363863, 3)\n"
     ]
    },
    {
     "data": {
      "text/html": [
       "<div>\n",
       "<style scoped>\n",
       "    .dataframe tbody tr th:only-of-type {\n",
       "        vertical-align: middle;\n",
       "    }\n",
       "\n",
       "    .dataframe tbody tr th {\n",
       "        vertical-align: top;\n",
       "    }\n",
       "\n",
       "    .dataframe thead th {\n",
       "        text-align: right;\n",
       "    }\n",
       "</style>\n",
       "<table border=\"1\" class=\"dataframe\">\n",
       "  <thead>\n",
       "    <tr style=\"text-align: right;\">\n",
       "      <th></th>\n",
       "      <th>EntryID</th>\n",
       "      <th>term</th>\n",
       "      <th>aspect</th>\n",
       "    </tr>\n",
       "  </thead>\n",
       "  <tbody>\n",
       "    <tr>\n",
       "      <th>0</th>\n",
       "      <td>A0A009IHW8</td>\n",
       "      <td>GO:0008152</td>\n",
       "      <td>BPO</td>\n",
       "    </tr>\n",
       "    <tr>\n",
       "      <th>1</th>\n",
       "      <td>A0A009IHW8</td>\n",
       "      <td>GO:0034655</td>\n",
       "      <td>BPO</td>\n",
       "    </tr>\n",
       "    <tr>\n",
       "      <th>2</th>\n",
       "      <td>A0A009IHW8</td>\n",
       "      <td>GO:0072523</td>\n",
       "      <td>BPO</td>\n",
       "    </tr>\n",
       "    <tr>\n",
       "      <th>3</th>\n",
       "      <td>A0A009IHW8</td>\n",
       "      <td>GO:0044270</td>\n",
       "      <td>BPO</td>\n",
       "    </tr>\n",
       "    <tr>\n",
       "      <th>4</th>\n",
       "      <td>A0A009IHW8</td>\n",
       "      <td>GO:0006753</td>\n",
       "      <td>BPO</td>\n",
       "    </tr>\n",
       "  </tbody>\n",
       "</table>\n",
       "</div>"
      ],
      "text/plain": [
       "      EntryID        term aspect\n",
       "0  A0A009IHW8  GO:0008152    BPO\n",
       "1  A0A009IHW8  GO:0034655    BPO\n",
       "2  A0A009IHW8  GO:0072523    BPO\n",
       "3  A0A009IHW8  GO:0044270    BPO\n",
       "4  A0A009IHW8  GO:0006753    BPO"
      ]
     },
     "execution_count": 2,
     "metadata": {},
     "output_type": "execute_result"
    }
   ],
   "source": [
    "train_terms = pd.read_csv(\"../input/cafa-5-protein-function-prediction/Train/train_terms.tsv\",sep=\"\\t\")\n",
    "print(train_terms.shape)\n",
    "train_terms.head()"
   ]
  },
  {
   "cell_type": "code",
   "execution_count": 3,
   "id": "fe396440",
   "metadata": {},
   "outputs": [
    {
     "data": {
      "text/html": [
       "<div>\n",
       "<style scoped>\n",
       "    .dataframe tbody tr th:only-of-type {\n",
       "        vertical-align: middle;\n",
       "    }\n",
       "\n",
       "    .dataframe tbody tr th {\n",
       "        vertical-align: top;\n",
       "    }\n",
       "\n",
       "    .dataframe thead th {\n",
       "        text-align: right;\n",
       "    }\n",
       "</style>\n",
       "<table border=\"1\" class=\"dataframe\">\n",
       "  <thead>\n",
       "    <tr style=\"text-align: right;\">\n",
       "      <th></th>\n",
       "      <th>EntryID</th>\n",
       "      <th>term</th>\n",
       "      <th>aspect</th>\n",
       "    </tr>\n",
       "  </thead>\n",
       "  <tbody>\n",
       "    <tr>\n",
       "      <th>5363858</th>\n",
       "      <td>X5L565</td>\n",
       "      <td>GO:0050649</td>\n",
       "      <td>MFO</td>\n",
       "    </tr>\n",
       "    <tr>\n",
       "      <th>5363859</th>\n",
       "      <td>X5L565</td>\n",
       "      <td>GO:0016491</td>\n",
       "      <td>MFO</td>\n",
       "    </tr>\n",
       "    <tr>\n",
       "      <th>5363860</th>\n",
       "      <td>X5M5N0</td>\n",
       "      <td>GO:0005515</td>\n",
       "      <td>MFO</td>\n",
       "    </tr>\n",
       "    <tr>\n",
       "      <th>5363861</th>\n",
       "      <td>X5M5N0</td>\n",
       "      <td>GO:0005488</td>\n",
       "      <td>MFO</td>\n",
       "    </tr>\n",
       "    <tr>\n",
       "      <th>5363862</th>\n",
       "      <td>X5M5N0</td>\n",
       "      <td>GO:0003674</td>\n",
       "      <td>MFO</td>\n",
       "    </tr>\n",
       "  </tbody>\n",
       "</table>\n",
       "</div>"
      ],
      "text/plain": [
       "        EntryID        term aspect\n",
       "5363858  X5L565  GO:0050649    MFO\n",
       "5363859  X5L565  GO:0016491    MFO\n",
       "5363860  X5M5N0  GO:0005515    MFO\n",
       "5363861  X5M5N0  GO:0005488    MFO\n",
       "5363862  X5M5N0  GO:0003674    MFO"
      ]
     },
     "execution_count": 3,
     "metadata": {},
     "output_type": "execute_result"
    }
   ],
   "source": [
    "train_terms.tail()"
   ]
  },
  {
   "cell_type": "code",
   "execution_count": 4,
   "id": "3e68784e",
   "metadata": {},
   "outputs": [
    {
     "data": {
      "image/png": "[encoded data removed]",
      "text/plain": [
       "<Figure size 1200x600 with 1 Axes>"
      ]
     },
     "metadata": {},
     "output_type": "display_data"
    }
   ],
   "source": [
    "figure, axis = plt.subplots(1, 1, figsize=(12, 6))\n",
    "\n",
    "plot_df = train_terms['term'].value_counts()[:10000]\n",
    "bp = sns.lineplot(ax=axis, x =list(range(len(plot_df))), y=plot_df.values, label='all_terms')\n",
    "\n",
    "for ont in ['BPO', 'CCO', 'MFO']:\n",
    "    ont_df = train_terms[train_terms['aspect'] == ont]['term'].value_counts()[:10000]\n",
    "    sns.lineplot(ax=axis, x =list(range(len(ont_df))), y=ont_df.values, label=ont)\n",
    "\n",
    "axis.set_title('GO term ID frequencies in descending order')\n",
    "plt.xlabel(\"frequency rank\", fontsize = 12)\n",
    "plt.ylabel(\"Count\", fontsize = 12)\n",
    "plt.yscale('log')\n",
    "plt.grid()\n",
    "plt.show()"
   ]
  },
  {
   "cell_type": "markdown",
   "id": "8234f050",
   "metadata": {},
   "source": [
    "At top 1000 at each ontology, each term has at least ~30 samples. "
   ]
  },
  {
   "cell_type": "code",
   "execution_count": 5,
   "id": "c648ead3",
   "metadata": {},
   "outputs": [],
   "source": [
    "# Take 1000 labels of each ontology but 2000 from BPO\n",
    "num_of_labels = 1000\n",
    "labels_bpo = train_terms[train_terms['aspect'] == 'BPO']['term'].value_counts().index[:num_of_labels * 2].tolist()\n",
    "labels_cco = train_terms[train_terms['aspect'] == 'CCO']['term'].value_counts().index[:num_of_labels].tolist()\n",
    "labels_mfo = train_terms[train_terms['aspect'] == 'MFO']['term'].value_counts().index[:num_of_labels].tolist()\n",
    "labels_all = labels_bpo + labels_cco + labels_mfo"
   ]
  },
  {
   "cell_type": "code",
   "execution_count": 6,
   "id": "9e259008",
   "metadata": {},
   "outputs": [
    {
     "data": {
      "text/plain": [
       "4000"
      ]
     },
     "execution_count": 6,
     "metadata": {},
     "output_type": "execute_result"
    }
   ],
   "source": [
    "len(labels_all)"
   ]
  },
  {
   "cell_type": "code",
   "execution_count": 7,
   "id": "8bdf5b65",
   "metadata": {},
   "outputs": [],
   "source": [
    "# Fetch the train_terms data for the relevant labels only\n",
    "train_terms_updated = train_terms.loc[train_terms['term'].isin(labels_all)]"
   ]
  },
  {
   "cell_type": "code",
   "execution_count": 8,
   "id": "194c9f08",
   "metadata": {},
   "outputs": [],
   "source": [
    "train_protein_ids = np.load('../input/t5embeds/train_ids.npy')\n",
    "train_size = train_protein_ids.shape[0]"
   ]
  },
  {
   "cell_type": "markdown",
   "id": "73e698c0",
   "metadata": {},
   "source": [
    "## Skip this part once generated once"
   ]
  },
  {
   "cell_type": "code",
   "execution_count": 28,
   "id": "57ff181b",
   "metadata": {},
   "outputs": [
    {
     "data": {
      "application/vnd.jupyter.widget-view+json": {
       "model_id": "592cd45aabf9470bb91804b87bf07cdb",
       "version_major": 2,
       "version_minor": 0
      },
      "text/plain": [
       "  0%|          | 0/4000 [00:00<?, ?it/s]"
      ]
     },
     "metadata": {},
     "output_type": "display_data"
    },
    {
     "name": "stdout",
     "output_type": "stream",
     "text": [
      "(142246, 4000)\n"
     ]
    }
   ],
   "source": [
    "# Create an empty dataframe of required size for storing the labels,\n",
    "label_arr = np.zeros((train_size, len(labels_all)))\n",
    "\n",
    "# Convert from numpy to pandas series for better handling\n",
    "series_train_protein_ids = pd.Series(train_protein_ids)\n",
    "\n",
    "# Loop through each label\n",
    "for i in tqdm(range(len(labels_all)), total=len(labels_all)):\n",
    "    # For each label, fetch the corresponding train_terms data\n",
    "    n_train_terms = train_terms_updated[train_terms_updated['term'] ==  labels_all[i]]\n",
    "    \n",
    "    # Fetch all the unique EntryId aka proteins related to the current label(GO term ID)\n",
    "    label_related_proteins = n_train_terms['EntryID'].unique()\n",
    "    \n",
    "    # In the series_train_protein_ids pandas series, if a protein is related\n",
    "    # to the current label, then mark it as 1, else 0.\n",
    "    # Replace the ith column of train_Y with with that pandas series.\n",
    "    label_arr[:,i] =  series_train_protein_ids.isin(label_related_proteins).astype(float)\n",
    "\n",
    "# Convert train_Y numpy into pandas dataframe\n",
    "top_labels_df = pd.DataFrame(data = label_arr, columns = labels_all)\n",
    "print(top_labels_df.shape)"
   ]
  },
  {
   "cell_type": "code",
   "execution_count": 29,
   "id": "29eabc63",
   "metadata": {},
   "outputs": [],
   "source": [
    "top_labels_df.to_csv(f'../output/top_labels_df-{len(labels_all)}.csv', index=False)"
   ]
  },
  {
   "cell_type": "markdown",
   "id": "51e8813d",
   "metadata": {},
   "source": [
    "## checkpoint - continue from here"
   ]
  },
  {
   "cell_type": "code",
   "execution_count": 9,
   "id": "50bd783d",
   "metadata": {},
   "outputs": [],
   "source": [
    "top_labels_df = pd.read_csv(f'../output/top_labels_df-{len(labels_all)}.csv')"
   ]
  },
  {
   "cell_type": "code",
   "execution_count": 10,
   "id": "562436b3",
   "metadata": {},
   "outputs": [
    {
     "data": {
      "text/html": [
       "<div>\n",
       "<style scoped>\n",
       "    .dataframe tbody tr th:only-of-type {\n",
       "        vertical-align: middle;\n",
       "    }\n",
       "\n",
       "    .dataframe tbody tr th {\n",
       "        vertical-align: top;\n",
       "    }\n",
       "\n",
       "    .dataframe thead th {\n",
       "        text-align: right;\n",
       "    }\n",
       "</style>\n",
       "<table border=\"1\" class=\"dataframe\">\n",
       "  <thead>\n",
       "    <tr style=\"text-align: right;\">\n",
       "      <th></th>\n",
       "      <th>GO:0008150</th>\n",
       "      <th>GO:0009987</th>\n",
       "      <th>GO:0065007</th>\n",
       "      <th>GO:0050789</th>\n",
       "      <th>GO:0050794</th>\n",
       "      <th>GO:0050896</th>\n",
       "      <th>GO:0008152</th>\n",
       "      <th>GO:0032501</th>\n",
       "      <th>GO:0032502</th>\n",
       "      <th>GO:0071704</th>\n",
       "      <th>...</th>\n",
       "      <th>GO:0016886</th>\n",
       "      <th>GO:0070840</th>\n",
       "      <th>GO:0034237</th>\n",
       "      <th>GO:0032977</th>\n",
       "      <th>GO:0036122</th>\n",
       "      <th>GO:0015271</th>\n",
       "      <th>GO:0004630</th>\n",
       "      <th>GO:0050699</th>\n",
       "      <th>GO:0008970</th>\n",
       "      <th>GO:0008327</th>\n",
       "    </tr>\n",
       "  </thead>\n",
       "  <tbody>\n",
       "    <tr>\n",
       "      <th>0</th>\n",
       "      <td>1.0</td>\n",
       "      <td>1.0</td>\n",
       "      <td>0.0</td>\n",
       "      <td>0.0</td>\n",
       "      <td>0.0</td>\n",
       "      <td>0.0</td>\n",
       "      <td>1.0</td>\n",
       "      <td>0.0</td>\n",
       "      <td>0.0</td>\n",
       "      <td>1.0</td>\n",
       "      <td>...</td>\n",
       "      <td>0.0</td>\n",
       "      <td>0.0</td>\n",
       "      <td>0.0</td>\n",
       "      <td>0.0</td>\n",
       "      <td>0.0</td>\n",
       "      <td>0.0</td>\n",
       "      <td>0.0</td>\n",
       "      <td>0.0</td>\n",
       "      <td>0.0</td>\n",
       "      <td>0.0</td>\n",
       "    </tr>\n",
       "    <tr>\n",
       "      <th>1</th>\n",
       "      <td>1.0</td>\n",
       "      <td>1.0</td>\n",
       "      <td>1.0</td>\n",
       "      <td>1.0</td>\n",
       "      <td>1.0</td>\n",
       "      <td>1.0</td>\n",
       "      <td>0.0</td>\n",
       "      <td>1.0</td>\n",
       "      <td>1.0</td>\n",
       "      <td>0.0</td>\n",
       "      <td>...</td>\n",
       "      <td>0.0</td>\n",
       "      <td>0.0</td>\n",
       "      <td>0.0</td>\n",
       "      <td>0.0</td>\n",
       "      <td>0.0</td>\n",
       "      <td>0.0</td>\n",
       "      <td>0.0</td>\n",
       "      <td>0.0</td>\n",
       "      <td>0.0</td>\n",
       "      <td>0.0</td>\n",
       "    </tr>\n",
       "    <tr>\n",
       "      <th>2</th>\n",
       "      <td>1.0</td>\n",
       "      <td>0.0</td>\n",
       "      <td>1.0</td>\n",
       "      <td>1.0</td>\n",
       "      <td>1.0</td>\n",
       "      <td>0.0</td>\n",
       "      <td>0.0</td>\n",
       "      <td>0.0</td>\n",
       "      <td>0.0</td>\n",
       "      <td>0.0</td>\n",
       "      <td>...</td>\n",
       "      <td>0.0</td>\n",
       "      <td>0.0</td>\n",
       "      <td>0.0</td>\n",
       "      <td>0.0</td>\n",
       "      <td>0.0</td>\n",
       "      <td>0.0</td>\n",
       "      <td>0.0</td>\n",
       "      <td>0.0</td>\n",
       "      <td>0.0</td>\n",
       "      <td>0.0</td>\n",
       "    </tr>\n",
       "    <tr>\n",
       "      <th>3</th>\n",
       "      <td>1.0</td>\n",
       "      <td>1.0</td>\n",
       "      <td>0.0</td>\n",
       "      <td>0.0</td>\n",
       "      <td>0.0</td>\n",
       "      <td>0.0</td>\n",
       "      <td>1.0</td>\n",
       "      <td>0.0</td>\n",
       "      <td>0.0</td>\n",
       "      <td>1.0</td>\n",
       "      <td>...</td>\n",
       "      <td>0.0</td>\n",
       "      <td>0.0</td>\n",
       "      <td>0.0</td>\n",
       "      <td>0.0</td>\n",
       "      <td>0.0</td>\n",
       "      <td>0.0</td>\n",
       "      <td>0.0</td>\n",
       "      <td>0.0</td>\n",
       "      <td>0.0</td>\n",
       "      <td>0.0</td>\n",
       "    </tr>\n",
       "    <tr>\n",
       "      <th>4</th>\n",
       "      <td>0.0</td>\n",
       "      <td>0.0</td>\n",
       "      <td>0.0</td>\n",
       "      <td>0.0</td>\n",
       "      <td>0.0</td>\n",
       "      <td>0.0</td>\n",
       "      <td>0.0</td>\n",
       "      <td>0.0</td>\n",
       "      <td>0.0</td>\n",
       "      <td>0.0</td>\n",
       "      <td>...</td>\n",
       "      <td>0.0</td>\n",
       "      <td>0.0</td>\n",
       "      <td>0.0</td>\n",
       "      <td>0.0</td>\n",
       "      <td>0.0</td>\n",
       "      <td>0.0</td>\n",
       "      <td>0.0</td>\n",
       "      <td>0.0</td>\n",
       "      <td>0.0</td>\n",
       "      <td>0.0</td>\n",
       "    </tr>\n",
       "  </tbody>\n",
       "</table>\n",
       "<p>5 rows × 4000 columns</p>\n",
       "</div>"
      ],
      "text/plain": [
       "   GO:0008150  GO:0009987  GO:0065007  GO:0050789  GO:0050794  GO:0050896  \\\n",
       "0         1.0         1.0         0.0         0.0         0.0         0.0   \n",
       "1         1.0         1.0         1.0         1.0         1.0         1.0   \n",
       "2         1.0         0.0         1.0         1.0         1.0         0.0   \n",
       "3         1.0         1.0         0.0         0.0         0.0         0.0   \n",
       "4         0.0         0.0         0.0         0.0         0.0         0.0   \n",
       "\n",
       "   GO:0008152  GO:0032501  GO:0032502  GO:0071704  ...  GO:0016886  \\\n",
       "0         1.0         0.0         0.0         1.0  ...         0.0   \n",
       "1         0.0         1.0         1.0         0.0  ...         0.0   \n",
       "2         0.0         0.0         0.0         0.0  ...         0.0   \n",
       "3         1.0         0.0         0.0         1.0  ...         0.0   \n",
       "4         0.0         0.0         0.0         0.0  ...         0.0   \n",
       "\n",
       "   GO:0070840  GO:0034237  GO:0032977  GO:0036122  GO:0015271  GO:0004630  \\\n",
       "0         0.0         0.0         0.0         0.0         0.0         0.0   \n",
       "1         0.0         0.0         0.0         0.0         0.0         0.0   \n",
       "2         0.0         0.0         0.0         0.0         0.0         0.0   \n",
       "3         0.0         0.0         0.0         0.0         0.0         0.0   \n",
       "4         0.0         0.0         0.0         0.0         0.0         0.0   \n",
       "\n",
       "   GO:0050699  GO:0008970  GO:0008327  \n",
       "0         0.0         0.0         0.0  \n",
       "1         0.0         0.0         0.0  \n",
       "2         0.0         0.0         0.0  \n",
       "3         0.0         0.0         0.0  \n",
       "4         0.0         0.0         0.0  \n",
       "\n",
       "[5 rows x 4000 columns]"
      ]
     },
     "execution_count": 10,
     "metadata": {},
     "output_type": "execute_result"
    }
   ],
   "source": [
    "top_labels_df.head()"
   ]
  },
  {
   "cell_type": "code",
   "execution_count": 11,
   "id": "a10b38b1",
   "metadata": {},
   "outputs": [
    {
     "data": {
      "text/plain": [
       "(142246, 4000)"
      ]
     },
     "execution_count": 11,
     "metadata": {},
     "output_type": "execute_result"
    }
   ],
   "source": [
    "top_labels_df.shape"
   ]
  },
  {
   "cell_type": "code",
   "execution_count": 12,
   "id": "a13faa16",
   "metadata": {},
   "outputs": [
    {
     "name": "stdout",
     "output_type": "stream",
     "text": [
      "(142246, 1024)\n"
     ]
    }
   ],
   "source": [
    "train_embeddings = np.load('../input/t5embeds/train_embeds.npy')\n",
    "\n",
    "# Now lets convert embeddings numpy array(train_embeddings) into pandas dataframe.\n",
    "column_num = train_embeddings.shape[1]\n",
    "train_df = pd.DataFrame(train_embeddings, columns = [\"Column_\" + str(i) for i in range(1, column_num+1)])\n",
    "print(train_df.shape)"
   ]
  },
  {
   "cell_type": "markdown",
   "id": "df23463f",
   "metadata": {},
   "source": [
    "## Label embedding\n",
    "\n",
    "http://scikit.ml/multilabelembeddings.html\n",
    "\n",
    "http://scikit.ml/api/skmultilearn.embedding.openne.html#skmultilearn.embedding.OpenNetworkEmbedder"
   ]
  },
  {
   "cell_type": "code",
   "execution_count": 46,
   "id": "b1e64abb",
   "metadata": {},
   "outputs": [
    {
     "name": "stdout",
     "output_type": "stream",
     "text": [
      "/bin/bash: /home/joni/miniconda3/envs/cafa5/lib/libtinfo.so.6: no version information available (required by /bin/bash)\n",
      "Collecting openne@ git+https://github.com/thunlp/OpenNE.git@master#subdirectory=src\n",
      "  Cloning https://github.com/thunlp/OpenNE.git (to revision master) to /tmp/pip-install-5v580q0w/openne_3394de62e06f47ba92c4cdfed6671962\n",
      "  Running command git clone --filter=blob:none --quiet https://github.com/thunlp/OpenNE.git /tmp/pip-install-5v580q0w/openne_3394de62e06f47ba92c4cdfed6671962\n",
      "  Resolved https://github.com/thunlp/OpenNE.git to commit 943c02fe668e4739637e1a299c78729ab0dd368c\n",
      "  Preparing metadata (setup.py) ... \u001b[?25ldone\n",
      "\u001b[?25hBuilding wheels for collected packages: openne\n",
      "  Building wheel for openne (setup.py) ... \u001b[?25ldone\n",
      "\u001b[?25h  Created wheel for openne: filename=openne-0.0.0-py3-none-any.whl size=34863 sha256=2f0d162273c9aee23671f43404bd417cb7277b208bbb667896af7690a648eaf3\n",
      "  Stored in directory: /tmp/pip-ephem-wheel-cache-qurnme_3/wheels/4d/0c/13/664b2c47246d0a23b8da4c97f1879822d3c79bf6c7246d0bec\n",
      "Successfully built openne\n",
      "Installing collected packages: openne\n",
      "Successfully installed openne-0.0.0\n",
      "Note: you may need to restart the kernel to use updated packages.\n"
     ]
    }
   ],
   "source": [
    "pip install 'openne @ git+https://github.com/thunlp/OpenNE.git@master#subdirectory=src'"
   ]
  },
  {
   "cell_type": "code",
   "execution_count": 13,
   "id": "5905922f",
   "metadata": {},
   "outputs": [],
   "source": [
    "import joblib\n",
    "import sys\n",
    "sys.modules['sklearn.externals.joblib'] = joblib"
   ]
  },
  {
   "cell_type": "code",
   "execution_count": 14,
   "id": "f1796227",
   "metadata": {},
   "outputs": [
    {
     "name": "stderr",
     "output_type": "stream",
     "text": [
      "2023-07-13 21:16:30.245661: I tensorflow/core/platform/cpu_feature_guard.cc:193] This TensorFlow binary is optimized with oneAPI Deep Neural Network Library (oneDNN) to use the following CPU instructions in performance-critical operations:  AVX2 FMA\n",
      "To enable them in other operations, rebuild TensorFlow with the appropriate compiler flags.\n",
      "2023-07-13 21:16:30.804961: E tensorflow/stream_executor/cuda/cuda_blas.cc:2981] Unable to register cuBLAS factory: Attempting to register factory for plugin cuBLAS when one has already been registered\n",
      "2023-07-13 21:16:31.864402: W tensorflow/stream_executor/platform/default/dso_loader.cc:64] Could not load dynamic library 'libnvinfer.so.7'; dlerror: libnvinfer.so.7: cannot open shared object file: No such file or directory; LD_LIBRARY_PATH: :/home/joni/miniconda3/envs/cafa5/lib/:/home/joni/miniconda3/envs/cafa5/lib/python3.9/site-packages/nvidia/cudnn//lib\n",
      "2023-07-13 21:16:31.865056: W tensorflow/stream_executor/platform/default/dso_loader.cc:64] Could not load dynamic library 'libnvinfer_plugin.so.7'; dlerror: libnvinfer_plugin.so.7: cannot open shared object file: No such file or directory; LD_LIBRARY_PATH: :/home/joni/miniconda3/envs/cafa5/lib/:/home/joni/miniconda3/envs/cafa5/lib/python3.9/site-packages/nvidia/cudnn//lib\n",
      "2023-07-13 21:16:31.865068: W tensorflow/compiler/tf2tensorrt/utils/py_utils.cc:38] TF-TRT Warning: Cannot dlopen some TensorRT libraries. If you would like to use Nvidia GPU with TensorRT, please make sure the missing libraries mentioned above are installed properly.\n"
     ]
    }
   ],
   "source": [
    "from skmultilearn.embedding import OpenNetworkEmbedder, EmbeddingClassifier\n",
    "from skmultilearn.embedding import CLEMS, EmbeddingClassifier\n",
    "from sklearn.ensemble import RandomForestRegressor\n",
    "from skmultilearn.adapt import MLkNN\n",
    "from skmultilearn.cluster import LabelCooccurrenceGraphBuilder"
   ]
  },
  {
   "cell_type": "code",
   "execution_count": 15,
   "id": "ca89f2c7",
   "metadata": {},
   "outputs": [],
   "source": [
    "from sklearn.model_selection import KFold\n",
    "N_SPLITS = 5\n",
    "RND_SEED = 2023\n",
    "\n",
    "# Create a KFold object\n",
    "skf = KFold(n_splits=N_SPLITS, shuffle=True, random_state=RND_SEED)\n",
    "for (train_index, test_index) in skf.split(top_labels_df):\n",
    "    break\n",
    "\n",
    "x_train = train_df.values[train_index][::5]\n",
    "x_test = train_df.values[test_index][::5]\n",
    "y_train = top_labels_df.values[train_index][::5]\n",
    "y_test = top_labels_df.values[test_index][::5]"
   ]
  },
  {
   "cell_type": "code",
   "execution_count": 16,
   "id": "8a5e7979",
   "metadata": {},
   "outputs": [],
   "source": [
    "from sklearn.metrics import jaccard_score"
   ]
  },
  {
   "cell_type": "code",
   "execution_count": 19,
   "id": "343feab0",
   "metadata": {},
   "outputs": [],
   "source": [
    "jaccard_score_ = lambda x,y : jaccard_score(x,y, average='macro')"
   ]
  },
  {
   "cell_type": "code",
   "execution_count": 20,
   "id": "c2526ca1",
   "metadata": {},
   "outputs": [],
   "source": [
    "dimensional_scaler_params = {'n_jobs': -1}\n",
    "\n",
    "clf = EmbeddingClassifier(\n",
    "    CLEMS(jaccard_score_, is_score=True, params=dimensional_scaler_params),\n",
    "    RandomForestRegressor(n_estimators=50, n_jobs=-1),\n",
    "    MLkNN(k=1),\n",
    "    regressor_per_dimension= True\n",
    ")"
   ]
  },
  {
   "cell_type": "code",
   "execution_count": null,
   "id": "850c511e",
   "metadata": {},
   "outputs": [],
   "source": [
    "clf.fit(x_train, y_train)"
   ]
  },
  {
   "cell_type": "code",
   "execution_count": null,
   "id": "6251b5f1",
   "metadata": {},
   "outputs": [],
   "source": [
    "predictions = clf.predict(x_test)"
   ]
  },
  {
   "cell_type": "markdown",
   "id": "e9622613",
   "metadata": {},
   "source": [
    "## WIP"
   ]
  },
  {
   "cell_type": "code",
   "execution_count": null,
   "id": "da0b7122",
   "metadata": {},
   "outputs": [],
   "source": []
  }
 ],
 "metadata": {
  "kernelspec": {
   "display_name": "Python 3 (ipykernel)",
   "language": "python",
   "name": "python3"
  },
  "language_info": {
   "codemirror_mode": {
    "name": "ipython",
    "version": 3
   },
   "file_extension": ".py",
   "mimetype": "text/x-python",
   "name": "python",
   "nbconvert_exporter": "python",
   "pygments_lexer": "ipython3",
   "version": "3.9.16"
  }
 },
 "nbformat": 4,
 "nbformat_minor": 5
}
