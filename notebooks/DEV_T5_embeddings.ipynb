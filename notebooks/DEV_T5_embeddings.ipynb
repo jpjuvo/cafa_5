{
 "cells": [
  {
   "cell_type": "markdown",
   "id": "3552905c",
   "metadata": {},
   "source": [
    "## Development notebook!\n",
    "\n",
    "**A newer version of this training script is impleneted in `src/train.py`**"
   ]
  },
  {
   "cell_type": "code",
   "execution_count": 1,
   "id": "57b1619b",
   "metadata": {},
   "outputs": [],
   "source": [
    "import torch\n",
    "import torch.nn as nn\n",
    "import torch.nn.functional as F\n",
    "from torch.utils.data import Dataset, DataLoader\n",
    "from torch.utils.data.sampler import RandomSampler, SequentialSampler\n",
    "import pandas as pd\n",
    "import numpy as np\n",
    "import os\n",
    "from datetime import datetime\n",
    "import seaborn as sns\n",
    "import matplotlib.pyplot as plt\n",
    "from tqdm.auto import tqdm\n",
    "from sklearn.model_selection import StratifiedKFold, KFold\n",
    "import gc\n",
    "import wandb"
   ]
  },
  {
   "cell_type": "code",
   "execution_count": 2,
   "id": "68b0dad0",
   "metadata": {},
   "outputs": [
    {
     "name": "stdout",
     "output_type": "stream",
     "text": [
      "Torch v2.0.1\n",
      "Numpy v1.23.5\n"
     ]
    }
   ],
   "source": [
    "print(\"Torch v\" + torch.__version__)\n",
    "print(\"Numpy v\" + np.__version__)"
   ]
  },
  {
   "cell_type": "code",
   "execution_count": 3,
   "id": "98fae8ac",
   "metadata": {},
   "outputs": [
    {
     "name": "stdout",
     "output_type": "stream",
     "text": [
      "(5363863, 3)\n"
     ]
    }
   ],
   "source": [
    "train_terms = pd.read_csv(\"../input/cafa-5-protein-function-prediction/Train/train_terms.tsv\",sep=\"\\t\")\n",
    "print(train_terms.shape)"
   ]
  },
  {
   "cell_type": "code",
   "execution_count": 4,
   "id": "1629f736",
   "metadata": {},
   "outputs": [
    {
     "data": {
      "text/html": [
       "<div>\n",
       "<style scoped>\n",
       "    .dataframe tbody tr th:only-of-type {\n",
       "        vertical-align: middle;\n",
       "    }\n",
       "\n",
       "    .dataframe tbody tr th {\n",
       "        vertical-align: top;\n",
       "    }\n",
       "\n",
       "    .dataframe thead th {\n",
       "        text-align: right;\n",
       "    }\n",
       "</style>\n",
       "<table border=\"1\" class=\"dataframe\">\n",
       "  <thead>\n",
       "    <tr style=\"text-align: right;\">\n",
       "      <th></th>\n",
       "      <th>EntryID</th>\n",
       "      <th>term</th>\n",
       "      <th>aspect</th>\n",
       "    </tr>\n",
       "  </thead>\n",
       "  <tbody>\n",
       "    <tr>\n",
       "      <th>0</th>\n",
       "      <td>A0A009IHW8</td>\n",
       "      <td>GO:0008152</td>\n",
       "      <td>BPO</td>\n",
       "    </tr>\n",
       "    <tr>\n",
       "      <th>1</th>\n",
       "      <td>A0A009IHW8</td>\n",
       "      <td>GO:0034655</td>\n",
       "      <td>BPO</td>\n",
       "    </tr>\n",
       "    <tr>\n",
       "      <th>2</th>\n",
       "      <td>A0A009IHW8</td>\n",
       "      <td>GO:0072523</td>\n",
       "      <td>BPO</td>\n",
       "    </tr>\n",
       "    <tr>\n",
       "      <th>3</th>\n",
       "      <td>A0A009IHW8</td>\n",
       "      <td>GO:0044270</td>\n",
       "      <td>BPO</td>\n",
       "    </tr>\n",
       "    <tr>\n",
       "      <th>4</th>\n",
       "      <td>A0A009IHW8</td>\n",
       "      <td>GO:0006753</td>\n",
       "      <td>BPO</td>\n",
       "    </tr>\n",
       "  </tbody>\n",
       "</table>\n",
       "</div>"
      ],
      "text/plain": [
       "      EntryID        term aspect\n",
       "0  A0A009IHW8  GO:0008152    BPO\n",
       "1  A0A009IHW8  GO:0034655    BPO\n",
       "2  A0A009IHW8  GO:0072523    BPO\n",
       "3  A0A009IHW8  GO:0044270    BPO\n",
       "4  A0A009IHW8  GO:0006753    BPO"
      ]
     },
     "execution_count": 4,
     "metadata": {},
     "output_type": "execute_result"
    }
   ],
   "source": [
    "train_terms.head()"
   ]
  },
  {
   "cell_type": "code",
   "execution_count": 5,
   "id": "9ee2295f",
   "metadata": {},
   "outputs": [
    {
     "data": {
      "text/plain": [
       "(31466, 'BPO')"
      ]
     },
     "execution_count": 5,
     "metadata": {},
     "output_type": "execute_result"
    }
   ],
   "source": [
    "term_aspect_map = train_terms.set_index('term')['aspect'].to_dict()\n",
    "len(term_aspect_map), term_aspect_map['GO:0008152']"
   ]
  },
  {
   "cell_type": "code",
   "execution_count": 6,
   "id": "2589b337",
   "metadata": {},
   "outputs": [
    {
     "name": "stdout",
     "output_type": "stream",
     "text": [
      "(142246,)\n"
     ]
    }
   ],
   "source": [
    "train_protein_ids = np.load('../input/t5embeds/train_ids.npy')\n",
    "print(train_protein_ids.shape)"
   ]
  },
  {
   "cell_type": "code",
   "execution_count": 7,
   "id": "c322986c",
   "metadata": {},
   "outputs": [
    {
     "data": {
      "text/plain": [
       "array(['P20536', 'O73864', 'O95231', 'A0A0B4J1F4', 'P54366', 'P33681',\n",
       "       'P77596', 'Q16787', 'Q59VP0', 'P13508'], dtype='<U10')"
      ]
     },
     "execution_count": 7,
     "metadata": {},
     "output_type": "execute_result"
    }
   ],
   "source": [
    "train_protein_ids[:10]"
   ]
  },
  {
   "cell_type": "code",
   "execution_count": 8,
   "id": "8751801f",
   "metadata": {},
   "outputs": [
    {
     "name": "stdout",
     "output_type": "stream",
     "text": [
      "(142246, 1024)\n"
     ]
    }
   ],
   "source": [
    "train_embeddings = np.load('../input/t5embeds/train_embeds.npy')\n",
    "\n",
    "# Now lets convert embeddings numpy array(train_embeddings) into pandas dataframe.\n",
    "column_num = train_embeddings.shape[1]\n",
    "train_df = pd.DataFrame(train_embeddings, columns = [\"Column_\" + str(i) for i in range(1, column_num+1)])\n",
    "print(train_df.shape)"
   ]
  },
  {
   "cell_type": "code",
   "execution_count": 9,
   "id": "d99ef275",
   "metadata": {},
   "outputs": [
    {
     "data": {
      "text/html": [
       "<div>\n",
       "<style scoped>\n",
       "    .dataframe tbody tr th:only-of-type {\n",
       "        vertical-align: middle;\n",
       "    }\n",
       "\n",
       "    .dataframe tbody tr th {\n",
       "        vertical-align: top;\n",
       "    }\n",
       "\n",
       "    .dataframe thead th {\n",
       "        text-align: right;\n",
       "    }\n",
       "</style>\n",
       "<table border=\"1\" class=\"dataframe\">\n",
       "  <thead>\n",
       "    <tr style=\"text-align: right;\">\n",
       "      <th></th>\n",
       "      <th>Column_1</th>\n",
       "      <th>Column_2</th>\n",
       "      <th>Column_3</th>\n",
       "      <th>Column_4</th>\n",
       "      <th>Column_5</th>\n",
       "      <th>Column_6</th>\n",
       "      <th>Column_7</th>\n",
       "      <th>Column_8</th>\n",
       "      <th>Column_9</th>\n",
       "      <th>Column_10</th>\n",
       "      <th>...</th>\n",
       "      <th>Column_1015</th>\n",
       "      <th>Column_1016</th>\n",
       "      <th>Column_1017</th>\n",
       "      <th>Column_1018</th>\n",
       "      <th>Column_1019</th>\n",
       "      <th>Column_1020</th>\n",
       "      <th>Column_1021</th>\n",
       "      <th>Column_1022</th>\n",
       "      <th>Column_1023</th>\n",
       "      <th>Column_1024</th>\n",
       "    </tr>\n",
       "  </thead>\n",
       "  <tbody>\n",
       "    <tr>\n",
       "      <th>0</th>\n",
       "      <td>0.049488</td>\n",
       "      <td>-0.032935</td>\n",
       "      <td>0.032473</td>\n",
       "      <td>-0.033723</td>\n",
       "      <td>-0.059505</td>\n",
       "      <td>0.075936</td>\n",
       "      <td>-0.045860</td>\n",
       "      <td>-0.104476</td>\n",
       "      <td>-0.072112</td>\n",
       "      <td>0.038806</td>\n",
       "      <td>...</td>\n",
       "      <td>-0.046516</td>\n",
       "      <td>-0.028773</td>\n",
       "      <td>-0.021878</td>\n",
       "      <td>-0.097883</td>\n",
       "      <td>0.056475</td>\n",
       "      <td>0.080950</td>\n",
       "      <td>-0.020938</td>\n",
       "      <td>-0.043532</td>\n",
       "      <td>0.096463</td>\n",
       "      <td>0.073070</td>\n",
       "    </tr>\n",
       "    <tr>\n",
       "      <th>1</th>\n",
       "      <td>-0.044616</td>\n",
       "      <td>0.064925</td>\n",
       "      <td>-0.080263</td>\n",
       "      <td>-0.075338</td>\n",
       "      <td>-0.004731</td>\n",
       "      <td>0.025408</td>\n",
       "      <td>-0.024685</td>\n",
       "      <td>-0.016568</td>\n",
       "      <td>-0.038980</td>\n",
       "      <td>-0.033870</td>\n",
       "      <td>...</td>\n",
       "      <td>-0.040173</td>\n",
       "      <td>0.003925</td>\n",
       "      <td>0.006130</td>\n",
       "      <td>0.007362</td>\n",
       "      <td>-0.066848</td>\n",
       "      <td>0.106882</td>\n",
       "      <td>-0.030134</td>\n",
       "      <td>0.026724</td>\n",
       "      <td>0.027879</td>\n",
       "      <td>-0.048430</td>\n",
       "    </tr>\n",
       "    <tr>\n",
       "      <th>2</th>\n",
       "      <td>-0.020128</td>\n",
       "      <td>-0.049779</td>\n",
       "      <td>0.007894</td>\n",
       "      <td>-0.000829</td>\n",
       "      <td>-0.047737</td>\n",
       "      <td>0.086453</td>\n",
       "      <td>-0.038107</td>\n",
       "      <td>-0.036379</td>\n",
       "      <td>0.029611</td>\n",
       "      <td>0.045029</td>\n",
       "      <td>...</td>\n",
       "      <td>0.029388</td>\n",
       "      <td>0.008456</td>\n",
       "      <td>0.000697</td>\n",
       "      <td>0.013502</td>\n",
       "      <td>-0.005968</td>\n",
       "      <td>-0.011571</td>\n",
       "      <td>0.005704</td>\n",
       "      <td>-0.036103</td>\n",
       "      <td>0.007693</td>\n",
       "      <td>0.106234</td>\n",
       "    </tr>\n",
       "    <tr>\n",
       "      <th>3</th>\n",
       "      <td>-0.007515</td>\n",
       "      <td>0.060628</td>\n",
       "      <td>0.004045</td>\n",
       "      <td>0.027056</td>\n",
       "      <td>-0.021542</td>\n",
       "      <td>0.010380</td>\n",
       "      <td>-0.025064</td>\n",
       "      <td>-0.055834</td>\n",
       "      <td>0.068238</td>\n",
       "      <td>0.027764</td>\n",
       "      <td>...</td>\n",
       "      <td>0.020792</td>\n",
       "      <td>0.023307</td>\n",
       "      <td>0.009009</td>\n",
       "      <td>0.018211</td>\n",
       "      <td>0.020820</td>\n",
       "      <td>-0.031738</td>\n",
       "      <td>0.013279</td>\n",
       "      <td>-0.018357</td>\n",
       "      <td>0.008087</td>\n",
       "      <td>0.010917</td>\n",
       "    </tr>\n",
       "    <tr>\n",
       "      <th>4</th>\n",
       "      <td>0.013468</td>\n",
       "      <td>0.041516</td>\n",
       "      <td>0.018435</td>\n",
       "      <td>-0.035595</td>\n",
       "      <td>0.008770</td>\n",
       "      <td>0.018699</td>\n",
       "      <td>-0.015452</td>\n",
       "      <td>-0.038092</td>\n",
       "      <td>-0.038326</td>\n",
       "      <td>-0.012299</td>\n",
       "      <td>...</td>\n",
       "      <td>-0.044742</td>\n",
       "      <td>-0.025432</td>\n",
       "      <td>-0.060886</td>\n",
       "      <td>-0.026915</td>\n",
       "      <td>0.026342</td>\n",
       "      <td>0.017237</td>\n",
       "      <td>0.014731</td>\n",
       "      <td>-0.016861</td>\n",
       "      <td>-0.016272</td>\n",
       "      <td>0.037054</td>\n",
       "    </tr>\n",
       "  </tbody>\n",
       "</table>\n",
       "<p>5 rows × 1024 columns</p>\n",
       "</div>"
      ],
      "text/plain": [
       "   Column_1  Column_2  Column_3  Column_4  Column_5  Column_6  Column_7  \\\n",
       "0  0.049488 -0.032935  0.032473 -0.033723 -0.059505  0.075936 -0.045860   \n",
       "1 -0.044616  0.064925 -0.080263 -0.075338 -0.004731  0.025408 -0.024685   \n",
       "2 -0.020128 -0.049779  0.007894 -0.000829 -0.047737  0.086453 -0.038107   \n",
       "3 -0.007515  0.060628  0.004045  0.027056 -0.021542  0.010380 -0.025064   \n",
       "4  0.013468  0.041516  0.018435 -0.035595  0.008770  0.018699 -0.015452   \n",
       "\n",
       "   Column_8  Column_9  Column_10  ...  Column_1015  Column_1016  Column_1017  \\\n",
       "0 -0.104476 -0.072112   0.038806  ...    -0.046516    -0.028773    -0.021878   \n",
       "1 -0.016568 -0.038980  -0.033870  ...    -0.040173     0.003925     0.006130   \n",
       "2 -0.036379  0.029611   0.045029  ...     0.029388     0.008456     0.000697   \n",
       "3 -0.055834  0.068238   0.027764  ...     0.020792     0.023307     0.009009   \n",
       "4 -0.038092 -0.038326  -0.012299  ...    -0.044742    -0.025432    -0.060886   \n",
       "\n",
       "   Column_1018  Column_1019  Column_1020  Column_1021  Column_1022  \\\n",
       "0    -0.097883     0.056475     0.080950    -0.020938    -0.043532   \n",
       "1     0.007362    -0.066848     0.106882    -0.030134     0.026724   \n",
       "2     0.013502    -0.005968    -0.011571     0.005704    -0.036103   \n",
       "3     0.018211     0.020820    -0.031738     0.013279    -0.018357   \n",
       "4    -0.026915     0.026342     0.017237     0.014731    -0.016861   \n",
       "\n",
       "   Column_1023  Column_1024  \n",
       "0     0.096463     0.073070  \n",
       "1     0.027879    -0.048430  \n",
       "2     0.007693     0.106234  \n",
       "3     0.008087     0.010917  \n",
       "4    -0.016272     0.037054  \n",
       "\n",
       "[5 rows x 1024 columns]"
      ]
     },
     "execution_count": 9,
     "metadata": {},
     "output_type": "execute_result"
    }
   ],
   "source": [
    "train_df.head()"
   ]
  },
  {
   "cell_type": "code",
   "execution_count": 10,
   "id": "673d56db",
   "metadata": {},
   "outputs": [],
   "source": [
    "# Set the limit for label\n",
    "num_of_labels = 1500\n",
    "\n",
    "labels_to_consider = train_terms['term'].value_counts().index[:num_of_labels].tolist()"
   ]
  },
  {
   "cell_type": "markdown",
   "id": "f0425df8",
   "metadata": {},
   "source": [
    "## Prepare dataset\n",
    "\n",
    "You may skip this step if you have created the dataset before."
   ]
  },
  {
   "cell_type": "code",
   "execution_count": 28,
   "id": "559a0131",
   "metadata": {},
   "outputs": [
    {
     "data": {
      "image/png": "[encoded data removed]",
      "text/plain": [
       "<Figure size 1200x600 with 1 Axes>"
      ]
     },
     "metadata": {},
     "output_type": "display_data"
    }
   ],
   "source": [
    "# Select first 1500 values for plotting\n",
    "plot_df = train_terms['term'].value_counts().iloc[:100]\n",
    "\n",
    "figure, axis = plt.subplots(1, 1, figsize=(12, 6))\n",
    "\n",
    "bp = sns.barplot(ax=axis, x=np.array(plot_df.index), y=plot_df.values)\n",
    "bp.set_xticklabels(bp.get_xticklabels(), rotation=90, size = 6)\n",
    "axis.set_title('Top 100 frequent GO term IDs')\n",
    "bp.set_xlabel(\"GO term IDs\", fontsize = 12)\n",
    "bp.set_ylabel(\"Count\", fontsize = 12)\n",
    "plt.show()"
   ]
  },
  {
   "cell_type": "code",
   "execution_count": 29,
   "id": "3dc12836",
   "metadata": {},
   "outputs": [],
   "source": [
    "# Take value counts in descending order and fetch first 1500 `GO term ID` as labels\n",
    "labels = train_terms['term'].value_counts().index[:num_of_labels].tolist()"
   ]
  },
  {
   "cell_type": "code",
   "execution_count": 30,
   "id": "71d52fcd",
   "metadata": {},
   "outputs": [],
   "source": [
    "# Fetch the train_terms data for the relevant labels only\n",
    "train_terms_updated = train_terms.loc[train_terms['term'].isin(labels)]"
   ]
  },
  {
   "cell_type": "code",
   "execution_count": 23,
   "id": "0fd51447",
   "metadata": {},
   "outputs": [
    {
     "data": {
      "image/png": "[encoded data removed]",
      "text/plain": [
       "<Figure size 640x480 with 1 Axes>"
      ]
     },
     "metadata": {},
     "output_type": "display_data"
    }
   ],
   "source": [
    "pie_df = train_terms_updated['aspect'].value_counts()\n",
    "palette_color = sns.color_palette('bright')\n",
    "plt.pie(pie_df.values, labels=np.array(pie_df.index), colors=palette_color, autopct='%.0f%%')\n",
    "plt.show()"
   ]
  },
  {
   "cell_type": "code",
   "execution_count": 15,
   "id": "c27ac5c8",
   "metadata": {},
   "outputs": [
    {
     "data": {
      "application/vnd.jupyter.widget-view+json": {
       "model_id": "7326917cc06044e3b35a604c3524ebb1",
       "version_major": 2,
       "version_minor": 0
      },
      "text/plain": [
       "  0%|          | 0/1500 [00:00<?, ?it/s]"
      ]
     },
     "metadata": {},
     "output_type": "display_data"
    },
    {
     "name": "stdout",
     "output_type": "stream",
     "text": [
      "(142246, 1500)\n"
     ]
    }
   ],
   "source": [
    "# Create an empty dataframe of required size for storing the labels,\n",
    "# i.e, train_size x num_of_labels (142246 x 1500)\n",
    "train_size = train_protein_ids.shape[0] # len(X)\n",
    "train_labels = np.zeros((train_size ,num_of_labels))\n",
    "\n",
    "# Convert from numpy to pandas series for better handling\n",
    "series_train_protein_ids = pd.Series(train_protein_ids)\n",
    "\n",
    "# Loop through each label\n",
    "for i in tqdm(range(num_of_labels), total=num_of_labels):\n",
    "    # For each label, fetch the corresponding train_terms data\n",
    "    n_train_terms = train_terms_updated[train_terms_updated['term'] ==  labels[i]]\n",
    "    \n",
    "    # Fetch all the unique EntryId aka proteins related to the current label(GO term ID)\n",
    "    label_related_proteins = n_train_terms['EntryID'].unique()\n",
    "    \n",
    "    # In the series_train_protein_ids pandas series, if a protein is related\n",
    "    # to the current label, then mark it as 1, else 0.\n",
    "    # Replace the ith column of train_Y with with that pandas series.\n",
    "    train_labels[:,i] =  series_train_protein_ids.isin(label_related_proteins).astype(float)\n",
    "\n",
    "# Convert train_Y numpy into pandas dataframe\n",
    "labels_df = pd.DataFrame(data = train_labels, columns = labels)\n",
    "print(labels_df.shape)"
   ]
  },
  {
   "cell_type": "code",
   "execution_count": 16,
   "id": "de2c9b6c",
   "metadata": {},
   "outputs": [
    {
     "data": {
      "text/html": [
       "<div>\n",
       "<style scoped>\n",
       "    .dataframe tbody tr th:only-of-type {\n",
       "        vertical-align: middle;\n",
       "    }\n",
       "\n",
       "    .dataframe tbody tr th {\n",
       "        vertical-align: top;\n",
       "    }\n",
       "\n",
       "    .dataframe thead th {\n",
       "        text-align: right;\n",
       "    }\n",
       "</style>\n",
       "<table border=\"1\" class=\"dataframe\">\n",
       "  <thead>\n",
       "    <tr style=\"text-align: right;\">\n",
       "      <th></th>\n",
       "      <th>GO:0005575</th>\n",
       "      <th>GO:0008150</th>\n",
       "      <th>GO:0110165</th>\n",
       "      <th>GO:0003674</th>\n",
       "      <th>GO:0005622</th>\n",
       "      <th>GO:0009987</th>\n",
       "      <th>GO:0043226</th>\n",
       "      <th>GO:0043229</th>\n",
       "      <th>GO:0005488</th>\n",
       "      <th>GO:0043227</th>\n",
       "      <th>...</th>\n",
       "      <th>GO:0034250</th>\n",
       "      <th>GO:0140053</th>\n",
       "      <th>GO:0031345</th>\n",
       "      <th>GO:0098802</th>\n",
       "      <th>GO:0045861</th>\n",
       "      <th>GO:0051783</th>\n",
       "      <th>GO:0031674</th>\n",
       "      <th>GO:0001818</th>\n",
       "      <th>GO:0006874</th>\n",
       "      <th>GO:0016887</th>\n",
       "    </tr>\n",
       "  </thead>\n",
       "  <tbody>\n",
       "    <tr>\n",
       "      <th>0</th>\n",
       "      <td>0.0</td>\n",
       "      <td>1.0</td>\n",
       "      <td>0.0</td>\n",
       "      <td>1.0</td>\n",
       "      <td>0.0</td>\n",
       "      <td>1.0</td>\n",
       "      <td>0.0</td>\n",
       "      <td>0.0</td>\n",
       "      <td>1.0</td>\n",
       "      <td>0.0</td>\n",
       "      <td>...</td>\n",
       "      <td>0.0</td>\n",
       "      <td>0.0</td>\n",
       "      <td>0.0</td>\n",
       "      <td>0.0</td>\n",
       "      <td>0.0</td>\n",
       "      <td>0.0</td>\n",
       "      <td>0.0</td>\n",
       "      <td>0.0</td>\n",
       "      <td>0.0</td>\n",
       "      <td>0.0</td>\n",
       "    </tr>\n",
       "    <tr>\n",
       "      <th>1</th>\n",
       "      <td>1.0</td>\n",
       "      <td>1.0</td>\n",
       "      <td>1.0</td>\n",
       "      <td>1.0</td>\n",
       "      <td>0.0</td>\n",
       "      <td>1.0</td>\n",
       "      <td>0.0</td>\n",
       "      <td>0.0</td>\n",
       "      <td>1.0</td>\n",
       "      <td>0.0</td>\n",
       "      <td>...</td>\n",
       "      <td>0.0</td>\n",
       "      <td>0.0</td>\n",
       "      <td>0.0</td>\n",
       "      <td>0.0</td>\n",
       "      <td>0.0</td>\n",
       "      <td>0.0</td>\n",
       "      <td>0.0</td>\n",
       "      <td>0.0</td>\n",
       "      <td>0.0</td>\n",
       "      <td>0.0</td>\n",
       "    </tr>\n",
       "    <tr>\n",
       "      <th>2</th>\n",
       "      <td>1.0</td>\n",
       "      <td>1.0</td>\n",
       "      <td>1.0</td>\n",
       "      <td>1.0</td>\n",
       "      <td>1.0</td>\n",
       "      <td>0.0</td>\n",
       "      <td>1.0</td>\n",
       "      <td>1.0</td>\n",
       "      <td>1.0</td>\n",
       "      <td>1.0</td>\n",
       "      <td>...</td>\n",
       "      <td>0.0</td>\n",
       "      <td>0.0</td>\n",
       "      <td>0.0</td>\n",
       "      <td>0.0</td>\n",
       "      <td>0.0</td>\n",
       "      <td>0.0</td>\n",
       "      <td>0.0</td>\n",
       "      <td>0.0</td>\n",
       "      <td>0.0</td>\n",
       "      <td>0.0</td>\n",
       "    </tr>\n",
       "    <tr>\n",
       "      <th>3</th>\n",
       "      <td>1.0</td>\n",
       "      <td>1.0</td>\n",
       "      <td>1.0</td>\n",
       "      <td>1.0</td>\n",
       "      <td>0.0</td>\n",
       "      <td>1.0</td>\n",
       "      <td>1.0</td>\n",
       "      <td>0.0</td>\n",
       "      <td>0.0</td>\n",
       "      <td>1.0</td>\n",
       "      <td>...</td>\n",
       "      <td>0.0</td>\n",
       "      <td>0.0</td>\n",
       "      <td>0.0</td>\n",
       "      <td>0.0</td>\n",
       "      <td>0.0</td>\n",
       "      <td>0.0</td>\n",
       "      <td>0.0</td>\n",
       "      <td>0.0</td>\n",
       "      <td>0.0</td>\n",
       "      <td>0.0</td>\n",
       "    </tr>\n",
       "    <tr>\n",
       "      <th>4</th>\n",
       "      <td>1.0</td>\n",
       "      <td>0.0</td>\n",
       "      <td>1.0</td>\n",
       "      <td>1.0</td>\n",
       "      <td>1.0</td>\n",
       "      <td>0.0</td>\n",
       "      <td>1.0</td>\n",
       "      <td>1.0</td>\n",
       "      <td>1.0</td>\n",
       "      <td>1.0</td>\n",
       "      <td>...</td>\n",
       "      <td>0.0</td>\n",
       "      <td>0.0</td>\n",
       "      <td>0.0</td>\n",
       "      <td>0.0</td>\n",
       "      <td>0.0</td>\n",
       "      <td>0.0</td>\n",
       "      <td>0.0</td>\n",
       "      <td>0.0</td>\n",
       "      <td>0.0</td>\n",
       "      <td>0.0</td>\n",
       "    </tr>\n",
       "  </tbody>\n",
       "</table>\n",
       "<p>5 rows × 1500 columns</p>\n",
       "</div>"
      ],
      "text/plain": [
       "   GO:0005575  GO:0008150  GO:0110165  GO:0003674  GO:0005622  GO:0009987  \\\n",
       "0         0.0         1.0         0.0         1.0         0.0         1.0   \n",
       "1         1.0         1.0         1.0         1.0         0.0         1.0   \n",
       "2         1.0         1.0         1.0         1.0         1.0         0.0   \n",
       "3         1.0         1.0         1.0         1.0         0.0         1.0   \n",
       "4         1.0         0.0         1.0         1.0         1.0         0.0   \n",
       "\n",
       "   GO:0043226  GO:0043229  GO:0005488  GO:0043227  ...  GO:0034250  \\\n",
       "0         0.0         0.0         1.0         0.0  ...         0.0   \n",
       "1         0.0         0.0         1.0         0.0  ...         0.0   \n",
       "2         1.0         1.0         1.0         1.0  ...         0.0   \n",
       "3         1.0         0.0         0.0         1.0  ...         0.0   \n",
       "4         1.0         1.0         1.0         1.0  ...         0.0   \n",
       "\n",
       "   GO:0140053  GO:0031345  GO:0098802  GO:0045861  GO:0051783  GO:0031674  \\\n",
       "0         0.0         0.0         0.0         0.0         0.0         0.0   \n",
       "1         0.0         0.0         0.0         0.0         0.0         0.0   \n",
       "2         0.0         0.0         0.0         0.0         0.0         0.0   \n",
       "3         0.0         0.0         0.0         0.0         0.0         0.0   \n",
       "4         0.0         0.0         0.0         0.0         0.0         0.0   \n",
       "\n",
       "   GO:0001818  GO:0006874  GO:0016887  \n",
       "0         0.0         0.0         0.0  \n",
       "1         0.0         0.0         0.0  \n",
       "2         0.0         0.0         0.0  \n",
       "3         0.0         0.0         0.0  \n",
       "4         0.0         0.0         0.0  \n",
       "\n",
       "[5 rows x 1500 columns]"
      ]
     },
     "execution_count": 16,
     "metadata": {},
     "output_type": "execute_result"
    }
   ],
   "source": [
    "labels_df.head()"
   ]
  },
  {
   "cell_type": "code",
   "execution_count": 17,
   "id": "ad796bd9",
   "metadata": {},
   "outputs": [],
   "source": [
    "labels_df.to_csv(f'../output/t5_train_labels_num_lbl-{num_of_labels}.csv', index=False)"
   ]
  },
  {
   "cell_type": "code",
   "execution_count": 28,
   "id": "4a43a052",
   "metadata": {},
   "outputs": [
    {
     "data": {
      "text/plain": [
       "array(['BPO', 'CCO', 'MFO'], dtype=object)"
      ]
     },
     "execution_count": 28,
     "metadata": {},
     "output_type": "execute_result"
    }
   ],
   "source": [
    "train_terms_updated.aspect.unique()"
   ]
  },
  {
   "cell_type": "code",
   "execution_count": 30,
   "id": "7b33e0db",
   "metadata": {},
   "outputs": [
    {
     "name": "stdout",
     "output_type": "stream",
     "text": [
      "(142246, 4)\n"
     ]
    }
   ],
   "source": [
    "train_size = train_protein_ids.shape[0] # len(X)\n",
    "train_types = np.zeros((train_size ,3))\n",
    "\n",
    "# Convert from numpy to pandas series for better handling\n",
    "series_train_protein_ids = pd.Series(train_protein_ids)\n",
    "\n",
    "# Loop through each type\n",
    "type_labels = ['BPO', 'CCO', 'MFO']\n",
    "for i, t in enumerate(type_labels):\n",
    "    # For each label, fetch the corresponding train_terms data\n",
    "    n_train_terms = train_terms_updated[train_terms_updated['aspect'] ==  t]\n",
    "    \n",
    "    # Fetch all the unique EntryId aka proteins related to the current label(GO term ID)\n",
    "    type_related_proteins = n_train_terms['EntryID'].unique()\n",
    "    \n",
    "    # In the series_train_protein_ids pandas series, if a protein is related\n",
    "    # to the current label, then mark it as 1, else 0.\n",
    "    # Replace the ith column of train_Y with with that pandas series.\n",
    "    train_types[:,i] =  series_train_protein_ids.isin(type_related_proteins).astype(float)\n",
    "\n",
    "# Convert train_Y numpy into pandas dataframe\n",
    "types_df = pd.DataFrame(data = train_types, columns = type_labels)\n",
    "\n",
    "# create maps for binary to column name\n",
    "map_bpo = {0: '', 1: 'BPO'}\n",
    "map_cco = {0: '', 1: 'CCO'}\n",
    "map_mfo = {0: '', 1: 'MFO'}\n",
    "\n",
    "# replace binary with column name and concatenate\n",
    "types_df['combined'] = types_df['BPO'].map(map_bpo) + ',' + types_df['CCO'].map(map_cco) + ',' + types_df['MFO'].map(map_mfo)\n",
    "\n",
    "# remove unnecessary leading, trailing, and multiple separators\n",
    "types_df['combined'] = types_df['combined'].str.strip(',').str.replace(',+', ',', regex=True)\n",
    "\n",
    "print(types_df.shape)"
   ]
  },
  {
   "cell_type": "code",
   "execution_count": 33,
   "id": "1775b598",
   "metadata": {},
   "outputs": [
    {
     "data": {
      "image/png": "[encoded data removed]",
      "text/plain": [
       "<Figure size 640x480 with 1 Axes>"
      ]
     },
     "metadata": {},
     "output_type": "display_data"
    }
   ],
   "source": [
    "pie_df = types_df['combined'].value_counts()\n",
    "palette_color = sns.color_palette('bright')\n",
    "plt.pie(pie_df.values, labels=np.array(pie_df.index), colors=palette_color, autopct='%.0f%%')\n",
    "plt.show()"
   ]
  },
  {
   "cell_type": "code",
   "execution_count": 34,
   "id": "79a61336",
   "metadata": {},
   "outputs": [],
   "source": [
    "types_df.to_csv(f'../output/train_types_in_num_lbl-{num_of_labels}.csv', index=False)"
   ]
  },
  {
   "cell_type": "markdown",
   "id": "237c3553",
   "metadata": {},
   "source": [
    "## Dataset checkpoint"
   ]
  },
  {
   "cell_type": "code",
   "execution_count": 11,
   "id": "cdf3248a",
   "metadata": {},
   "outputs": [],
   "source": [
    "labels_df = pd.read_csv(f'../output/t5_train_labels_num_lbl-{num_of_labels}.csv')"
   ]
  },
  {
   "cell_type": "code",
   "execution_count": 12,
   "id": "3bd049b8",
   "metadata": {},
   "outputs": [],
   "source": [
    "types_df = pd.read_csv(f'../output/train_types_in_num_lbl-{num_of_labels}.csv')"
   ]
  },
  {
   "cell_type": "markdown",
   "id": "fec4dc99",
   "metadata": {},
   "source": [
    "## Metrics"
   ]
  },
  {
   "cell_type": "code",
   "execution_count": 13,
   "id": "29023065",
   "metadata": {},
   "outputs": [],
   "source": [
    "import numpy as np\n",
    "import pandas as pd\n",
    "import multiprocessing as mp\n",
    "import copy\n",
    "import logging\n",
    "\n",
    "class Graph:\n",
    "    \"\"\"\n",
    "    Ontology class. One ontology == one namespace\n",
    "    DAG is the adjacence matrix (sparse) which represent a Directed Acyclic Graph where\n",
    "    DAG(i,j) == 1 means that the go term i is_a (or is part_of) j\n",
    "    Parents that are in a different namespace are discarded\n",
    "    \"\"\"\n",
    "    def __init__(self, namespace, terms_dict, ia_dict=None, orphans=False):\n",
    "        \"\"\"\n",
    "        terms_dict = {term: {name: , namespace: , def: , alt_id: , rel:}}\n",
    "        \"\"\"\n",
    "        self.namespace = namespace\n",
    "        self.dag = []  # [[], ...] terms (rows, axis 0) x parents (columns, axis 1)\n",
    "        self.terms_dict = {}  # {term: {index: , name: , namespace: , def: }  used to assign term indexes in the gt\n",
    "        self.terms_list = []  # [{id: term, name:, namespace: , def:, adg: [], children: []}, ...]\n",
    "        self.idxs = None  # Number of terms\n",
    "        self.order = None\n",
    "        self.toi = None\n",
    "        self.ia = None\n",
    "\n",
    "        rel_list = []\n",
    "        for self.idxs, (term_id, term) in enumerate(terms_dict.items()):\n",
    "            rel_list.extend([[term_id, rel, term['namespace']] for rel in term['rel']])\n",
    "            self.terms_list.append({'id': term_id, 'name': term['name'], 'namespace': namespace, 'def': term['def'],\n",
    "                                 'adj': [], 'children': []})\n",
    "            self.terms_dict[term_id] = {'index': self.idxs, 'name': term['name'], 'namespace': namespace, 'def': term['def']}\n",
    "            for a_id in term['alt_id']:\n",
    "                self.terms_dict[a_id] = copy.copy(self.terms_dict[term_id])\n",
    "        self.idxs += 1\n",
    "\n",
    "        self.dag = np.zeros((self.idxs, self.idxs), dtype='bool')\n",
    "\n",
    "        # id1 term (row, axis 0), id2 parent (column, axis 1)\n",
    "        for id1, id2, ns in rel_list:\n",
    "            if self.terms_dict.get(id2):\n",
    "                i = self.terms_dict[id1]['index']\n",
    "                j = self.terms_dict[id2]['index']\n",
    "                self.dag[i, j] = 1\n",
    "                self.terms_list[i]['adj'].append(j)\n",
    "                self.terms_list[j]['children'].append(i)\n",
    "                logging.debug(\"i,j {},{} {},{}\".format(i, j, id1, id2))\n",
    "            else:\n",
    "                logging.debug('Skipping branch to external namespace: {}'.format(id2))\n",
    "        logging.debug(\"dag {}\".format(self.dag))\n",
    "        # Topological sorting\n",
    "        self.top_sort()\n",
    "        logging.debug(\"order sorted {}\".format(self.order))\n",
    "\n",
    "        if orphans:\n",
    "            self.toi = np.arange(self.dag.shape[0])  # All terms, also those without parents\n",
    "        else:\n",
    "            self.toi = np.nonzero(self.dag.sum(axis=1) > 0)[0]  # Only terms with parents\n",
    "        logging.debug(\"toi {}\".format(self.toi))\n",
    "\n",
    "        if ia_dict is not None:\n",
    "            self.set_ia(ia_dict)\n",
    "\n",
    "        return\n",
    "\n",
    "    def top_sort(self):\n",
    "        \"\"\"\n",
    "        Takes a sparse matrix representing a DAG and returns an array with nodes indexes in topological order\n",
    "        https://en.wikipedia.org/wiki/Topological_sorting\n",
    "        \"\"\"\n",
    "        indexes = []\n",
    "        visited = 0\n",
    "        (rows, cols) = self.dag.shape\n",
    "\n",
    "        # create a vector containing the in-degree of each node\n",
    "        in_degree = self.dag.sum(axis=0)\n",
    "        # logging.debug(\"degree {}\".format(in_degree))\n",
    "\n",
    "        # find the nodes with in-degree 0 (leaves) and add them to the queue\n",
    "        queue = np.nonzero(in_degree == 0)[0].tolist()\n",
    "        # logging.debug(\"queue {}\".format(queue))\n",
    "\n",
    "        # for each element of the queue increment visits, add them to the list of ordered nodes\n",
    "        # and decrease the in-degree of the neighbor nodes\n",
    "        # and add them to the queue if they reach in-degree == 0\n",
    "        while queue:\n",
    "            visited += 1\n",
    "            idx = queue.pop(0)\n",
    "            indexes.append(idx)\n",
    "            in_degree[idx] -= 1\n",
    "            l = self.terms_list[idx]['adj']\n",
    "            if len(l) > 0:\n",
    "                for j in l:\n",
    "                    in_degree[j] -= 1\n",
    "                    if in_degree[j] == 0:\n",
    "                        queue.append(j)\n",
    "\n",
    "        # if visited is equal to the number of nodes in the graph then the sorting is complete\n",
    "        # otherwise the graph can't be sorted with topological order\n",
    "        if visited == rows:\n",
    "            self.order = indexes\n",
    "        else:\n",
    "            raise Exception(\"The sparse matrix doesn't represent an acyclic graph\")\n",
    "\n",
    "    def set_ia(self, ia_dict):\n",
    "        self.ia = np.zeros(self.idxs, dtype='float')\n",
    "        for term_id in self.terms_dict:\n",
    "            if ia_dict.get(term_id):\n",
    "                self.ia[self.terms_dict[term_id]['index']] = ia_dict.get(term_id)\n",
    "            else:\n",
    "                logging.debug('Missing IA for term: {}'.format(term_id))\n",
    "        # Convert inf to zero\n",
    "        np.nan_to_num(self.ia, copy=False, nan=0, posinf=0, neginf=0)\n",
    "        self.toi = np.nonzero(self.ia > 0)[0]\n",
    "\n",
    "\n",
    "class Prediction:\n",
    "    \"\"\"\n",
    "    The score matrix contains the scores given by the predictor for every node of the ontology\n",
    "    \"\"\"\n",
    "    def __init__(self, ids, matrix, idx, namespace=None):\n",
    "        self.ids = ids\n",
    "        self.matrix = matrix  # scores\n",
    "        self.next_idx = idx\n",
    "        # self.n_pred_seq = idx + 1\n",
    "        self.namespace = namespace\n",
    "\n",
    "    def __str__(self):\n",
    "        return \"\\n\".join([\"{}\\t{}\\t{}\".format(index, self.matrix[index], self.namespace) for index, _id in enumerate(self.ids)])\n",
    "\n",
    "\n",
    "class GroundTruth:\n",
    "    def __init__(self, ids, matrix, namespace=None):\n",
    "        self.ids = ids\n",
    "        self.matrix = matrix\n",
    "        self.namespace = namespace\n",
    "\n",
    "\n",
    "def propagate(matrix, ont, order, mode='max'):\n",
    "    \"\"\"\n",
    "    Update inplace the score matrix (proteins x terms) up to the root taking the max between children and parents\n",
    "    \"\"\"\n",
    "    if matrix.shape[0] == 0:\n",
    "        raise Exception(\"Empty matrix\")\n",
    "\n",
    "    deepest = np.where(np.sum(matrix[:, order], axis=0) > 0)[0][0]\n",
    "    if deepest.size == 0:\n",
    "        raise Exception(\"The matrix is empty\")\n",
    "\n",
    "    # Remove leaves\n",
    "    order_ = np.delete(order, [range(0, deepest)])\n",
    "\n",
    "    for i in order_:\n",
    "        # Get direct children\n",
    "        children = np.where(ont.dag[:, i] != 0)[0]\n",
    "        if children.size > 0:\n",
    "            cols = np.concatenate((children, [i]))\n",
    "            if mode == 'max':\n",
    "                matrix[:, i] = matrix[:, cols].max(axis=1)\n",
    "            elif mode == 'fill':\n",
    "                rows = np.where(matrix[:, i] == 0)[0]\n",
    "                if rows.size:\n",
    "                    idx = np.ix_(rows, cols)\n",
    "                    matrix[rows, i] = matrix[idx].max(axis=1)[0]\n",
    "    return\n",
    "\n",
    "\n",
    "def obo_parser(obo_file, valid_rel=(\"is_a\", \"part_of\")):\n",
    "    \"\"\"\n",
    "    Parse a OBO file and returns a list of ontologies, one for each namespace.\n",
    "    Obsolete terms are excluded as well as external namespaces.\n",
    "    \"\"\"\n",
    "    term_dict = {}\n",
    "    term_id = None\n",
    "    namespace = None\n",
    "    name = None\n",
    "    term_def = None\n",
    "    alt_id = []\n",
    "    rel = []\n",
    "    obsolete = True\n",
    "    with open(obo_file) as f:\n",
    "        for line in f:\n",
    "            line = line.strip().split(\": \")\n",
    "            if line and len(line) > 1:\n",
    "                k = line[0]\n",
    "                v = \": \".join(line[1:])\n",
    "                if k == \"id\":\n",
    "                    # Populate the dictionary with the previous entry\n",
    "                    if term_id is not None and obsolete is False and namespace is not None:\n",
    "                        term_dict.setdefault(namespace, {})[term_id] = {'name': name,\n",
    "                                                                       'namespace': namespace,\n",
    "                                                                       'def': term_def,\n",
    "                                                                       'alt_id': alt_id,\n",
    "                                                                       'rel': rel}\n",
    "                    # Assign current term ID\n",
    "                    term_id = v\n",
    "\n",
    "                    # Reset optional fields\n",
    "                    alt_id = []\n",
    "                    rel = []\n",
    "                    obsolete = False\n",
    "                    namespace = None\n",
    "\n",
    "                elif k == \"alt_id\":\n",
    "                    alt_id.append(v)\n",
    "                elif k == \"name\":\n",
    "                    name = v\n",
    "                elif k == \"namespace\" and v != 'external':\n",
    "                    namespace = v\n",
    "                elif k == \"def\":\n",
    "                    term_def = v\n",
    "                elif k == 'is_obsolete':\n",
    "                    obsolete = True\n",
    "                elif k == \"is_a\" and k in valid_rel:\n",
    "                    s = v.split('!')[0].strip()\n",
    "                    rel.append(s)\n",
    "                elif k == \"relationship\" and v.startswith(\"part_of\") and \"part_of\" in valid_rel:\n",
    "                    s = v.split()[1].strip()\n",
    "                    rel.append(s)\n",
    "\n",
    "        # Last record\n",
    "        if obsolete is False and namespace is not None:\n",
    "            term_dict.setdefault(namespace, {})[term_id] = {'name': name,\n",
    "                                                          'namespace': namespace,\n",
    "                                                          'def': term_def,\n",
    "                                                          'alt_id': alt_id,\n",
    "                                                          'rel': rel}\n",
    "    return term_dict\n",
    "\n",
    "\n",
    "def gt_parser(gt_file, ontologies):\n",
    "    \"\"\"\n",
    "    Parse ground truth file. Discard terms not included in the ontology.\n",
    "    \"\"\"\n",
    "    gt_dict = {}\n",
    "    with open(gt_file) as f:\n",
    "        for line in f:\n",
    "            line = line.strip().split()\n",
    "            if line:\n",
    "                p_id, term_id = line[:2]\n",
    "                for ont in ontologies:\n",
    "                    if term_id in ont.terms_dict:\n",
    "                        gt_dict.setdefault(ont.namespace, {}).setdefault(p_id, []).append(term_id)\n",
    "                        break\n",
    "\n",
    "    gts = {}\n",
    "    for ont in ontologies:\n",
    "        if gt_dict.get(ont.namespace):\n",
    "            matrix = np.zeros((len(gt_dict[ont.namespace]), ont.idxs), dtype='bool')\n",
    "            ids = {}\n",
    "            for i, p_id in enumerate(gt_dict[ont.namespace]):\n",
    "                ids[p_id] = i\n",
    "                for term_id in gt_dict[ont.namespace][p_id]:\n",
    "                    matrix[i, ont.terms_dict[term_id]['index']] = 1\n",
    "            propagate(matrix, ont, ont.order, mode='max')\n",
    "            gts[ont.namespace] = GroundTruth(ids, matrix, ont.namespace)\n",
    "\n",
    "    return gts\n",
    "\n",
    "\n",
    "def pred_parser(f, ontologies, gts, prop_mode, max_terms=None):\n",
    "    \"\"\"\n",
    "    Parse a prediction file and returns a list of prediction objects, one for each namespace.\n",
    "    If a predicted is predicted multiple times for the same target, it stores the max.\n",
    "    This is the slow step if the input file is huge, ca. 1 minute for 5GB input on SSD disk.\n",
    "    \"\"\"\n",
    "    ids = {}\n",
    "    matrix = {}\n",
    "    ns_dict = {}  # {namespace: term}\n",
    "    onts = {ont.namespace: ont for ont in ontologies}\n",
    "    for ns in gts:\n",
    "        matrix[ns] = np.zeros(gts[ns].matrix.shape, dtype='float')\n",
    "        ids[ns] = {}\n",
    "        for term in onts[ns].terms_dict:\n",
    "            ns_dict[term] = ns\n",
    "\n",
    "    for line in tqdm(f, total=len(f), \n",
    "                  desc=\"parsing preds\", ascii=True, leave=False, position=2):\n",
    "        p_id, term_id, prob = line\n",
    "        ns = ns_dict.get(term_id)\n",
    "        if ns in gts and p_id in gts[ns].ids:\n",
    "            i = gts[ns].ids[p_id]\n",
    "            if max_terms is None or np.count_nonzero(matrix[ns][i]) <= max_terms:\n",
    "                j = onts[ns].terms_dict.get(term_id)['index']\n",
    "                ids[ns][p_id] = i\n",
    "                matrix[ns][i, j] = max(matrix[ns][i, j], float(prob))\n",
    "\n",
    "    predictions = []\n",
    "    for ns in ids:\n",
    "        if ids[ns]:\n",
    "            propagate(matrix[ns], onts[ns], onts[ns].order, mode=prop_mode)\n",
    "            predictions.append(Prediction(ids[ns], matrix[ns], len(ids[ns]), ns))\n",
    "\n",
    "    if not predictions:\n",
    "        raise Exception(\"Empty prediction, check format\")\n",
    "\n",
    "    return predictions\n",
    "\n",
    "\n",
    "def ia_parser(file):\n",
    "    ia_dict = {}\n",
    "    with open(file) as f:\n",
    "        for line in f:\n",
    "            if line:\n",
    "                term, ia = line.strip().split()\n",
    "                ia_dict[term] = float(ia)\n",
    "    return ia_dict\n",
    "\n",
    "# Computes the root terms in the dag\n",
    "def get_roots_idx(dag):\n",
    "    return np.where(dag.sum(axis=1) == 0)[0]\n",
    "\n",
    "\n",
    "# Computes the leaf terms in the dag\n",
    "def get_leafs_idx(dag):\n",
    "    return np.where(dag.sum(axis=0) == 0)[0]\n",
    "\n",
    "\n",
    "# Return a mask for all the predictions (matrix) >= tau\n",
    "def solidify_prediction(pred, tau):\n",
    "    return pred >= tau\n",
    "\n",
    "\n",
    "# computes the f metric for each precision and recall in the input arrays\n",
    "def compute_f(pr, rc):\n",
    "    n = 2 * pr * rc\n",
    "    d = pr + rc\n",
    "    return np.divide(n, d, out=np.zeros_like(n, dtype=float), where=d != 0)\n",
    "\n",
    "\n",
    "def compute_s(ru, mi):\n",
    "    return np.sqrt(ru**2 + mi**2)\n",
    "    # return np.where(np.isnan(ru), mi, np.sqrt(ru + np.nan_to_num(mi)))\n",
    "\n",
    "\n",
    "def compute_metrics_(tau_arr, g, pred, toi, n_gt, wn_gt=None, ic_arr=None):\n",
    "\n",
    "    metrics = np.zeros((len(tau_arr), 7), dtype='float')  # cov, pr, rc, wpr, wrc, ru, mi\n",
    "\n",
    "    for i, tau in enumerate(tau_arr):\n",
    "\n",
    "        p = solidify_prediction(pred.matrix[:, toi], tau)\n",
    "\n",
    "        # number of proteins with at least one term predicted with score >= tau\n",
    "        metrics[i, 0] = (p.sum(axis=1) > 0).sum()\n",
    "\n",
    "        # Terms subsets\n",
    "        intersection = np.logical_and(p, g)  # TP\n",
    "\n",
    "        # Subsets size\n",
    "        n_pred = p.sum(axis=1)\n",
    "        n_intersection = intersection.sum(axis=1)\n",
    "\n",
    "        # Precision, recall\n",
    "        metrics[i, 1] = np.divide(n_intersection, n_pred, out=np.zeros_like(n_intersection, dtype='float'),\n",
    "                                  where=n_pred > 0).sum()\n",
    "        metrics[i, 2] = np.divide(n_intersection, n_gt, out=np.zeros_like(n_gt, dtype='float'), where=n_gt > 0).sum()\n",
    "\n",
    "        if ic_arr is not None:\n",
    "            # Terms subsets\n",
    "            remaining = np.logical_and(np.logical_not(p), g)  # FN --> not predicted but in the ground truth\n",
    "            mis = np.logical_and(p, np.logical_not(g))  # FP --> predicted but not in the ground truth\n",
    "\n",
    "            # Weighted precision, recall\n",
    "            wn_pred = (p * ic_arr[toi]).sum(axis=1)\n",
    "            wn_intersection = (intersection * ic_arr[toi]).sum(axis=1)\n",
    "\n",
    "            metrics[i, 3] = np.divide(wn_intersection, wn_pred, out=np.zeros_like(n_intersection, dtype='float'),\n",
    "                                      where=n_pred > 0).sum()\n",
    "            metrics[i, 4] = np.divide(wn_intersection, wn_gt, out=np.zeros_like(n_intersection, dtype='float'),\n",
    "                                      where=n_gt > 0).sum()\n",
    "\n",
    "            # Misinformation, remaining uncertainty\n",
    "            metrics[i, 5] = (remaining * ic_arr[toi]).sum(axis=1).sum()\n",
    "            metrics[i, 6] = (mis * ic_arr[toi]).sum(axis=1).sum()\n",
    "    return metrics\n",
    "\n",
    "\n",
    "def compute_metrics(pred, gt, toi, tau_arr, ic_arr=None, n_cpu=0):\n",
    "    \"\"\"\n",
    "    Takes the prediction and the ground truth and for each threshold in tau_arr\n",
    "    calculates the confusion matrix and returns the coverage,\n",
    "    precision, recall, remaining uncertainty and misinformation.\n",
    "    Toi is the list of terms (indexes) to be considered\n",
    "    \"\"\"\n",
    "    g = gt.matrix[:, toi]\n",
    "    n_gt = g.sum(axis=1)\n",
    "    wn_gt = None\n",
    "    if ic_arr is not None:\n",
    "        wn_gt = (g * ic_arr[toi]).sum(axis=1)\n",
    "\n",
    "    # Parallelization\n",
    "    if n_cpu == 0:\n",
    "        n_cpu = mp.cpu_count()\n",
    "\n",
    "    arg_lists = [[tau_arr, g, pred, toi, n_gt, wn_gt, ic_arr] for tau_arr in np.array_split(tau_arr, n_cpu)]\n",
    "    if 0:\n",
    "        # Original parallel way (# It does not work on Kaggle)\n",
    "        arg_lists = [[tau_arr, g, pred, toi, n_gt, wn_gt, ic_arr] for tau_arr in np.array_split(tau_arr, n_cpu)]\n",
    "        with mp.Pool(processes=n_cpu) as pool:\n",
    "            metrics = np.concatenate(pool.starmap(compute_metrics_, arg_lists), axis=0)\n",
    "    else: \n",
    "        # no-parallel: \n",
    "        metrics = compute_metrics_(tau_arr, g, pred, toi, n_gt, wn_gt, ic_arr )\n",
    "\n",
    "    return pd.DataFrame(metrics, columns=[\"cov\", \"pr\", \"rc\", \"wpr\", \"wrc\", \"ru\", \"mi\"])\n",
    "\n",
    "\n",
    "def evaluate_prediction(prediction, gt, ontologies, tau_arr, normalization='cafa', n_cpu=0):\n",
    "    dfs = []\n",
    "    for p in tqdm(prediction, total=len(prediction), \n",
    "                  desc=\"calculating metric\", ascii=True, leave=False, position=2):\n",
    "        ns = p.namespace\n",
    "        ne = np.full(len(tau_arr), gt[ns].matrix.shape[0])\n",
    "\n",
    "        ont = [o for o in ontologies if o.namespace == ns][0]\n",
    "\n",
    "        # cov, pr, rc, wpr, wrc, ru, mi\n",
    "        metrics = compute_metrics(p, gt[ns], ont.toi, tau_arr, ont.ia, n_cpu)\n",
    "\n",
    "        for column in [\"pr\", \"rc\", \"wpr\", \"wrc\", \"ru\", \"mi\"]:\n",
    "            if normalization == 'gt' or (column in [\"rc\", \"wrc\"] and normalization == 'cafa'):\n",
    "                metrics[column] = np.divide(metrics[column], ne, out=np.zeros_like(metrics[column], dtype='float'), where=ne > 0)\n",
    "            else:\n",
    "                metrics[column] = np.divide(metrics[column], metrics[\"cov\"], out=np.zeros_like(metrics[column], dtype='float'), where=metrics[\"cov\"] > 0)\n",
    "\n",
    "        metrics['ns'] = [ns] * len(tau_arr)\n",
    "        metrics['tau'] = tau_arr\n",
    "        metrics['cov'] = np.divide(metrics['cov'], ne, out=np.zeros_like(metrics['cov'], dtype='float'), where=ne > 0)\n",
    "        metrics['f'] = compute_f(metrics['pr'], metrics['rc'])\n",
    "        metrics['wf'] = compute_f(metrics['wpr'], metrics['wrc'])\n",
    "        metrics['s'] = compute_s(metrics['ru'], metrics['mi'])\n",
    "\n",
    "        dfs.append(metrics)\n",
    "\n",
    "    return pd.concat(dfs)"
   ]
  },
  {
   "cell_type": "code",
   "execution_count": 14,
   "id": "5273df34",
   "metadata": {},
   "outputs": [],
   "source": [
    "# Tau array, used to compute metrics at different score thresholds\n",
    "th_step = 0.01\n",
    "tau_arr = np.arange(0.01, 1, th_step)\n",
    "#Consider terms without parents, e.g. the root(s), in the evaluation\n",
    "no_orphans = False\n",
    "# Parse and set information accretion (optional)\n",
    "ia_dict = ia_parser('../input/cafa-5-protein-function-prediction/IA.txt')"
   ]
  },
  {
   "cell_type": "code",
   "execution_count": 15,
   "id": "3ac720a6",
   "metadata": {},
   "outputs": [],
   "source": [
    "# Parse the OBO file and creates a different graph for each namespace\n",
    "ontologies = []\n",
    "obo_file = '../input/cafa-5-protein-function-prediction/Train/go-basic.obo'\n",
    "for ns, terms_dict in obo_parser(obo_file).items():\n",
    "    ontologies.append(Graph(ns, terms_dict, ia_dict, not no_orphans))"
   ]
  },
  {
   "cell_type": "markdown",
   "id": "718ab449",
   "metadata": {},
   "source": [
    "## Training"
   ]
  },
  {
   "cell_type": "code",
   "execution_count": 16,
   "id": "0da98cbf",
   "metadata": {},
   "outputs": [],
   "source": [
    "N_SPLITS = 5\n",
    "RND_SEED = 2023\n",
    "\n",
    "# Create a KFold object\n",
    "skf = StratifiedKFold(n_splits=N_SPLITS, shuffle=True, random_state=RND_SEED)"
   ]
  },
  {
   "cell_type": "code",
   "execution_count": 17,
   "id": "234d32ff",
   "metadata": {},
   "outputs": [],
   "source": [
    "class EmbeddingModel(nn.Module):\n",
    "    def __init__(self, input_shape, num_of_labels, n_hidden:int=512, activation=nn.Mish()):\n",
    "        super(EmbeddingModel, self).__init__()\n",
    "        \n",
    "        self.batch_norm = nn.BatchNorm1d(input_shape)\n",
    "        self.dropout1 = nn.Dropout(p=0.25)\n",
    "        \n",
    "        self.dense1 = nn.Linear(input_shape, n_hidden)\n",
    "        self.dense2 = nn.Linear(n_hidden, n_hidden)\n",
    "        self.dense3 = nn.Linear(n_hidden, n_hidden)\n",
    "        \n",
    "        self.dropout2 = nn.Dropout(p=0.1)\n",
    "        \n",
    "        self.out = nn.Linear(n_hidden, num_of_labels)\n",
    "        self.activation = activation\n",
    "\n",
    "    def forward(self, batch):\n",
    "        x = batch['x']\n",
    "        \n",
    "        x = self.batch_norm(x)\n",
    "        x = self.dropout1(x)\n",
    "        \n",
    "        # n_feats \n",
    "        x = self.activation(self.dense1(x))\n",
    "        x = self.activation(self.dense2(x))\n",
    "        x = self.activation(self.dense3(x))\n",
    "        \n",
    "        x = self.dropout2(x)\n",
    "        \n",
    "        x = self.out(x)\n",
    "        \n",
    "        return x"
   ]
  },
  {
   "cell_type": "code",
   "execution_count": 18,
   "id": "0757819d",
   "metadata": {},
   "outputs": [],
   "source": [
    "class EmbeddingDataset(Dataset):\n",
    "    def __init__(self, x, y, device):\n",
    "        self.x = x.astype(np.float32)\n",
    "        self.y = y.astype(np.float32)\n",
    "        self.device = device\n",
    "    \n",
    "    def __len__(self):\n",
    "        return len(self.y)\n",
    "\n",
    "    def __getitem__(self,idx):\n",
    "        return {\n",
    "            'x':torch.tensor(self.x[idx]).to(self.device), \n",
    "            'y':torch.tensor(self.y[idx]).to(self.device)\n",
    "        }"
   ]
  },
  {
   "cell_type": "code",
   "execution_count": 19,
   "id": "f7dfb38a",
   "metadata": {},
   "outputs": [],
   "source": [
    "def create_out_dir(name=None, output_root='../output/'):\n",
    "    \"\"\"\n",
    "    Creates a new output directory under the given root directory. The new directory is named with the current timestamp, \n",
    "    and an optional specific name can also be appended.\n",
    "\n",
    "    If the root directory doesn't exist, it gets created.\n",
    "\n",
    "    Args:\n",
    "        name (str, optional): Specific name to append to the directory name. Defaults to None.\n",
    "        output_root (str, optional): The root directory where the new directory will be created. Defaults to '../output/'.\n",
    "\n",
    "    Returns:\n",
    "        str: The full path of the created directory.\n",
    "\n",
    "    Raises:\n",
    "        OSError: If there is an issue creating the directories.\n",
    "    \"\"\"\n",
    "    if not os.path.exists(output_root): os.mkdir(output_root)\n",
    "    dirname = datetime.now().strftime(\"%Y%m%d-%H%M%S\")\n",
    "    if name is not None: dirname += f'-{name}'\n",
    "    dirname = os.path.join(output_root, dirname)\n",
    "    if not os.path.exists(dirname): os.mkdir(dirname)\n",
    "    return dirname"
   ]
  },
  {
   "cell_type": "code",
   "execution_count": 20,
   "id": "507e9b21",
   "metadata": {},
   "outputs": [],
   "source": [
    "def get_dataloaders(train_index, test_index, batch_size:int, num_workers:int=4):\n",
    "    # Generate the training data for this split\n",
    "    X_train = train_df.iloc[train_index]\n",
    "    y_train = labels_df.iloc[train_index]\n",
    "    \n",
    "    # Generate the validation data for this split\n",
    "    X_val = train_df.iloc[test_index]\n",
    "    y_val = labels_df.iloc[test_index]\n",
    "    \n",
    "    dataset = EmbeddingDataset(X_train.values, y_train.values, device='cpu')\n",
    "    dataset_val = EmbeddingDataset(X_val.values, y_val.values, device='cpu')\n",
    "    \n",
    "    dl = DataLoader(\n",
    "        dataset,\n",
    "        sampler = RandomSampler(dataset),\n",
    "        batch_size  = batch_size,\n",
    "        drop_last   = True,\n",
    "        num_workers = num_workers,\n",
    "        pin_memory  = True,\n",
    "        worker_init_fn = lambda id: np.random.seed(torch.initial_seed() // 2 ** 32 + id),\n",
    "    )\n",
    "    \n",
    "    dl_val = DataLoader(\n",
    "        dataset_val,\n",
    "        sampler = SequentialSampler(dataset_val),\n",
    "        batch_size  = batch_size,\n",
    "        drop_last   = False,\n",
    "        num_workers = num_workers,\n",
    "        pin_memory  = True,\n",
    "        worker_init_fn = lambda id: np.random.seed(torch.initial_seed() // 2 ** 32 + id),\n",
    "    )\n",
    "    \n",
    "    return dl, dl_val"
   ]
  },
  {
   "cell_type": "code",
   "execution_count": 21,
   "id": "ac64dfba",
   "metadata": {},
   "outputs": [],
   "source": [
    "def calculate_class_weights(dl, max_weight=20):\n",
    "    return np.clip(\n",
    "            1. / np.concatenate([data['y'].numpy() for data in dl]).mean(axis=0),\n",
    "            1., max_weight)"
   ]
  },
  {
   "cell_type": "code",
   "execution_count": 22,
   "id": "a6367126",
   "metadata": {},
   "outputs": [],
   "source": [
    "def val_probs_to_ontology_columns(val_probs):\n",
    "    \"\"\" \n",
    "    Maps classes to three different ontolygy columns \n",
    "    If input is n x 1500, the output is m x 3 where m > n\n",
    "    \n",
    "    This subsamples the set to include similar amount of probs from each three column\n",
    "    \"\"\"\n",
    "    bpo_indices = np.array([i for i,l in enumerate(labels_to_consider) if term_aspect_map[l] == 'BPO'])\n",
    "    cco_indices = np.array([i for i,l in enumerate(labels_to_consider) if term_aspect_map[l] == 'CCO'])\n",
    "    mfo_indices = np.array([i for i,l in enumerate(labels_to_consider) if term_aspect_map[l] == 'MFO'])\n",
    "    bpo_vals = val_probs[:,bpo_indices].reshape(-1,1)\n",
    "    cco_vals = val_probs[:,cco_indices].reshape(-1,1)\n",
    "    mfo_vals = val_probs[:,mfo_indices].reshape(-1,1)\n",
    "    min_len = min([bpo_vals.shape[0], cco_vals.shape[0], mfo_vals.shape[0]])\n",
    "    \n",
    "    return np.concatenate([bpo_vals[:min_len,:], cco_vals[:min_len,:], mfo_vals[:min_len,:]], -1)"
   ]
  },
  {
   "cell_type": "code",
   "execution_count": 23,
   "id": "8b91897a",
   "metadata": {},
   "outputs": [],
   "source": [
    "from sklearn.metrics import roc_auc_score, f1_score, precision_score, recall_score"
   ]
  },
  {
   "cell_type": "code",
   "execution_count": 24,
   "id": "e3c3c51a",
   "metadata": {},
   "outputs": [],
   "source": [
    "CFG = {\n",
    "    'epochs' : 13,\n",
    "    'batch_size' : 2048,\n",
    "    'train_folds' : [0, 1, 2, 3, 4],\n",
    "    'input_shape' : train_df.shape[1],\n",
    "    'lr' : 0.001,\n",
    "    'optimizer' : 'adam',\n",
    "    'schedule' : 'none',\n",
    "}\n",
    "\n",
    "device = 'cuda'\n",
    "eval_every_n = 1\n",
    "calculate_metric_every = 5"
   ]
  },
  {
   "cell_type": "code",
   "execution_count": 25,
   "id": "2931b454",
   "metadata": {},
   "outputs": [
    {
     "data": {
      "application/vnd.jupyter.widget-view+json": {
       "model_id": "3ba32e6fbd2048e380758400b4db5bb8",
       "version_major": 2,
       "version_minor": 0
      },
      "text/plain": [
       "Fold: 0it [00:00, ?it/s]"
      ]
     },
     "metadata": {},
     "output_type": "display_data"
    },
    {
     "data": {
      "text/html": [
       "Finishing last run (ID:tn4yebwx) before initializing another..."
      ],
      "text/plain": [
       "<IPython.core.display.HTML object>"
      ]
     },
     "metadata": {},
     "output_type": "display_data"
    },
    {
     "data": {
      "text/html": [
       "Waiting for W&B process to finish... <strong style=\"color:green\">(success).</strong>"
      ],
      "text/plain": [
       "<IPython.core.display.HTML object>"
      ]
     },
     "metadata": {},
     "output_type": "display_data"
    },
    {
     "data": {
      "application/vnd.jupyter.widget-view+json": {
       "model_id": "29772ad8b12d4c1e8c78e081a3d04728",
       "version_major": 2,
       "version_minor": 0
      },
      "text/plain": [
       "VBox(children=(Label(value='0.011 MB of 0.014 MB uploaded (0.000 MB deduped)\\r'), FloatProgress(value=0.771210…"
      ]
     },
     "metadata": {},
     "output_type": "display_data"
    },
    {
     "data": {
      "text/html": [
       " View run <strong style=\"color:#cdcd00\">spring-fog-9</strong> at: <a href='https://wandb.ai/qitvision/cafa-5/runs/tn4yebwx' target=\"_blank\">https://wandb.ai/qitvision/cafa-5/runs/tn4yebwx</a><br/>Synced 5 W&B file(s), 0 media file(s), 0 artifact file(s) and 0 other file(s)"
      ],
      "text/plain": [
       "<IPython.core.display.HTML object>"
      ]
     },
     "metadata": {},
     "output_type": "display_data"
    },
    {
     "data": {
      "text/html": [
       "Find logs at: <code>../output/20230708-101428/fold-0/wandb/run-20230708_101430-tn4yebwx/logs</code>"
      ],
      "text/plain": [
       "<IPython.core.display.HTML object>"
      ]
     },
     "metadata": {},
     "output_type": "display_data"
    },
    {
     "data": {
      "text/html": [
       "Successfully finished last run (ID:tn4yebwx). Initializing new run:<br/>"
      ],
      "text/plain": [
       "<IPython.core.display.HTML object>"
      ]
     },
     "metadata": {},
     "output_type": "display_data"
    },
    {
     "data": {
      "application/vnd.jupyter.widget-view+json": {
       "model_id": "68c70f575a27493fb97cf89928ea8965",
       "version_major": 2,
       "version_minor": 0
      },
      "text/plain": [
       "VBox(children=(Label(value='Waiting for wandb.init()...\\r'), FloatProgress(value=0.01667023658325585, max=1.0)…"
      ]
     },
     "metadata": {},
     "output_type": "display_data"
    },
    {
     "data": {
      "text/html": [
       "wandb version 0.15.5 is available!  To upgrade, please run:\n",
       " $ pip install wandb --upgrade"
      ],
      "text/plain": [
       "<IPython.core.display.HTML object>"
      ]
     },
     "metadata": {},
     "output_type": "display_data"
    },
    {
     "data": {
      "text/html": [
       "Tracking run with wandb version 0.15.4"
      ],
      "text/plain": [
       "<IPython.core.display.HTML object>"
      ]
     },
     "metadata": {},
     "output_type": "display_data"
    },
    {
     "data": {
      "text/html": [
       "Run data is saved locally in <code>../output/20230708-101820/fold-0/wandb/run-20230708_101820-zhg777r9</code>"
      ],
      "text/plain": [
       "<IPython.core.display.HTML object>"
      ]
     },
     "metadata": {},
     "output_type": "display_data"
    },
    {
     "data": {
      "text/html": [
       "Syncing run <strong><a href='https://wandb.ai/qitvision/cafa-5/runs/zhg777r9' target=\"_blank\">good-firefly-10</a></strong> to <a href='https://wandb.ai/qitvision/cafa-5' target=\"_blank\">Weights & Biases</a> (<a href='https://wandb.me/run' target=\"_blank\">docs</a>)<br/>"
      ],
      "text/plain": [
       "<IPython.core.display.HTML object>"
      ]
     },
     "metadata": {},
     "output_type": "display_data"
    },
    {
     "data": {
      "text/html": [
       " View project at <a href='https://wandb.ai/qitvision/cafa-5' target=\"_blank\">https://wandb.ai/qitvision/cafa-5</a>"
      ],
      "text/plain": [
       "<IPython.core.display.HTML object>"
      ]
     },
     "metadata": {},
     "output_type": "display_data"
    },
    {
     "data": {
      "text/html": [
       " View run at <a href='https://wandb.ai/qitvision/cafa-5/runs/zhg777r9' target=\"_blank\">https://wandb.ai/qitvision/cafa-5/runs/zhg777r9</a>"
      ],
      "text/plain": [
       "<IPython.core.display.HTML object>"
      ]
     },
     "metadata": {},
     "output_type": "display_data"
    },
    {
     "data": {
      "application/vnd.jupyter.widget-view+json": {
       "model_id": "742c786c3d75471e9f8a54fb5d21c90c",
       "version_major": 2,
       "version_minor": 0
      },
      "text/plain": [
       "epoch:   0%|          | 0/13 [00:00<?, ?it/s]"
      ]
     },
     "metadata": {},
     "output_type": "display_data"
    },
    {
     "data": {
      "application/vnd.jupyter.widget-view+json": {
       "model_id": "",
       "version_major": 2,
       "version_minor": 0
      },
      "text/plain": [
       "  0%|          | 0/55 [00:00<?, ?it/s]"
      ]
     },
     "metadata": {},
     "output_type": "display_data"
    },
    {
     "data": {
      "application/vnd.jupyter.widget-view+json": {
       "model_id": "",
       "version_major": 2,
       "version_minor": 0
      },
      "text/plain": [
       "validating:   0%|          | 0/14 [00:00<?, ?it/s]"
      ]
     },
     "metadata": {},
     "output_type": "display_data"
    },
    {
     "data": {
      "application/vnd.jupyter.widget-view+json": {
       "model_id": "",
       "version_major": 2,
       "version_minor": 0
      },
      "text/plain": [
       "  0%|          | 0/55 [00:00<?, ?it/s]"
      ]
     },
     "metadata": {},
     "output_type": "display_data"
    },
    {
     "data": {
      "application/vnd.jupyter.widget-view+json": {
       "model_id": "",
       "version_major": 2,
       "version_minor": 0
      },
      "text/plain": [
       "validating:   0%|          | 0/14 [00:00<?, ?it/s]"
      ]
     },
     "metadata": {},
     "output_type": "display_data"
    },
    {
     "data": {
      "application/vnd.jupyter.widget-view+json": {
       "model_id": "",
       "version_major": 2,
       "version_minor": 0
      },
      "text/plain": [
       "  0%|          | 0/55 [00:00<?, ?it/s]"
      ]
     },
     "metadata": {},
     "output_type": "display_data"
    },
    {
     "name": "stderr",
     "output_type": "stream",
     "text": [
      "wandb: Network error (ConnectionError), entering retry loop.\n"
     ]
    },
    {
     "data": {
      "application/vnd.jupyter.widget-view+json": {
       "model_id": "",
       "version_major": 2,
       "version_minor": 0
      },
      "text/plain": [
       "validating:   0%|          | 0/14 [00:00<?, ?it/s]"
      ]
     },
     "metadata": {},
     "output_type": "display_data"
    },
    {
     "data": {
      "application/vnd.jupyter.widget-view+json": {
       "model_id": "",
       "version_major": 2,
       "version_minor": 0
      },
      "text/plain": [
       "  0%|          | 0/55 [00:00<?, ?it/s]"
      ]
     },
     "metadata": {},
     "output_type": "display_data"
    },
    {
     "data": {
      "application/vnd.jupyter.widget-view+json": {
       "model_id": "",
       "version_major": 2,
       "version_minor": 0
      },
      "text/plain": [
       "validating:   0%|          | 0/14 [00:00<?, ?it/s]"
      ]
     },
     "metadata": {},
     "output_type": "display_data"
    },
    {
     "data": {
      "application/vnd.jupyter.widget-view+json": {
       "model_id": "",
       "version_major": 2,
       "version_minor": 0
      },
      "text/plain": [
       "  0%|          | 0/55 [00:00<?, ?it/s]"
      ]
     },
     "metadata": {},
     "output_type": "display_data"
    },
    {
     "data": {
      "application/vnd.jupyter.widget-view+json": {
       "model_id": "",
       "version_major": 2,
       "version_minor": 0
      },
      "text/plain": [
       "validating:   0%|          | 0/14 [00:00<?, ?it/s]"
      ]
     },
     "metadata": {},
     "output_type": "display_data"
    },
    {
     "data": {
      "application/vnd.jupyter.widget-view+json": {
       "model_id": "",
       "version_major": 2,
       "version_minor": 0
      },
      "text/plain": [
       "collecting metric:   0%|          | 0/28450 [00:00<?, ?it/s]"
      ]
     },
     "metadata": {},
     "output_type": "display_data"
    },
    {
     "data": {
      "application/vnd.jupyter.widget-view+json": {
       "model_id": "",
       "version_major": 2,
       "version_minor": 0
      },
      "text/plain": [
       "parsing preds:   0%|          | 0/29342517 [00:00<?, ?it/s]"
      ]
     },
     "metadata": {},
     "output_type": "display_data"
    },
    {
     "data": {
      "application/vnd.jupyter.widget-view+json": {
       "model_id": "",
       "version_major": 2,
       "version_minor": 0
      },
      "text/plain": [
       "calculating metric:   0%|          | 0/3 [00:01<?, ?it/s]"
      ]
     },
     "metadata": {},
     "output_type": "display_data"
    },
    {
     "data": {
      "application/vnd.jupyter.widget-view+json": {
       "model_id": "",
       "version_major": 2,
       "version_minor": 0
      },
      "text/plain": [
       "  0%|          | 0/55 [00:00<?, ?it/s]"
      ]
     },
     "metadata": {},
     "output_type": "display_data"
    },
    {
     "data": {
      "application/vnd.jupyter.widget-view+json": {
       "model_id": "",
       "version_major": 2,
       "version_minor": 0
      },
      "text/plain": [
       "validating:   0%|          | 0/14 [00:00<?, ?it/s]"
      ]
     },
     "metadata": {},
     "output_type": "display_data"
    },
    {
     "data": {
      "application/vnd.jupyter.widget-view+json": {
       "model_id": "",
       "version_major": 2,
       "version_minor": 0
      },
      "text/plain": [
       "  0%|          | 0/55 [00:00<?, ?it/s]"
      ]
     },
     "metadata": {},
     "output_type": "display_data"
    },
    {
     "data": {
      "application/vnd.jupyter.widget-view+json": {
       "model_id": "",
       "version_major": 2,
       "version_minor": 0
      },
      "text/plain": [
       "validating:   0%|          | 0/14 [00:00<?, ?it/s]"
      ]
     },
     "metadata": {},
     "output_type": "display_data"
    },
    {
     "data": {
      "application/vnd.jupyter.widget-view+json": {
       "model_id": "",
       "version_major": 2,
       "version_minor": 0
      },
      "text/plain": [
       "  0%|          | 0/55 [00:00<?, ?it/s]"
      ]
     },
     "metadata": {},
     "output_type": "display_data"
    },
    {
     "data": {
      "application/vnd.jupyter.widget-view+json": {
       "model_id": "",
       "version_major": 2,
       "version_minor": 0
      },
      "text/plain": [
       "validating:   0%|          | 0/14 [00:00<?, ?it/s]"
      ]
     },
     "metadata": {},
     "output_type": "display_data"
    },
    {
     "data": {
      "application/vnd.jupyter.widget-view+json": {
       "model_id": "",
       "version_major": 2,
       "version_minor": 0
      },
      "text/plain": [
       "  0%|          | 0/55 [00:00<?, ?it/s]"
      ]
     },
     "metadata": {},
     "output_type": "display_data"
    },
    {
     "data": {
      "application/vnd.jupyter.widget-view+json": {
       "model_id": "",
       "version_major": 2,
       "version_minor": 0
      },
      "text/plain": [
       "validating:   0%|          | 0/14 [00:00<?, ?it/s]"
      ]
     },
     "metadata": {},
     "output_type": "display_data"
    },
    {
     "data": {
      "application/vnd.jupyter.widget-view+json": {
       "model_id": "",
       "version_major": 2,
       "version_minor": 0
      },
      "text/plain": [
       "  0%|          | 0/55 [00:00<?, ?it/s]"
      ]
     },
     "metadata": {},
     "output_type": "display_data"
    },
    {
     "data": {
      "application/vnd.jupyter.widget-view+json": {
       "model_id": "",
       "version_major": 2,
       "version_minor": 0
      },
      "text/plain": [
       "validating:   0%|          | 0/14 [00:00<?, ?it/s]"
      ]
     },
     "metadata": {},
     "output_type": "display_data"
    },
    {
     "data": {
      "application/vnd.jupyter.widget-view+json": {
       "model_id": "",
       "version_major": 2,
       "version_minor": 0
      },
      "text/plain": [
       "collecting metric:   0%|          | 0/28450 [00:00<?, ?it/s]"
      ]
     },
     "metadata": {},
     "output_type": "display_data"
    },
    {
     "data": {
      "application/vnd.jupyter.widget-view+json": {
       "model_id": "",
       "version_major": 2,
       "version_minor": 0
      },
      "text/plain": [
       "parsing preds:   0%|          | 0/25603539 [00:00<?, ?it/s]"
      ]
     },
     "metadata": {},
     "output_type": "display_data"
    },
    {
     "data": {
      "application/vnd.jupyter.widget-view+json": {
       "model_id": "",
       "version_major": 2,
       "version_minor": 0
      },
      "text/plain": [
       "calculating metric:   0%|          | 0/3 [00:00<?, ?it/s]"
      ]
     },
     "metadata": {},
     "output_type": "display_data"
    },
    {
     "data": {
      "application/vnd.jupyter.widget-view+json": {
       "model_id": "",
       "version_major": 2,
       "version_minor": 0
      },
      "text/plain": [
       "  0%|          | 0/55 [00:00<?, ?it/s]"
      ]
     },
     "metadata": {},
     "output_type": "display_data"
    },
    {
     "data": {
      "application/vnd.jupyter.widget-view+json": {
       "model_id": "",
       "version_major": 2,
       "version_minor": 0
      },
      "text/plain": [
       "validating:   0%|          | 0/14 [00:00<?, ?it/s]"
      ]
     },
     "metadata": {},
     "output_type": "display_data"
    },
    {
     "data": {
      "application/vnd.jupyter.widget-view+json": {
       "model_id": "",
       "version_major": 2,
       "version_minor": 0
      },
      "text/plain": [
       "  0%|          | 0/55 [00:00<?, ?it/s]"
      ]
     },
     "metadata": {},
     "output_type": "display_data"
    },
    {
     "data": {
      "application/vnd.jupyter.widget-view+json": {
       "model_id": "",
       "version_major": 2,
       "version_minor": 0
      },
      "text/plain": [
       "validating:   0%|          | 0/14 [00:00<?, ?it/s]"
      ]
     },
     "metadata": {},
     "output_type": "display_data"
    },
    {
     "data": {
      "application/vnd.jupyter.widget-view+json": {
       "model_id": "",
       "version_major": 2,
       "version_minor": 0
      },
      "text/plain": [
       "  0%|          | 0/55 [00:00<?, ?it/s]"
      ]
     },
     "metadata": {},
     "output_type": "display_data"
    },
    {
     "data": {
      "application/vnd.jupyter.widget-view+json": {
       "model_id": "",
       "version_major": 2,
       "version_minor": 0
      },
      "text/plain": [
       "validating:   0%|          | 0/14 [00:00<?, ?it/s]"
      ]
     },
     "metadata": {},
     "output_type": "display_data"
    },
    {
     "data": {
      "application/vnd.jupyter.widget-view+json": {
       "model_id": "",
       "version_major": 2,
       "version_minor": 0
      },
      "text/plain": [
       "collecting metric:   0%|          | 0/28450 [00:00<?, ?it/s]"
      ]
     },
     "metadata": {},
     "output_type": "display_data"
    },
    {
     "data": {
      "application/vnd.jupyter.widget-view+json": {
       "model_id": "",
       "version_major": 2,
       "version_minor": 0
      },
      "text/plain": [
       "parsing preds:   0%|          | 0/22570879 [00:00<?, ?it/s]"
      ]
     },
     "metadata": {},
     "output_type": "display_data"
    },
    {
     "data": {
      "application/vnd.jupyter.widget-view+json": {
       "model_id": "",
       "version_major": 2,
       "version_minor": 0
      },
      "text/plain": [
       "calculating metric:   0%|          | 0/3 [00:00<?, ?it/s]"
      ]
     },
     "metadata": {},
     "output_type": "display_data"
    },
    {
     "data": {
      "text/html": [
       "Waiting for W&B process to finish... <strong style=\"color:green\">(success).</strong>"
      ],
      "text/plain": [
       "<IPython.core.display.HTML object>"
      ]
     },
     "metadata": {},
     "output_type": "display_data"
    },
    {
     "data": {
      "text/html": [
       "<style>\n",
       "    table.wandb td:nth-child(1) { padding: 0 10px; text-align: left ; width: auto;} td:nth-child(2) {text-align: left ; width: 100%}\n",
       "    .wandb-row { display: flex; flex-direction: row; flex-wrap: wrap; justify-content: flex-start; width: 100% }\n",
       "    .wandb-col { display: flex; flex-direction: column; flex-basis: 100%; flex: 1; padding: 10px; }\n",
       "    </style>\n",
       "<div class=\"wandb-row\"><div class=\"wandb-col\"><h3>Run history:</h3><br/><table class=\"wandb\"><tr><td>biological_process</td><td>█▁▁</td></tr><tr><td>cellular_component</td><td>█▆▁</td></tr><tr><td>molecular_function</td><td>█▅▁</td></tr><tr><td>ontology_avg</td><td>█▁▁</td></tr><tr><td>train_auc</td><td>▁▅▆▆▇▇▇▇▇████</td></tr><tr><td>train_f1</td><td>▁▅▅▆▆▆▇▇▇▇███</td></tr><tr><td>train_loss</td><td>█▅▄▃▃▃▂▂▂▂▁▁▁</td></tr><tr><td>train_precision</td><td>▁▅▅▆▆▆▇▇▇▇███</td></tr><tr><td>train_recall</td><td>▁▄▅▆▆▆▇▇▇▇███</td></tr><tr><td>val_auc</td><td>▁▅▆▆▇▇▇▇█████</td></tr><tr><td>val_f1</td><td>▁▅▆▅▆▇▇▇▇▇███</td></tr><tr><td>val_loss</td><td>█▄▃▃▂▂▂▁▁▁▁▁▁</td></tr><tr><td>val_precision</td><td>▁▅▇▅▆▇█▇▇▇█▇█</td></tr><tr><td>val_recall</td><td>▁▃▂▅▆▅▅▆▇█▇█▇</td></tr></table><br/></div><div class=\"wandb-col\"><h3>Run summary:</h3><br/><table class=\"wandb\"><tr><td>biological_process</td><td>0.15202</td></tr><tr><td>cellular_component</td><td>0.01814</td></tr><tr><td>molecular_function</td><td>0.01862</td></tr><tr><td>ontology_avg</td><td>0.06293</td></tr><tr><td>train_auc</td><td>0.9316</td></tr><tr><td>train_f1</td><td>0.349</td></tr><tr><td>train_loss</td><td>0.29603</td></tr><tr><td>train_precision</td><td>0.22531</td></tr><tr><td>train_recall</td><td>0.7737</td></tr><tr><td>val_auc</td><td>0.90723</td></tr><tr><td>val_f1</td><td>0.33109</td></tr><tr><td>val_loss</td><td>0.33719</td></tr><tr><td>val_precision</td><td>0.21331</td></tr><tr><td>val_recall</td><td>0.73932</td></tr></table><br/></div></div>"
      ],
      "text/plain": [
       "<IPython.core.display.HTML object>"
      ]
     },
     "metadata": {},
     "output_type": "display_data"
    },
    {
     "data": {
      "text/html": [
       " View run <strong style=\"color:#cdcd00\">good-firefly-10</strong> at: <a href='https://wandb.ai/qitvision/cafa-5/runs/zhg777r9' target=\"_blank\">https://wandb.ai/qitvision/cafa-5/runs/zhg777r9</a><br/>Synced 6 W&B file(s), 3 media file(s), 3 artifact file(s) and 0 other file(s)"
      ],
      "text/plain": [
       "<IPython.core.display.HTML object>"
      ]
     },
     "metadata": {},
     "output_type": "display_data"
    },
    {
     "data": {
      "text/html": [
       "Find logs at: <code>../output/20230708-101820/fold-0/wandb/run-20230708_101820-zhg777r9/logs</code>"
      ],
      "text/plain": [
       "<IPython.core.display.HTML object>"
      ]
     },
     "metadata": {},
     "output_type": "display_data"
    },
    {
     "data": {
      "application/vnd.jupyter.widget-view+json": {
       "model_id": "9f9fe803f5f64002970924e371b33b0d",
       "version_major": 2,
       "version_minor": 0
      },
      "text/plain": [
       "VBox(children=(Label(value='Waiting for wandb.init()...\\r'), FloatProgress(value=0.016669922349683473, max=1.0…"
      ]
     },
     "metadata": {},
     "output_type": "display_data"
    },
    {
     "data": {
      "text/html": [
       "wandb version 0.15.5 is available!  To upgrade, please run:\n",
       " $ pip install wandb --upgrade"
      ],
      "text/plain": [
       "<IPython.core.display.HTML object>"
      ]
     },
     "metadata": {},
     "output_type": "display_data"
    },
    {
     "data": {
      "text/html": [
       "Tracking run with wandb version 0.15.4"
      ],
      "text/plain": [
       "<IPython.core.display.HTML object>"
      ]
     },
     "metadata": {},
     "output_type": "display_data"
    },
    {
     "data": {
      "text/html": [
       "Run data is saved locally in <code>../output/20230708-101820/fold-1/wandb/run-20230708_132324-hmhhfr5d</code>"
      ],
      "text/plain": [
       "<IPython.core.display.HTML object>"
      ]
     },
     "metadata": {},
     "output_type": "display_data"
    },
    {
     "data": {
      "text/html": [
       "Syncing run <strong><a href='https://wandb.ai/qitvision/cafa-5/runs/hmhhfr5d' target=\"_blank\">dauntless-pine-11</a></strong> to <a href='https://wandb.ai/qitvision/cafa-5' target=\"_blank\">Weights & Biases</a> (<a href='https://wandb.me/run' target=\"_blank\">docs</a>)<br/>"
      ],
      "text/plain": [
       "<IPython.core.display.HTML object>"
      ]
     },
     "metadata": {},
     "output_type": "display_data"
    },
    {
     "data": {
      "text/html": [
       " View project at <a href='https://wandb.ai/qitvision/cafa-5' target=\"_blank\">https://wandb.ai/qitvision/cafa-5</a>"
      ],
      "text/plain": [
       "<IPython.core.display.HTML object>"
      ]
     },
     "metadata": {},
     "output_type": "display_data"
    },
    {
     "data": {
      "text/html": [
       " View run at <a href='https://wandb.ai/qitvision/cafa-5/runs/hmhhfr5d' target=\"_blank\">https://wandb.ai/qitvision/cafa-5/runs/hmhhfr5d</a>"
      ],
      "text/plain": [
       "<IPython.core.display.HTML object>"
      ]
     },
     "metadata": {},
     "output_type": "display_data"
    },
    {
     "data": {
      "application/vnd.jupyter.widget-view+json": {
       "model_id": "f6eb7944127d4bdeb861645f6598ed3e",
       "version_major": 2,
       "version_minor": 0
      },
      "text/plain": [
       "epoch:   0%|          | 0/13 [00:00<?, ?it/s]"
      ]
     },
     "metadata": {},
     "output_type": "display_data"
    },
    {
     "data": {
      "application/vnd.jupyter.widget-view+json": {
       "model_id": "",
       "version_major": 2,
       "version_minor": 0
      },
      "text/plain": [
       "  0%|          | 0/55 [00:00<?, ?it/s]"
      ]
     },
     "metadata": {},
     "output_type": "display_data"
    },
    {
     "data": {
      "application/vnd.jupyter.widget-view+json": {
       "model_id": "",
       "version_major": 2,
       "version_minor": 0
      },
      "text/plain": [
       "validating:   0%|          | 0/14 [00:00<?, ?it/s]"
      ]
     },
     "metadata": {},
     "output_type": "display_data"
    },
    {
     "data": {
      "application/vnd.jupyter.widget-view+json": {
       "model_id": "",
       "version_major": 2,
       "version_minor": 0
      },
      "text/plain": [
       "  0%|          | 0/55 [00:00<?, ?it/s]"
      ]
     },
     "metadata": {},
     "output_type": "display_data"
    },
    {
     "data": {
      "application/vnd.jupyter.widget-view+json": {
       "model_id": "",
       "version_major": 2,
       "version_minor": 0
      },
      "text/plain": [
       "validating:   0%|          | 0/14 [00:00<?, ?it/s]"
      ]
     },
     "metadata": {},
     "output_type": "display_data"
    },
    {
     "data": {
      "application/vnd.jupyter.widget-view+json": {
       "model_id": "",
       "version_major": 2,
       "version_minor": 0
      },
      "text/plain": [
       "  0%|          | 0/55 [00:00<?, ?it/s]"
      ]
     },
     "metadata": {},
     "output_type": "display_data"
    },
    {
     "data": {
      "application/vnd.jupyter.widget-view+json": {
       "model_id": "",
       "version_major": 2,
       "version_minor": 0
      },
      "text/plain": [
       "validating:   0%|          | 0/14 [00:00<?, ?it/s]"
      ]
     },
     "metadata": {},
     "output_type": "display_data"
    },
    {
     "data": {
      "application/vnd.jupyter.widget-view+json": {
       "model_id": "",
       "version_major": 2,
       "version_minor": 0
      },
      "text/plain": [
       "  0%|          | 0/55 [00:00<?, ?it/s]"
      ]
     },
     "metadata": {},
     "output_type": "display_data"
    },
    {
     "data": {
      "application/vnd.jupyter.widget-view+json": {
       "model_id": "",
       "version_major": 2,
       "version_minor": 0
      },
      "text/plain": [
       "validating:   0%|          | 0/14 [00:00<?, ?it/s]"
      ]
     },
     "metadata": {},
     "output_type": "display_data"
    },
    {
     "data": {
      "application/vnd.jupyter.widget-view+json": {
       "model_id": "",
       "version_major": 2,
       "version_minor": 0
      },
      "text/plain": [
       "  0%|          | 0/55 [00:00<?, ?it/s]"
      ]
     },
     "metadata": {},
     "output_type": "display_data"
    },
    {
     "data": {
      "application/vnd.jupyter.widget-view+json": {
       "model_id": "",
       "version_major": 2,
       "version_minor": 0
      },
      "text/plain": [
       "validating:   0%|          | 0/14 [00:00<?, ?it/s]"
      ]
     },
     "metadata": {},
     "output_type": "display_data"
    },
    {
     "data": {
      "application/vnd.jupyter.widget-view+json": {
       "model_id": "",
       "version_major": 2,
       "version_minor": 0
      },
      "text/plain": [
       "collecting metric:   0%|          | 0/28449 [00:00<?, ?it/s]"
      ]
     },
     "metadata": {},
     "output_type": "display_data"
    },
    {
     "data": {
      "application/vnd.jupyter.widget-view+json": {
       "model_id": "01871bc6caac497e9e632303f6e1e74d",
       "version_major": 2,
       "version_minor": 0
      },
      "text/plain": [
       "parsing preds:   0%|          | 0/29133829 [00:00<?, ?it/s]"
      ]
     },
     "metadata": {},
     "output_type": "display_data"
    }
   ],
   "source": [
    "out_dir = create_out_dir()\n",
    "group_id = out_dir.split('/')[-1]\n",
    "\n",
    "\n",
    "def train_one_ep(fold_model, dl, optimizer, criterion, scaler, logs):\n",
    "    \"\"\" Train for one epoch \"\"\"\n",
    "    fold_model.train()\n",
    "    running_loss_trn = 0\n",
    "    train_probs = []\n",
    "    train_trues = []\n",
    "        \n",
    "    tk0 = tqdm(dl, total=int(len(dl)), leave=False, position=2)\n",
    "    for i,cpu_data in enumerate(tk0):\n",
    "        data = {x : cpu_data[x].to(device) for x in list(cpu_data.keys())}\n",
    "        optimizer.zero_grad()\n",
    "        \n",
    "        with torch.cuda.amp.autocast():\n",
    "            y_true = data['y']\n",
    "            logits = fold_model(data)\n",
    "            loss = criterion(logits, y_true)\n",
    "\n",
    "        scaler.scale(loss).backward()\n",
    "        scaler.step(optimizer)\n",
    "        scaler.update()\n",
    "\n",
    "        # calculate score\n",
    "        probs = F.sigmoid(logits)\n",
    "        train_trues.append(y_true.cpu().numpy())\n",
    "        train_probs.append(probs.cpu().detach().numpy())\n",
    "\n",
    "        running_loss_trn += loss.item()\n",
    "        tk0.set_postfix(loss=(running_loss_trn / (i + 1)))\n",
    "        \n",
    "    train_probs = np.concatenate(train_probs, 0)\n",
    "    train_trues = np.concatenate(train_trues, 0)\n",
    "        \n",
    "    epoch_loss_trn = running_loss_trn / len(dl)\n",
    "    logs['train_loss'] = epoch_loss_trn\n",
    "    logs['train_auc'] = roc_auc_score(train_trues, train_probs)\n",
    "    \n",
    "    int_trues = train_trues.astype(np.int32).ravel()\n",
    "    int_preds = (train_probs > 0.5).astype(np.int32).ravel()\n",
    "    logs['train_f1'] = f1_score(int_trues, int_preds)\n",
    "    logs['train_precision'] = precision_score(int_trues, int_preds)\n",
    "    logs['train_recall'] = recall_score(int_trues, int_preds)\n",
    "\n",
    "def evaluate(fold_model, dl_val, criterion, logs):\n",
    "    fold_model.eval()\n",
    "    loss_val  = 0\n",
    "    val_probs = []\n",
    "    val_trues = []\n",
    "    metric_preds = []\n",
    "\n",
    "    tk1 = tqdm(\n",
    "        dl_val, total=int(len(dl_val)), \n",
    "        desc=\"validating\", ascii=True, leave=False, position=2)\n",
    "\n",
    "    for i, cpu_data in enumerate(tk1):\n",
    "        data = {x : cpu_data[x].to(device) for x in list(cpu_data.keys())}\n",
    "        with torch.no_grad() and torch.cuda.amp.autocast():\n",
    "            logits = fold_model(data)\n",
    "            loss = criterion(logits, data['y'])\n",
    "            probs = F.sigmoid(logits).detach().cpu().numpy()\n",
    "            y_true = data['y']\n",
    "            loss_val += loss.item()\n",
    "            val_trues.append(y_true.cpu().numpy())\n",
    "            val_probs.append(probs)\n",
    "    \n",
    "    val_probs = np.concatenate(val_probs, 0)\n",
    "    val_trues = np.concatenate(val_trues, 0)\n",
    "    loss_val  /= len(dl_val)\n",
    "    \n",
    "    logs['val_loss'] = loss_val\n",
    "    logs['val_auc'] = roc_auc_score(val_trues, val_probs)\n",
    "    \n",
    "    int_trues = val_trues.astype(np.int32).ravel()\n",
    "    int_preds = (val_probs > 0.5).astype(np.int32).ravel()\n",
    "    logs['val_f1'] = f1_score(int_trues, int_preds)\n",
    "    logs['val_precision'] = precision_score(int_trues, int_preds)\n",
    "    logs['val_recall'] = recall_score(int_trues, int_preds)\n",
    "    \n",
    "    return val_probs, val_trues\n",
    "\n",
    "def calculate_metric(probs, vec_test_protein_ids, metric_gt, logs):\n",
    "    \"\"\" Calculates the competition metric scores \"\"\"\n",
    "    metric_preds = []\n",
    "    tk2 = tqdm(\n",
    "        range(probs.shape[0]), total=probs.shape[0], \n",
    "        desc=\"collecting metric\", ascii=True, leave=False, position=2)\n",
    "    for i in tk2:\n",
    "        for j in range(num_of_labels):\n",
    "            if probs[i,j] > 0.01:\n",
    "                metric_preds.append(\n",
    "                    (\n",
    "                        vec_test_protein_ids[i], \n",
    "                        labels_to_consider[j],\n",
    "                        probs[i,j]\n",
    "                    )\n",
    "                )\n",
    "\n",
    "    metric_preds = pred_parser(metric_preds, ontologies, metric_gt, prop_mode='fill', max_terms=500)\n",
    "    df_metrics = evaluate_prediction(\n",
    "        metric_preds, metric_gt, \n",
    "        ontologies, tau_arr, n_cpu=0)\n",
    "    metric_dict = df_metrics.groupby('ns').agg({'wf':'max'}).to_dict()['wf']\n",
    "    metric_bio = metric_dict['biological_process'] if 'biological_process' in metric_dict else 0\n",
    "    metric_cell = metric_dict['cellular_component'] if 'cellular_component' in metric_dict else 0\n",
    "    metric_mol = metric_dict['molecular_function'] if 'molecular_function' in metric_dict else 0\n",
    "    metric_mean = np.mean([metric_bio, metric_cell, metric_mol])\n",
    "    \n",
    "    logs['biological_process'] = metric_bio\n",
    "    logs['cellular_component'] = metric_cell\n",
    "    logs['molecular_function'] = metric_mol\n",
    "    logs['ontology_avg'] = metric_mean\n",
    "    \n",
    "\n",
    "# Use the KFold object to generate the required splits\n",
    "tkfold = tqdm(enumerate(skf.split(train_df, types_df.combined.values)), desc=\"Fold\", leave=True, position=0)\n",
    "for fold, (train_index, test_index) in tkfold:\n",
    "    \n",
    "    if fold not in CFG['train_folds']: continue \n",
    "    fold_out_dir = os.path.join(out_dir, f'fold-{fold}')\n",
    "    if not os.path.exists(fold_out_dir): os.mkdir(fold_out_dir)\n",
    "    \n",
    "    fold_cfg = {'fold':fold}\n",
    "    fold_cfg.update(CFG)\n",
    "    wandb.init(project='cafa-5', group=group_id, dir=fold_out_dir, config=fold_cfg)\n",
    "    \n",
    "    dl, dl_val = get_dataloaders(train_index, test_index, batch_size=CFG['batch_size']) \n",
    "    pos_weights = calculate_class_weights(dl=dl)\n",
    "    \n",
    "    # metric\n",
    "    fold_terms = train_terms_updated.loc[train_terms_updated.EntryID.isin(train_protein_ids[test_index])]\n",
    "    fold_terms.to_csv(os.path.join(fold_out_dir, f'terms.tsv'), sep='\\t', index=False)\n",
    "    vec_test_protein_ids = fold_terms['EntryID'].values\n",
    "    metric_gt = gt_parser(os.path.join(fold_out_dir, f'terms.tsv'), ontologies)\n",
    "    \n",
    "    criterion = nn.BCEWithLogitsLoss(pos_weight=torch.tensor(pos_weights)).to(device)\n",
    "    fold_model = EmbeddingModel(input_shape=CFG['input_shape'], num_of_labels=num_of_labels)\n",
    "    fold_model.to(device)\n",
    "    \n",
    "    if CFG['optimizer'] == 'adam':\n",
    "        optimizer = torch.optim.Adam(fold_model.parameters(), lr=CFG['lr']) \n",
    "    elif CFG['optimizer'] == 'adamw':\n",
    "        optimizer = torch.optim.AdamW(fold_model.parameters(), lr=CFG['lr'])\n",
    "    else:\n",
    "        raise Exception(f'optimizer {CFG[\"optimizer\"]} not implemented')\n",
    "        \n",
    "    scheduler = None if CFG['schedule'] == 'none' else torch.optim.lr_scheduler.CosineAnnealingLR(\n",
    "        optimizer, T_max=CFG[\"epochs\"], eta_min=1e-6)\n",
    "    scaler = torch.cuda.amp.GradScaler()\n",
    "    \n",
    "    tkep = tqdm(range(1, CFG[\"epochs\"] + 1), desc=\"epoch\", leave=True, position=1)\n",
    "    metric_mean = 0\n",
    "    for epoch in tkep:\n",
    "        logs = {}\n",
    "        \n",
    "        train_one_ep(fold_model, dl, optimizer, criterion, scaler, logs)\n",
    "        \n",
    "        if scheduler is not None:\n",
    "            scheduler.step()\n",
    "            \n",
    "        #release GPU memory cache\n",
    "        torch.cuda.empty_cache()\n",
    "        gc.collect()\n",
    "    \n",
    "        #eval\n",
    "        if (epoch % eval_every_n == 0) or epoch == CFG[\"epochs\"]:\n",
    "            val_probs, val_trues = evaluate(fold_model, dl_val, criterion, logs)\n",
    "            \n",
    "            # competition metric - slow\n",
    "            if (epoch % calculate_metric_every == 0) or epoch == CFG[\"epochs\"]:\n",
    "                calculate_metric(val_probs, vec_test_protein_ids, metric_gt, logs)\n",
    "                \n",
    "                # plot also prediction histogram at the same intervals # subsample equally\n",
    "                table = wandb.Table(\n",
    "                    data=val_probs_to_ontology_columns(val_probs)[::500], \n",
    "                    columns=['BPO', 'CCO', 'MFO'])\n",
    "                wandb.log({\n",
    "                    'pred_histogram' : wandb.plot.histogram(\n",
    "                        table,\n",
    "                        \"class_probs\",\n",
    "                        title=\"Confidence Scores\")})\n",
    "            \n",
    "            # Save out-of-fold predictions if this is the last epoch\n",
    "            if epoch == CFG[\"epochs\"]:\n",
    "                np.save(os.path.join(fold_out_dir, f'oof_probs.npy'), val_probs)\n",
    "                np.save(os.path.join(fold_out_dir, f'oof_trues.npy'), val_trues)\n",
    "                np.save(os.path.join(fold_out_dir,f'oof_ids.npy'), vec_test_protein_ids)\n",
    "\n",
    "            #release GPU memory cache\n",
    "            del val_probs, val_trues\n",
    "            torch.cuda.empty_cache()\n",
    "            gc.collect()\n",
    "            \n",
    "            tkep.set_postfix(\n",
    "                train_loss=logs['train_loss'], train_f1=logs['train_f1'], \n",
    "                val_loss=logs['val_loss'],val_f1=logs['val_f1'])\n",
    "        else:\n",
    "            tkep.set_postfix(train_loss=logs['train_loss'], train_f1=logs['train_f1'])\n",
    "\n",
    "        wandb.log(logs, step=epoch)\n",
    "    \n",
    "    # Save final fold model\n",
    "    torch.save(\n",
    "        fold_model.state_dict(), \n",
    "        os.path.join(fold_out_dir, f'model.pth'))\n",
    "    \n",
    "    wandb.finish()"
   ]
  },
  {
   "cell_type": "code",
   "execution_count": 26,
   "id": "66ee57f9",
   "metadata": {},
   "outputs": [],
   "source": [
    "def evaluate_all_folds(out_dir, CFG=None):\n",
    "    \"\"\" Evaluates metric for output folder containing five fold dirs and oof probs \"\"\"\n",
    "    train_terms_updated.to_csv(os.path.join(out_dir, f'terms.tsv'), sep='\\t', index=False)\n",
    "    metric_gt = gt_parser(os.path.join(out_dir, f'terms.tsv'), ontologies)\n",
    "    metric_preds = []\n",
    "    logs = {}\n",
    "    \n",
    "    \n",
    "    \n",
    "    for fold in range(5):\n",
    "        val_probs = np.load(os.path.join(out_dir, f'fold-{fold}', f'oof_probs.npy'))\n",
    "        vec_test_protein_ids = np.load(os.path.join(out_dir, f'fold-{fold}',f'oof_ids.npy'),\n",
    "                                      allow_pickle=True).astype(str)\n",
    "        \n",
    "        tk2 = tqdm(\n",
    "            range(val_probs.shape[0]), total=val_probs.shape[0], \n",
    "            desc=f\"collecting metric - fold-{fold}\", leave=False, position=0)\n",
    "        \n",
    "        for i in tk2:\n",
    "            for j in range(num_of_labels):\n",
    "                if val_probs[i,j] > 0.01:\n",
    "                    metric_preds.append(\n",
    "                        (\n",
    "                            vec_test_protein_ids[i], \n",
    "                            labels_to_consider[j],\n",
    "                            val_probs[i,j]\n",
    "                        )\n",
    "                    )\n",
    "        \n",
    "    metric_preds = pred_parser(metric_preds, ontologies, metric_gt, prop_mode='fill', max_terms=500)\n",
    "    df_metrics = evaluate_prediction(\n",
    "        metric_preds, metric_gt, \n",
    "        ontologies, tau_arr, n_cpu=0)\n",
    "    \n",
    "    metric_dict = df_metrics.groupby('ns').agg({'wf':'max'}).to_dict()['wf']\n",
    "    metric_bio = metric_dict['biological_process'] if 'biological_process' in metric_dict else 0\n",
    "    metric_cell = metric_dict['cellular_component'] if 'cellular_component' in metric_dict else 0\n",
    "    metric_mol = metric_dict['molecular_function'] if 'molecular_function' in metric_dict else 0\n",
    "    metric_mean = np.mean([metric_bio, metric_cell, metric_mol])\n",
    "    \n",
    "    logs['biological_process_CV-OOF'] = metric_bio\n",
    "    logs['cellular_component_CV-OOF'] = metric_cell\n",
    "    logs['molecular_function_CV-OOF'] = metric_mol\n",
    "    logs['ontology_avg_CV-OOF'] = metric_mean\n",
    "    \n",
    "    # log w&b\n",
    "    group_id = out_dir.split('/')[-1]\n",
    "    wandb.init(project='cafa-5', group=group_id, dir=out_dir, config=CFG)\n",
    "    wandb.log(logs)\n",
    "    wandb.finish()\n",
    "    \n",
    "    # write to output dir\n",
    "    with open(os.path.join(out_dir, \"metric.json\"), \"w\") as outfile:\n",
    "        json.dump(logs, outfile)\n",
    "    \n",
    "    return logs"
   ]
  },
  {
   "cell_type": "code",
   "execution_count": 27,
   "id": "6ac058fd",
   "metadata": {},
   "outputs": [],
   "source": [
    "evaluate_all_folds(out_dir, CFG=CFG)"
   ]
  },
  {
   "cell_type": "code",
   "execution_count": 31,
   "id": "c86875ce",
   "metadata": {},
   "outputs": [
    {
     "data": {
      "application/vnd.jupyter.widget-view+json": {
       "model_id": "",
       "version_major": 2,
       "version_minor": 0
      },
      "text/plain": [
       "collecting metric - fold-0:   0%|          | 0/28450 [00:00<?, ?it/s]"
      ]
     },
     "metadata": {},
     "output_type": "display_data"
    },
    {
     "data": {
      "application/vnd.jupyter.widget-view+json": {
       "model_id": "",
       "version_major": 2,
       "version_minor": 0
      },
      "text/plain": [
       "collecting metric - fold-1:   0%|          | 0/28449 [00:00<?, ?it/s]"
      ]
     },
     "metadata": {},
     "output_type": "display_data"
    },
    {
     "data": {
      "application/vnd.jupyter.widget-view+json": {
       "model_id": "",
       "version_major": 2,
       "version_minor": 0
      },
      "text/plain": [
       "collecting metric - fold-2:   0%|          | 0/28449 [00:00<?, ?it/s]"
      ]
     },
     "metadata": {},
     "output_type": "display_data"
    },
    {
     "data": {
      "application/vnd.jupyter.widget-view+json": {
       "model_id": "",
       "version_major": 2,
       "version_minor": 0
      },
      "text/plain": [
       "collecting metric - fold-3:   0%|          | 0/28449 [00:00<?, ?it/s]"
      ]
     },
     "metadata": {},
     "output_type": "display_data"
    },
    {
     "data": {
      "application/vnd.jupyter.widget-view+json": {
       "model_id": "d2fe32c06fea4b578c6b7e24828a0ce6",
       "version_major": 2,
       "version_minor": 0
      },
      "text/plain": [
       "collecting metric - fold-4:   0%|          | 0/28449 [00:00<?, ?it/s]"
      ]
     },
     "metadata": {},
     "output_type": "display_data"
    }
   ],
   "source": [
    "logs = evaluate_all_folds('../output/20230708-101820/', CFG=CFG)"
   ]
  },
  {
   "cell_type": "code",
   "execution_count": 32,
   "id": "b3d801df",
   "metadata": {},
   "outputs": [],
   "source": [
    "logs"
   ]
  },
  {
   "cell_type": "code",
   "execution_count": 25,
   "id": "5dca7a40",
   "metadata": {},
   "outputs": [
    {
     "data": {
      "text/plain": [
       "EmbeddingModel(\n",
       "  (batch_norm): BatchNorm1d(1024, eps=1e-05, momentum=0.1, affine=True, track_running_stats=True)\n",
       "  (dropout1): Dropout(p=0.25, inplace=False)\n",
       "  (dense1): Linear(in_features=1024, out_features=512, bias=True)\n",
       "  (dense2): Linear(in_features=512, out_features=512, bias=True)\n",
       "  (dense3): Linear(in_features=512, out_features=512, bias=True)\n",
       "  (dropout2): Dropout(p=0.1, inplace=False)\n",
       "  (out): Linear(in_features=512, out_features=1500, bias=True)\n",
       "  (activation): Mish()\n",
       ")"
      ]
     },
     "execution_count": 25,
     "metadata": {},
     "output_type": "execute_result"
    }
   ],
   "source": [
    "fold_model.eval()"
   ]
  },
  {
   "cell_type": "code",
   "execution_count": 27,
   "id": "e882b97f",
   "metadata": {},
   "outputs": [],
   "source": [
    "for fold, (train_index, test_index) in tkfold:\n",
    "    if fold not in TRAIN_FOLDS: continue\n",
    "    \n",
    "    dl, dl_val = get_dataloaders(train_index, test_index)\n",
    "    break"
   ]
  },
  {
   "cell_type": "code",
   "execution_count": 46,
   "id": "61d4301b",
   "metadata": {},
   "outputs": [],
   "source": [
    "fold_terms = train_terms.loc[train_terms.EntryID.isin(train_protein_ids[train_index])]\n",
    "fold_terms.to_csv(os.path.join(out_dir, f'fold_{fold}_terms.tsv'), sep='\\t', index=False)\n",
    "vec_test_protein_ids = fold_terms['EntryID'].values\n",
    "metric_gt = gt_parser(os.path.join(out_dir, f'fold_{fold}_terms.tsv'), ontologies)"
   ]
  },
  {
   "cell_type": "code",
   "execution_count": 30,
   "id": "67c7d96d",
   "metadata": {},
   "outputs": [],
   "source": [
    "logs = {}"
   ]
  },
  {
   "cell_type": "code",
   "execution_count": 28,
   "id": "1af2da48",
   "metadata": {},
   "outputs": [
    {
     "data": {
      "application/vnd.jupyter.widget-view+json": {
       "model_id": "",
       "version_major": 2,
       "version_minor": 0
      },
      "text/plain": [
       "validating:   0%|          | 0/14 [00:00<?, ?it/s]"
      ]
     },
     "metadata": {},
     "output_type": "display_data"
    }
   ],
   "source": [
    "val_probs, val_trues = evaluate(fold_model, dl_val, criterion, logs)"
   ]
  },
  {
   "cell_type": "code",
   "execution_count": 32,
   "id": "5c019653",
   "metadata": {},
   "outputs": [
    {
     "data": {
      "text/plain": [
       "{'val_loss': 1.2075243762561254,\n",
       " 'val_auc': 0.8973156433300286,\n",
       " 'val_f1': 0.3569752600014583,\n",
       " 'val_precision': 0.24121056999075202,\n",
       " 'val_recall': 0.6864012269772847}"
      ]
     },
     "execution_count": 32,
     "metadata": {},
     "output_type": "execute_result"
    }
   ],
   "source": [
    "logs"
   ]
  },
  {
   "cell_type": "code",
   "execution_count": 35,
   "id": "145956f9",
   "metadata": {},
   "outputs": [
    {
     "data": {
      "text/plain": [
       "(5490850, 3)"
      ]
     },
     "execution_count": 35,
     "metadata": {},
     "output_type": "execute_result"
    }
   ],
   "source": [
    "ont_cols = val_probs_to_ontology_columns(val_probs)\n",
    "ont_cols.shape"
   ]
  },
  {
   "cell_type": "code",
   "execution_count": 37,
   "id": "76e3a0f7",
   "metadata": {},
   "outputs": [
    {
     "data": {
      "text/plain": [
       "{'whiskers': [<matplotlib.lines.Line2D at 0x7f7795e30e20>,\n",
       "  <matplotlib.lines.Line2D at 0x7f77958d2100>,\n",
       "  <matplotlib.lines.Line2D at 0x7f77958d2e80>,\n",
       "  <matplotlib.lines.Line2D at 0x7f77958ff160>,\n",
       "  <matplotlib.lines.Line2D at 0x7f77958d9160>,\n",
       "  <matplotlib.lines.Line2D at 0x7f77958d9400>],\n",
       " 'caps': [<matplotlib.lines.Line2D at 0x7f77958d23a0>,\n",
       "  <matplotlib.lines.Line2D at 0x7f77958d2640>,\n",
       "  <matplotlib.lines.Line2D at 0x7f77958ff400>,\n",
       "  <matplotlib.lines.Line2D at 0x7f77958ff6a0>,\n",
       "  <matplotlib.lines.Line2D at 0x7f77958d96a0>,\n",
       "  <matplotlib.lines.Line2D at 0x7f77958d9940>],\n",
       " 'boxes': [<matplotlib.lines.Line2D at 0x7f7795e30b80>,\n",
       "  <matplotlib.lines.Line2D at 0x7f77958d2be0>,\n",
       "  <matplotlib.lines.Line2D at 0x7f77958ffe80>],\n",
       " 'medians': [<matplotlib.lines.Line2D at 0x7f77958d2490>,\n",
       "  <matplotlib.lines.Line2D at 0x7f77958ff940>,\n",
       "  <matplotlib.lines.Line2D at 0x7f77958d9be0>],\n",
       " 'fliers': [<matplotlib.lines.Line2D at 0x7f77958d2940>,\n",
       "  <matplotlib.lines.Line2D at 0x7f77958ffbe0>,\n",
       "  <matplotlib.lines.Line2D at 0x7f77958d9e80>],\n",
       " 'means': []}"
      ]
     },
     "execution_count": 37,
     "metadata": {},
     "output_type": "execute_result"
    },
    {
     "data": {
      "image/png": "[encoded data removed]",
      "text/plain": [
       "<Figure size 640x480 with 1 Axes>"
      ]
     },
     "metadata": {},
     "output_type": "display_data"
    }
   ],
   "source": [
    "plt.boxplot(ont_cols)"
   ]
  },
  {
   "cell_type": "code",
   "execution_count": 47,
   "id": "68e6cae8",
   "metadata": {},
   "outputs": [
    {
     "data": {
      "application/vnd.jupyter.widget-view+json": {
       "model_id": "",
       "version_major": 2,
       "version_minor": 0
      },
      "text/plain": [
       "collecting metric:   0%|          | 0/28450 [00:00<?, ?it/s]"
      ]
     },
     "metadata": {},
     "output_type": "display_data"
    },
    {
     "data": {
      "application/vnd.jupyter.widget-view+json": {
       "model_id": "",
       "version_major": 2,
       "version_minor": 0
      },
      "text/plain": [
       "parsing preds:   0%|          | 0/8069066 [00:00<?, ?it/s]"
      ]
     },
     "metadata": {},
     "output_type": "display_data"
    }
   ],
   "source": [
    "%%time\n",
    "calculate_metric(val_probs, vec_test_protein_ids, metric_gt, logs)"
   ]
  },
  {
   "cell_type": "code",
   "execution_count": 48,
   "id": "e19e2eb8",
   "metadata": {},
   "outputs": [],
   "source": [
    "logs"
   ]
  },
  {
   "cell_type": "code",
   "execution_count": 45,
   "id": "4e499e65",
   "metadata": {},
   "outputs": [
    {
     "data": {
      "text/html": [
       "<div>\n",
       "<style scoped>\n",
       "    .dataframe tbody tr th:only-of-type {\n",
       "        vertical-align: middle;\n",
       "    }\n",
       "\n",
       "    .dataframe tbody tr th {\n",
       "        vertical-align: top;\n",
       "    }\n",
       "\n",
       "    .dataframe thead th {\n",
       "        text-align: right;\n",
       "    }\n",
       "</style>\n",
       "<table border=\"1\" class=\"dataframe\">\n",
       "  <thead>\n",
       "    <tr style=\"text-align: right;\">\n",
       "      <th></th>\n",
       "      <th>EntryID</th>\n",
       "      <th>term</th>\n",
       "      <th>aspect</th>\n",
       "    </tr>\n",
       "  </thead>\n",
       "  <tbody>\n",
       "    <tr>\n",
       "      <th>90</th>\n",
       "      <td>A0A023FFD0</td>\n",
       "      <td>GO:0060302</td>\n",
       "      <td>BPO</td>\n",
       "    </tr>\n",
       "    <tr>\n",
       "      <th>91</th>\n",
       "      <td>A0A023FFD0</td>\n",
       "      <td>GO:0009968</td>\n",
       "      <td>BPO</td>\n",
       "    </tr>\n",
       "    <tr>\n",
       "      <th>92</th>\n",
       "      <td>A0A023FFD0</td>\n",
       "      <td>GO:0065007</td>\n",
       "      <td>BPO</td>\n",
       "    </tr>\n",
       "    <tr>\n",
       "      <th>93</th>\n",
       "      <td>A0A023FFD0</td>\n",
       "      <td>GO:0010648</td>\n",
       "      <td>BPO</td>\n",
       "    </tr>\n",
       "    <tr>\n",
       "      <th>94</th>\n",
       "      <td>A0A023FFD0</td>\n",
       "      <td>GO:0060300</td>\n",
       "      <td>BPO</td>\n",
       "    </tr>\n",
       "    <tr>\n",
       "      <th>...</th>\n",
       "      <td>...</td>\n",
       "      <td>...</td>\n",
       "      <td>...</td>\n",
       "    </tr>\n",
       "    <tr>\n",
       "      <th>5363840</th>\n",
       "      <td>X5KCU9</td>\n",
       "      <td>GO:0050649</td>\n",
       "      <td>MFO</td>\n",
       "    </tr>\n",
       "    <tr>\n",
       "      <th>5363841</th>\n",
       "      <td>X5KCU9</td>\n",
       "      <td>GO:0016491</td>\n",
       "      <td>MFO</td>\n",
       "    </tr>\n",
       "    <tr>\n",
       "      <th>5363860</th>\n",
       "      <td>X5M5N0</td>\n",
       "      <td>GO:0005515</td>\n",
       "      <td>MFO</td>\n",
       "    </tr>\n",
       "    <tr>\n",
       "      <th>5363861</th>\n",
       "      <td>X5M5N0</td>\n",
       "      <td>GO:0005488</td>\n",
       "      <td>MFO</td>\n",
       "    </tr>\n",
       "    <tr>\n",
       "      <th>5363862</th>\n",
       "      <td>X5M5N0</td>\n",
       "      <td>GO:0003674</td>\n",
       "      <td>MFO</td>\n",
       "    </tr>\n",
       "  </tbody>\n",
       "</table>\n",
       "<p>4298995 rows × 3 columns</p>\n",
       "</div>"
      ],
      "text/plain": [
       "            EntryID        term aspect\n",
       "90       A0A023FFD0  GO:0060302    BPO\n",
       "91       A0A023FFD0  GO:0009968    BPO\n",
       "92       A0A023FFD0  GO:0065007    BPO\n",
       "93       A0A023FFD0  GO:0010648    BPO\n",
       "94       A0A023FFD0  GO:0060300    BPO\n",
       "...             ...         ...    ...\n",
       "5363840      X5KCU9  GO:0050649    MFO\n",
       "5363841      X5KCU9  GO:0016491    MFO\n",
       "5363860      X5M5N0  GO:0005515    MFO\n",
       "5363861      X5M5N0  GO:0005488    MFO\n",
       "5363862      X5M5N0  GO:0003674    MFO\n",
       "\n",
       "[4298995 rows x 3 columns]"
      ]
     },
     "execution_count": 45,
     "metadata": {},
     "output_type": "execute_result"
    }
   ],
   "source": [
    "train_terms.loc[train_terms.EntryID.isin(train_protein_ids[train_index])]"
   ]
  },
  {
   "cell_type": "code",
   "execution_count": 26,
   "id": "4dcba80a",
   "metadata": {},
   "outputs": [
    {
     "data": {
      "application/vnd.jupyter.widget-view+json": {
       "model_id": "",
       "version_major": 2,
       "version_minor": 0
      },
      "text/plain": [
       "validating:   0%|          | 0/6 [00:00<?, ?it/s]"
      ]
     },
     "metadata": {},
     "output_type": "display_data"
    }
   ],
   "source": [
    "metric_preds = []\n",
    "val_trues, val_logits = [], []\n",
    "            \n",
    "tk1 = tqdm(\n",
    "    dl_val, total=int(len(dl_val)), \n",
    "    desc=\"validating\", ascii=True, leave=False, position=2)\n",
    "\n",
    "for i, data in enumerate(tk1):\n",
    "    data = {x : data[x].to(device) for x in list(data.keys())}\n",
    "    with torch.no_grad() and torch.cuda.amp.autocast():\n",
    "        batch = data['x'].shape[0]\n",
    "        logits, loss = fold_model(data)\n",
    "        logits = logits.detach().cpu().numpy()\n",
    "        y_true = data['y']\n",
    "        loss_val += loss.item() * batch\n",
    "        val_trues.append(y_true.cpu().numpy())\n",
    "        val_logits.append(logits)\n",
    "\n",
    "val_logits = np.concatenate(val_logits, 0)\n",
    "val_trues = np.concatenate(val_trues, 0)"
   ]
  },
  {
   "cell_type": "code",
   "execution_count": null,
   "id": "4ac561fa",
   "metadata": {},
   "outputs": [],
   "source": []
  },
  {
   "cell_type": "code",
   "execution_count": null,
   "id": "d16f8d9f",
   "metadata": {},
   "outputs": [],
   "source": []
  }
 ],
 "metadata": {
  "kernelspec": {
   "display_name": "Python 3 (ipykernel)",
   "language": "python",
   "name": "python3"
  },
  "language_info": {
   "codemirror_mode": {
    "name": "ipython",
    "version": 3
   },
   "file_extension": ".py",
   "mimetype": "text/x-python",
   "name": "python",
   "nbconvert_exporter": "python",
   "pygments_lexer": "ipython3",
   "version": "3.9.16"
  }
 },
 "nbformat": 4,
 "nbformat_minor": 5
}
