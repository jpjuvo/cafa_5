{
 "cells": [
  {
   "cell_type": "code",
   "execution_count": 1,
   "id": "955367cc",
   "metadata": {},
   "outputs": [],
   "source": [
    "import os\n",
    "import numpy as np"
   ]
  },
  {
   "cell_type": "markdown",
   "id": "43804b60",
   "metadata": {},
   "source": [
    "## Check that protein order and ids match with t5 and esm data"
   ]
  },
  {
   "cell_type": "code",
   "execution_count": 5,
   "id": "5cf9c4e0",
   "metadata": {},
   "outputs": [
    {
     "name": "stdout",
     "output_type": "stream",
     "text": [
      "(142246,)\n"
     ]
    },
    {
     "data": {
      "text/plain": [
       "array(['Q96S79', 'Q9VSA3', 'O94652', ..., 'Q5RGB0', 'A0A2R8QMZ5',\n",
       "       'A0A8I6GHU0'], dtype='<U10')"
      ]
     },
     "execution_count": 5,
     "metadata": {},
     "output_type": "execute_result"
    }
   ],
   "source": [
    "t5_train_protein_ids = np.load('../input/t5embeds/train_ids.npy')\n",
    "print(t5_train_protein_ids.shape)\n",
    "\n",
    "t5_train_protein_ids[10:]"
   ]
  },
  {
   "cell_type": "code",
   "execution_count": 6,
   "id": "b5678e17",
   "metadata": {},
   "outputs": [
    {
     "name": "stdout",
     "output_type": "stream",
     "text": [
      "(142246,)\n"
     ]
    },
    {
     "data": {
      "text/plain": [
       "array(['Q96S79', 'Q9VSA3', 'O94652', ..., 'Q5RGB0', 'A0A2R8QMZ5',\n",
       "       'A0A8I6GHU0'], dtype='<U10')"
      ]
     },
     "execution_count": 6,
     "metadata": {},
     "output_type": "execute_result"
    }
   ],
   "source": [
    "train_protein_ids = np.load('../input/esm23b/train_ids_esm2_t36_3B_UR50D.npy')\n",
    "print(train_protein_ids.shape)\n",
    "\n",
    "train_protein_ids[10:]"
   ]
  },
  {
   "cell_type": "code",
   "execution_count": 9,
   "id": "361a7757",
   "metadata": {},
   "outputs": [],
   "source": [
    "for t5id, esmid in zip(t5_train_protein_ids, train_protein_ids):\n",
    "    assert t5id == esmid"
   ]
  },
  {
   "cell_type": "code",
   "execution_count": 10,
   "id": "5cf63e19",
   "metadata": {},
   "outputs": [
    {
     "name": "stdout",
     "output_type": "stream",
     "text": [
      "(141865,)\n"
     ]
    },
    {
     "data": {
      "text/plain": [
       "array(['Q6PD28', 'Q61151', 'Q60996', ..., 'C0HK73', 'C0HK74',\n",
       "       'A0A3G2FQK2'], dtype='<U10')"
      ]
     },
     "execution_count": 10,
     "metadata": {},
     "output_type": "execute_result"
    }
   ],
   "source": [
    "t5_test_protein_ids = np.load('../input/t5embeds/test_ids.npy')\n",
    "print(t5_test_protein_ids.shape)\n",
    "\n",
    "t5_test_protein_ids[10:]"
   ]
  },
  {
   "cell_type": "code",
   "execution_count": 11,
   "id": "db538155",
   "metadata": {},
   "outputs": [
    {
     "name": "stdout",
     "output_type": "stream",
     "text": [
      "(141865,)\n"
     ]
    },
    {
     "data": {
      "text/plain": [
       "array(['Q6PD28', 'Q61151', 'Q60996', ..., 'C0HK73', 'C0HK74',\n",
       "       'A0A3G2FQK2'], dtype='<U10')"
      ]
     },
     "execution_count": 11,
     "metadata": {},
     "output_type": "execute_result"
    }
   ],
   "source": [
    "test_protein_ids = np.load('../input/esm23b/test_ids_esm2_t36_3B_UR50D.npy')\n",
    "print(test_protein_ids.shape)\n",
    "\n",
    "test_protein_ids[10:]"
   ]
  },
  {
   "cell_type": "code",
   "execution_count": 12,
   "id": "cbe1276b",
   "metadata": {},
   "outputs": [],
   "source": [
    "for t5id, esmid in zip(t5_test_protein_ids, test_protein_ids):\n",
    "    assert t5id == esmid"
   ]
  },
  {
   "cell_type": "markdown",
   "id": "f4b7c7b8",
   "metadata": {},
   "source": [
    "## Check that embedding arrays have the same length in dim 0"
   ]
  },
  {
   "cell_type": "code",
   "execution_count": 13,
   "id": "1fbe392f",
   "metadata": {},
   "outputs": [
    {
     "name": "stdout",
     "output_type": "stream",
     "text": [
      "(142246, 2560)\n"
     ]
    },
    {
     "data": {
      "text/plain": [
       "array([[-0.12531519, -0.16180846,  0.02387321, ...,  0.08177885,\n",
       "        -0.13492273, -0.20542394],\n",
       "       [ 0.04737486,  0.02348543, -0.04697237, ..., -0.01522072,\n",
       "        -0.00441282, -0.03135061],\n",
       "       [ 0.02207411, -0.03266261, -0.01493657, ...,  0.02280092,\n",
       "        -0.0370761 ,  0.02693883],\n",
       "       ...,\n",
       "       [ 0.00762429,  0.02402881,  0.05924346, ..., -0.05321691,\n",
       "        -0.16163327,  0.04209231],\n",
       "       [-0.00080938,  0.05927428,  0.03657981, ...,  0.00642825,\n",
       "        -0.17763613,  0.08095319],\n",
       "       [ 0.01402927,  0.04466694,  0.00992338, ..., -0.00158265,\n",
       "        -0.11135368, -0.06231826]])"
      ]
     },
     "execution_count": 13,
     "metadata": {},
     "output_type": "execute_result"
    }
   ],
   "source": [
    "train_embeddings = np.load('../input/esm23b/train_embeds_esm2_t36_3B_UR50D.npy')\n",
    "print(train_embeddings.shape)\n",
    "\n",
    "train_embeddings[10:]"
   ]
  },
  {
   "cell_type": "code",
   "execution_count": 14,
   "id": "8f927b9d",
   "metadata": {},
   "outputs": [
    {
     "name": "stdout",
     "output_type": "stream",
     "text": [
      "(141865, 2560)\n"
     ]
    },
    {
     "data": {
      "text/plain": [
       "array([[-0.00887443, -0.00097082, -0.01507734, ...,  0.0508061 ,\n",
       "        -0.05713964,  0.03087942],\n",
       "       [-0.02611042,  0.00834707, -0.02454343, ...,  0.04381032,\n",
       "        -0.0551709 ,  0.03738027],\n",
       "       [-0.00946526,  0.00423103, -0.00182279, ...,  0.03249816,\n",
       "        -0.07983567,  0.04859192],\n",
       "       ...,\n",
       "       [ 0.04071434, -0.01003925, -0.07033391, ...,  0.03328776,\n",
       "        -0.19550711,  0.03267385],\n",
       "       [ 0.01079962, -0.01781563, -0.08950399, ...,  0.02807015,\n",
       "        -0.16768314,  0.04974854],\n",
       "       [ 0.03884056, -0.03017006, -0.11699486, ...,  0.0265927 ,\n",
       "        -0.21441312,  0.03382296]])"
      ]
     },
     "execution_count": 14,
     "metadata": {},
     "output_type": "execute_result"
    }
   ],
   "source": [
    "test_embeddings = np.load('../input/esm23b/test_embeds_esm2_t36_3B_UR50D.npy')\n",
    "print(test_embeddings.shape)\n",
    "\n",
    "test_embeddings[10:]"
   ]
  },
  {
   "cell_type": "code",
   "execution_count": null,
   "id": "11283e0e",
   "metadata": {},
   "outputs": [],
   "source": []
  }
 ],
 "metadata": {
  "kernelspec": {
   "display_name": "Python 3 (ipykernel)",
   "language": "python",
   "name": "python3"
  },
  "language_info": {
   "codemirror_mode": {
    "name": "ipython",
    "version": 3
   },
   "file_extension": ".py",
   "mimetype": "text/x-python",
   "name": "python",
   "nbconvert_exporter": "python",
   "pygments_lexer": "ipython3",
   "version": "3.9.16"
  }
 },
 "nbformat": 4,
 "nbformat_minor": 5
}
