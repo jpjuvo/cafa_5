{
 "cells": [
  {
   "cell_type": "code",
   "execution_count": 1,
   "id": "156ec106",
   "metadata": {},
   "outputs": [],
   "source": [
    "import numpy as np\n",
    "import pandas as pd\n",
    "import os"
   ]
  },
  {
   "cell_type": "markdown",
   "id": "1b412df6",
   "metadata": {},
   "source": [
    "### Install Diamond\n",
    "\n",
    "https://github.com/bbuchfink/diamond/wiki"
   ]
  },
  {
   "cell_type": "markdown",
   "id": "5a3030e0",
   "metadata": {},
   "source": [
    "# Create Diamond DB"
   ]
  },
  {
   "cell_type": "code",
   "execution_count": 4,
   "id": "94b36e96",
   "metadata": {},
   "outputs": [],
   "source": [
    "diamond_dir = '../../output/diamond'\n",
    "if not os.path.exists(diamond_dir):\n",
    "    os.mkdir(diamond_dir)"
   ]
  },
  {
   "cell_type": "code",
   "execution_count": 6,
   "id": "2cd2d3c4",
   "metadata": {},
   "outputs": [
    {
     "name": "stdout",
     "output_type": "stream",
     "text": [
      "/bin/bash: /home/joni/miniconda3/envs/cafa5/lib/libtinfo.so.6: no version information available (required by /bin/bash)\n",
      "diamond v2.1.8.162 (C) Max Planck Society for the Advancement of Science, Benjamin Buchfink, University of Tuebingen\n",
      "Documentation, support and updates available at http://www.diamondsearch.org\n",
      "Please cite: http://dx.doi.org/10.1038/s41592-021-01101-x Nature Methods (2021)\n",
      "\n",
      "#CPU threads: 12\n",
      "Scoring parameters: (Matrix=BLOSUM62 Lambda=0.267 K=0.041 Penalties=11/1)\n",
      "Database input file: ../input/cafa-5-protein-function-prediction/Train/train_sequences.fasta\n",
      "Opening the database file...  [0.003s]\n",
      "Loading sequences...  [0.332s]\n",
      "Masking sequences...  [0.794s]\n",
      "Writing sequences...  [0.698s]\n",
      "Hashing sequences...  [0.048s]\n",
      "Loading sequences...  [0s]\n",
      "Writing trailer...  [0.037s]\n",
      "Closing the input file...  [0s]\n",
      "Closing the database file...  [0.013s]\n",
      "\n",
      "Database sequences  142246\n",
      "  Database letters  78752603\n",
      "     Database hash  e491561cb14a4f3b4cbeb2d58ede2339\n",
      "        Total time  1.928000s\n"
     ]
    }
   ],
   "source": [
    "!../../diamond/diamond makedb \\\n",
    "  --in ../input/cafa-5-protein-function-prediction/Train/train_sequences.fasta \\\n",
    "  --db $diamond_dir/train_data.dmnd"
   ]
  },
  {
   "cell_type": "code",
   "execution_count": 19,
   "id": "ec62130e",
   "metadata": {},
   "outputs": [
    {
     "name": "stdout",
     "output_type": "stream",
     "text": [
      "/bin/bash: /home/joni/miniconda3/envs/cafa5/lib/libtinfo.so.6: no version information available (required by /bin/bash)\r\n"
     ]
    }
   ],
   "source": [
    "# Run blastp\n",
    "!../diamond/diamond blastp \\\n",
    "  --more-sensitive \\\n",
    "  -d $diamond_dir/train_data.dmnd \\\n",
    "  -q \"../../input/cafa-5-protein-function-prediction/Test (Targets)/testsuperset.fasta\" \\\n",
    "  --outfmt 6 qseqid sseqid bitscore pident evalue > $diamond_dir/test_diamond_2.res"
   ]
  },
  {
   "cell_type": "markdown",
   "id": "37241523",
   "metadata": {},
   "source": [
    "## Find matches from the results"
   ]
  },
  {
   "cell_type": "code",
   "execution_count": 20,
   "id": "35b82f3b",
   "metadata": {},
   "outputs": [],
   "source": [
    "test_protein_ids = np.load('../input/t5embeds/test_ids.npy')"
   ]
  },
  {
   "cell_type": "code",
   "execution_count": 39,
   "id": "a58d22ab",
   "metadata": {},
   "outputs": [
    {
     "data": {
      "text/html": [
       "<div>\n",
       "<style scoped>\n",
       "    .dataframe tbody tr th:only-of-type {\n",
       "        vertical-align: middle;\n",
       "    }\n",
       "\n",
       "    .dataframe tbody tr th {\n",
       "        vertical-align: top;\n",
       "    }\n",
       "\n",
       "    .dataframe thead th {\n",
       "        text-align: right;\n",
       "    }\n",
       "</style>\n",
       "<table border=\"1\" class=\"dataframe\">\n",
       "  <thead>\n",
       "    <tr style=\"text-align: right;\">\n",
       "      <th></th>\n",
       "      <th>sseqid</th>\n",
       "      <th>bitscore</th>\n",
       "      <th>pident</th>\n",
       "      <th>evalue</th>\n",
       "    </tr>\n",
       "    <tr>\n",
       "      <th>testid</th>\n",
       "      <th></th>\n",
       "      <th></th>\n",
       "      <th></th>\n",
       "      <th></th>\n",
       "    </tr>\n",
       "  </thead>\n",
       "  <tbody>\n",
       "    <tr>\n",
       "      <th>Q9CQV8</th>\n",
       "      <td>Q9CQV8</td>\n",
       "      <td>464.0</td>\n",
       "      <td>100.0</td>\n",
       "      <td>1.100000e-167</td>\n",
       "    </tr>\n",
       "    <tr>\n",
       "      <th>Q9CQV8</th>\n",
       "      <td>P35213</td>\n",
       "      <td>459.0</td>\n",
       "      <td>98.8</td>\n",
       "      <td>1.050000e-165</td>\n",
       "    </tr>\n",
       "    <tr>\n",
       "      <th>Q9CQV8</th>\n",
       "      <td>P31946</td>\n",
       "      <td>458.0</td>\n",
       "      <td>98.8</td>\n",
       "      <td>2.120000e-165</td>\n",
       "    </tr>\n",
       "    <tr>\n",
       "      <th>Q9CQV8</th>\n",
       "      <td>V9HWD6</td>\n",
       "      <td>458.0</td>\n",
       "      <td>98.8</td>\n",
       "      <td>2.120000e-165</td>\n",
       "    </tr>\n",
       "    <tr>\n",
       "      <th>Q9CQV8</th>\n",
       "      <td>Q5PRD0</td>\n",
       "      <td>421.0</td>\n",
       "      <td>91.0</td>\n",
       "      <td>1.200000e-150</td>\n",
       "    </tr>\n",
       "  </tbody>\n",
       "</table>\n",
       "</div>"
      ],
      "text/plain": [
       "        sseqid  bitscore  pident         evalue\n",
       "testid                                         \n",
       "Q9CQV8  Q9CQV8     464.0   100.0  1.100000e-167\n",
       "Q9CQV8  P35213     459.0    98.8  1.050000e-165\n",
       "Q9CQV8  P31946     458.0    98.8  2.120000e-165\n",
       "Q9CQV8  V9HWD6     458.0    98.8  2.120000e-165\n",
       "Q9CQV8  Q5PRD0     421.0    91.0  1.200000e-150"
      ]
     },
     "execution_count": 39,
     "metadata": {},
     "output_type": "execute_result"
    }
   ],
   "source": [
    "diamond_df = pd.read_csv(diamond_dir + '/test_diamond_2.res', sep='\\t', names=['qsegid', 'sseqid', 'bitscore', 'pident', 'evalue'])\n",
    "diamond_df['testid'] = diamond_df['qsegid'].apply(lambda x: str(x).split('\\\\t')[0])\n",
    "diamond_df = diamond_df.drop(columns='qsegid')\n",
    "diamond_df.set_index('testid', inplace=True)\n",
    "diamond_df.head()"
   ]
  },
  {
   "cell_type": "code",
   "execution_count": 45,
   "id": "7098514a",
   "metadata": {},
   "outputs": [
    {
     "data": {
      "text/plain": [
       "[['Q9CQV8', 464.0],\n",
       " ['P35213', 459.0],\n",
       " ['P31946', 458.0],\n",
       " ['V9HWD6', 458.0],\n",
       " ['Q5PRD0', 421.0],\n",
       " ['P63104', 401.0],\n",
       " ['Q5ZKC9', 400.0],\n",
       " ['P63101', 399.0],\n",
       " ['P63102', 399.0],\n",
       " ['P68254', 377.0],\n",
       " ['P68255', 377.0],\n",
       " ['P27348', 377.0],\n",
       " ['P29310', 363.0],\n",
       " ['Q20655', 362.0],\n",
       " ['P41932', 349.0],\n",
       " ['P61982', 343.0],\n",
       " ['P61983', 343.0],\n",
       " ['P61981', 343.0],\n",
       " ['Q5F3W6', 342.0],\n",
       " ['Q6PC29', 342.0],\n",
       " ['Q04917', 340.0],\n",
       " ['Q5ZKJ2', 340.0],\n",
       " ['P68510', 339.0],\n",
       " ['P68511', 339.0],\n",
       " ['P31947', 312.0]]"
      ]
     },
     "execution_count": 45,
     "metadata": {},
     "output_type": "execute_result"
    }
   ],
   "source": [
    "def matches_for_query_id(query_id:str, max_evalue:float=0.001):\n",
    "    \"\"\" Returns a list of array(seq_id, bitscore) matches that have lower evalue than max_evalue \"\"\"\n",
    "    #matches = diamond_df[diamond_df.testid == query_id]\n",
    "    matches = diamond_df.loc[query_id]\n",
    "    matches = matches[matches.evalue < max_evalue]\n",
    "    if len(matches) == 0: return []\n",
    "    \n",
    "    return list(matches[['sseqid', 'bitscore']].values.tolist()\n",
    ")\n",
    "    \n",
    "matches = matches_for_query_id(test_protein_ids[0])\n",
    "matches"
   ]
  },
  {
   "cell_type": "code",
   "execution_count": 41,
   "id": "6b495668",
   "metadata": {},
   "outputs": [
    {
     "data": {
      "text/html": [
       "<div>\n",
       "<style scoped>\n",
       "    .dataframe tbody tr th:only-of-type {\n",
       "        vertical-align: middle;\n",
       "    }\n",
       "\n",
       "    .dataframe tbody tr th {\n",
       "        vertical-align: top;\n",
       "    }\n",
       "\n",
       "    .dataframe thead th {\n",
       "        text-align: right;\n",
       "    }\n",
       "</style>\n",
       "<table border=\"1\" class=\"dataframe\">\n",
       "  <thead>\n",
       "    <tr style=\"text-align: right;\">\n",
       "      <th></th>\n",
       "      <th>term</th>\n",
       "      <th>aspect</th>\n",
       "    </tr>\n",
       "    <tr>\n",
       "      <th>EntryID</th>\n",
       "      <th></th>\n",
       "      <th></th>\n",
       "    </tr>\n",
       "  </thead>\n",
       "  <tbody>\n",
       "    <tr>\n",
       "      <th>A0A009IHW8</th>\n",
       "      <td>GO:0008152</td>\n",
       "      <td>BPO</td>\n",
       "    </tr>\n",
       "    <tr>\n",
       "      <th>A0A009IHW8</th>\n",
       "      <td>GO:0034655</td>\n",
       "      <td>BPO</td>\n",
       "    </tr>\n",
       "    <tr>\n",
       "      <th>A0A009IHW8</th>\n",
       "      <td>GO:0072523</td>\n",
       "      <td>BPO</td>\n",
       "    </tr>\n",
       "    <tr>\n",
       "      <th>A0A009IHW8</th>\n",
       "      <td>GO:0044270</td>\n",
       "      <td>BPO</td>\n",
       "    </tr>\n",
       "    <tr>\n",
       "      <th>A0A009IHW8</th>\n",
       "      <td>GO:0006753</td>\n",
       "      <td>BPO</td>\n",
       "    </tr>\n",
       "  </tbody>\n",
       "</table>\n",
       "</div>"
      ],
      "text/plain": [
       "                  term aspect\n",
       "EntryID                      \n",
       "A0A009IHW8  GO:0008152    BPO\n",
       "A0A009IHW8  GO:0034655    BPO\n",
       "A0A009IHW8  GO:0072523    BPO\n",
       "A0A009IHW8  GO:0044270    BPO\n",
       "A0A009IHW8  GO:0006753    BPO"
      ]
     },
     "execution_count": 41,
     "metadata": {},
     "output_type": "execute_result"
    }
   ],
   "source": [
    "train_terms = pd.read_csv(\"../../input/cafa-5-protein-function-prediction/Train/train_terms.tsv\",sep=\"\\t\")\n",
    "train_terms.set_index('EntryID', inplace=True)\n",
    "train_terms.head()"
   ]
  },
  {
   "cell_type": "code",
   "execution_count": 43,
   "id": "92b92f3a",
   "metadata": {},
   "outputs": [
    {
     "data": {
      "text/plain": [
       "Index(['A0A009IHW8', 'A0A021WW32', 'A0A023FFD0', 'A0A023GPJ3', 'A0A023GPK8',\n",
       "       'A0A023GQ97', 'A0A023GRW4', 'A0A023GU64', 'A0A023GU65', 'A0A023GUT0'],\n",
       "      dtype='object', name='EntryID')"
      ]
     },
     "execution_count": 43,
     "metadata": {},
     "output_type": "execute_result"
    }
   ],
   "source": [
    "unique_train_ids = train_terms.index.unique()\n",
    "unique_train_ids[:10]"
   ]
  },
  {
   "cell_type": "code",
   "execution_count": 33,
   "id": "9d5e72d4",
   "metadata": {},
   "outputs": [],
   "source": [
    "from tqdm.auto import tqdm"
   ]
  },
  {
   "cell_type": "code",
   "execution_count": 44,
   "id": "95ec84c0",
   "metadata": {},
   "outputs": [
    {
     "data": {
      "text/plain": [
       "{'BPO': array(['GO:0051234', 'GO:0070727', 'GO:0051649', 'GO:0051641',\n",
       "        'GO:0009987', 'GO:0071702', 'GO:0051179', 'GO:0006886',\n",
       "        'GO:0008150', 'GO:0071705', 'GO:0008104', 'GO:0046907',\n",
       "        'GO:0006605', 'GO:0015031', 'GO:0045184', 'GO:0006810',\n",
       "        'GO:0033036'], dtype=object),\n",
       " 'CCO': array(['GO:0005737', 'GO:0005829', 'GO:0005575', 'GO:0005622',\n",
       "        'GO:0110165'], dtype=object),\n",
       " 'MFO': array(['GO:0003674', 'GO:0005488', 'GO:0019904', 'GO:0005515'],\n",
       "       dtype=object)}"
      ]
     },
     "execution_count": 44,
     "metadata": {},
     "output_type": "execute_result"
    }
   ],
   "source": [
    "def terms_for_train_id(train_id:str):\n",
    "    #train_id_terms = train_terms[train_terms.EntryID == train_id]\n",
    "    train_id_terms = train_terms.loc[train_id]\n",
    "    return {\n",
    "        'BPO' : train_id_terms[train_id_terms.aspect == 'BPO']['term'].values,\n",
    "        'CCO' : train_id_terms[train_id_terms.aspect == 'CCO']['term'].values,\n",
    "        'MFO' : train_id_terms[train_id_terms.aspect == 'MFO']['term'].values,\n",
    "    }\n",
    "\n",
    "terms_d = terms_for_train_id(matches[0][0])\n",
    "terms_d"
   ]
  },
  {
   "cell_type": "code",
   "execution_count": 46,
   "id": "71477cb3",
   "metadata": {},
   "outputs": [
    {
     "data": {
      "application/vnd.jupyter.widget-view+json": {
       "model_id": "b6060c6af34a40d9aa092ed98a94f7ab",
       "version_major": 2,
       "version_minor": 0
      },
      "text/plain": [
       "  0%|          | 0/142246 [00:00<?, ?it/s]"
      ]
     },
     "metadata": {},
     "output_type": "display_data"
    }
   ],
   "source": [
    "precalculated_terms = {\n",
    "    train_id : terms_for_train_id(train_id) for train_id in tqdm(unique_train_ids, total=len(unique_train_ids))\n",
    "}"
   ]
  },
  {
   "cell_type": "code",
   "execution_count": 47,
   "id": "b11dcd58",
   "metadata": {},
   "outputs": [],
   "source": [
    "with open(\"../../output/precalculated_terms.json\", \"w\") as outfile:\n",
    "    json.dump(precalculated_terms, outfile)"
   ]
  },
  {
   "cell_type": "code",
   "execution_count": 48,
   "id": "0f240d99",
   "metadata": {},
   "outputs": [],
   "source": [
    "precalculated_terms.keys()"
   ]
  },
  {
   "cell_type": "code",
   "execution_count": null,
   "id": "b945cb4f",
   "metadata": {},
   "outputs": [],
   "source": [
    "# checkpoint\n",
    "with open(\"../../output/precalculated_terms.json\", \"r\") as outfile:\n",
    "    precalculated_terms = json.load(outfile)"
   ]
  },
  {
   "cell_type": "markdown",
   "id": "54115fdf",
   "metadata": {},
   "source": [
    "## Create submission\n",
    "\n",
    "See `src/diamond_submit.py`"
   ]
  },
  {
   "cell_type": "code",
   "execution_count": null,
   "id": "89658da0",
   "metadata": {},
   "outputs": [],
   "source": []
  }
 ],
 "metadata": {
  "kernelspec": {
   "display_name": "Python 3 (ipykernel)",
   "language": "python",
   "name": "python3"
  },
  "language_info": {
   "codemirror_mode": {
    "name": "ipython",
    "version": 3
   },
   "file_extension": ".py",
   "mimetype": "text/x-python",
   "name": "python",
   "nbconvert_exporter": "python",
   "pygments_lexer": "ipython3",
   "version": "3.9.16"
  }
 },
 "nbformat": 4,
 "nbformat_minor": 5
}
