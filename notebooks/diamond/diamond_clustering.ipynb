{
 "cells": [
  {
   "cell_type": "markdown",
   "id": "563bfaf8",
   "metadata": {},
   "source": [
    "## Cluster training proteins for fold splitting\n",
    "\n",
    "https://github.com/bbuchfink/diamond/wiki/Clustering"
   ]
  },
  {
   "cell_type": "code",
   "execution_count": 1,
   "id": "267e77db",
   "metadata": {},
   "outputs": [],
   "source": [
    "diamond_dir = '../../output/diamond'"
   ]
  },
  {
   "cell_type": "code",
   "execution_count": 4,
   "id": "524a981f",
   "metadata": {},
   "outputs": [
    {
     "name": "stdout",
     "output_type": "stream",
     "text": [
      "/bin/bash: /home/joni/miniconda3/envs/cafa5/lib/libtinfo.so.6: no version information available (required by /bin/bash)\n",
      "diamond v2.1.8.162 (C) Max Planck Society for the Advancement of Science, Benjamin Buchfink, University of Tuebingen\n",
      "Documentation, support and updates available at http://www.diamondsearch.org\n",
      "Please cite: http://dx.doi.org/10.1038/s41592-021-01101-x Nature Methods (2021)\n",
      "\n",
      "#CPU threads: 12\n",
      "Scoring parameters: (Matrix=BLOSUM62 Lambda=0.267 K=0.041 Penalties=11/1)\n",
      "Opening the input file...  [0.373s]\n",
      "Input database: ../../output/diamond/train_data.dmnd (142246 sequences, 78752603 letters)\n",
      "Temporary directory: ../../output/diamond\n",
      "#Target sequences to report alignments for: unlimited\n",
      "Database: ../../output/diamond/train_data.dmnd (type: Diamond database, sequences: 142246, letters: 78752603)\n",
      "Block size = 12800000000\n",
      "Opening the input file...  [0s]\n",
      "Opening the output file...  [0s]\n",
      "Seeking in database...  [0s]\n",
      "Loading query sequences...  [0.149s]\n",
      "Length sorting queries...  [0.15s]\n",
      "Algorithm: Double-indexed\n",
      "Building query histograms...  [2.622s]\n",
      "Seeking in database...  [0s]\n",
      "Seeking in database...  [0s]\n",
      "Initializing temporary storage...  [0.004s]\n",
      "Building reference histograms...  [1.034s]\n",
      "Allocating buffers...  [0s]\n",
      "Processing query block 1, reference block 1/1, shape 1/1.\n",
      "Building reference seed array...  [1.041s]\n",
      "Building query seed array...  [1.047s]\n",
      "Computing hash join...  [0.109s]\n",
      "Masking low complexity seeds...  [0.197s]\n",
      "Searching alignments...  [0.59s]\n",
      "Deallocating memory...  [0s]\n",
      "Deallocating buffers...  [0.021s]\n",
      "Clearing query masking...  [0.011s]\n",
      "Computing alignments... Loading trace points...  [0.365s]\n",
      "Sorting trace points...  [0.131s]\n",
      "Computing alignments...  [15.252s]\n",
      "Deallocating buffers...  [0.016s]\n",
      "Loading trace points...  [0s]\n",
      " [16.756s]\n",
      "Deallocating reference...  [0s]\n",
      "Loading reference sequences...  [0s]\n",
      "Deallocating buffers...  [0s]\n",
      "Deallocating queries...  [0.006s]\n",
      "Closing the output file...  [0s]\n",
      "Closing the database...  [0s]\n",
      "Cleaning up...  [0s]\n",
      "Total time = 23.749s\n",
      "Reported 287877 pairwise alignments, 287877 HSPs.\n",
      "126595 queries aligned.\n",
      "Finished search. #Edges: 540382\n",
      "Allocating buffers...  [0s]\n",
      "Loading edges...  [0.1s]\n",
      "Sorting edges...  [0.016s]\n",
      "Computing edge counts...  [0.007s]\n",
      "Computing vertex cover...  [0.054s]\n",
      "Computing reassignment...  [0.003s]\n",
      "Clustering round 1 complete. #Input sequences: 142246 #Clusters: 71894 Time: 23s\n",
      "Temporary directory: ../../output/diamond\n",
      "#Target sequences to report alignments for: unlimited\n",
      "Database: ../../output/diamond/train_data.dmnd (type: Diamond database, sequences: 142246, letters: 78752603)\n",
      "Block size = 3200000000\n",
      "Opening the input file...  [0s]\n",
      "Opening the output file...  [0s]\n",
      "Seeking in database...  [0s]\n",
      "Loading query sequences...  [0.08s]\n",
      "Algorithm: Double-indexed\n",
      "Building query histograms...  [0.794s]\n",
      "Seeking in database...  [0s]\n",
      "Initializing temporary storage...  [0.004s]\n",
      "Building reference histograms...  [0.163s]\n",
      "Allocating buffers...  [0s]\n",
      "Processing query block 1, reference block 1/1, shape 1/1.\n",
      "Building reference seed array...  [0.24s]\n",
      "Building query seed array...  [0.231s]\n",
      "Computing hash join...  [0.404s]\n",
      "Masking low complexity seeds...  [0.662s]\n",
      "Searching alignments...  [0.781s]\n",
      "Deallocating memory...  [0s]\n",
      "Deallocating buffers...  [0.071s]\n",
      "Clearing query masking...  [0.005s]\n",
      "Computing alignments... Loading trace points...  [0.015s]\n",
      "Sorting trace points...  [0.006s]\n",
      "Computing alignments...  [7.787s]\n",
      "Deallocating buffers...  [0s]\n",
      "Loading trace points...  [0s]\n",
      " [7.84s]\n",
      "Deallocating reference...  [0s]\n",
      "Loading reference sequences...  [0s]\n",
      "Deallocating buffers...  [0s]\n",
      "Deallocating queries...  [0.006s]\n",
      "Closing the output file...  [0s]\n",
      "Closing the database...  [0s]\n",
      "Cleaning up...  [0s]\n",
      "Total time = 11.291s\n",
      "Reported 7501 pairwise alignments, 7501 HSPs.\n",
      "5263 queries aligned.\n",
      "Finished search. #Edges: 12364\n",
      "Allocating buffers...  [0s]\n",
      "Loading edges...  [0.002s]\n",
      "Sorting edges...  [0.007s]\n",
      "Computing edge counts...  [0.004s]\n",
      "Computing vertex cover...  [0.015s]\n",
      "Computing reassignment...  [0s]\n",
      "Clustering round 2 complete. #Input sequences: 71894 #Clusters: 66932 Time: 11s\n",
      "Temporary directory: ../../output/diamond\n",
      "#Target sequences to report alignments for: unlimited\n",
      "Database: ../../output/diamond/train_data.dmnd (type: Diamond database, sequences: 142246, letters: 78752603)\n",
      "Block size = 3200000000\n",
      "Opening the input file...  [0s]\n",
      "Opening the output file...  [0s]\n",
      "Seeking in database...  [0s]\n",
      "Loading query sequences...  [0.092s]\n",
      "Algorithm: Double-indexed\n",
      "Building query histograms...  [0.909s]\n",
      "Seeking in database...  [0s]\n",
      "Initializing temporary storage...  [0.007s]\n",
      "Building reference histograms...  [0.223s]\n",
      "Allocating buffers...  [0s]\n",
      "Processing query block 1, reference block 1/1, shape 1/2.\n",
      "Building reference seed array...  [0.202s]\n",
      "Building query seed array...  [0.23s]\n",
      "Computing hash join...  [0.444s]\n",
      "Masking low complexity seeds...  [0.575s]\n",
      "Searching alignments...  [0.832s]\n",
      "Deallocating memory...  [0s]\n",
      "Processing query block 1, reference block 1/1, shape 2/2.\n",
      "Building reference seed array...  [0.163s]\n",
      "Building query seed array...  [0.161s]\n",
      "Computing hash join...  [0.398s]\n",
      "Masking low complexity seeds...  [0.646s]\n",
      "Searching alignments...  [0.76s]\n",
      "Deallocating memory...  [0s]\n",
      "Deallocating buffers...  [0.046s]\n",
      "Clearing query masking...  [0.004s]\n",
      "Computing alignments... Loading trace points...  [0.025s]\n",
      "Sorting trace points...  [0.009s]\n",
      "Computing alignments...  [9.953s]\n",
      "Deallocating buffers...  [0s]\n",
      "Loading trace points...  [0s]\n",
      " [10.031s]\n",
      "Deallocating reference...  [0s]\n",
      "Loading reference sequences...  [0s]\n",
      "Deallocating buffers...  [0s]\n",
      "Deallocating queries...  [0.003s]\n",
      "Closing the output file...  [0s]\n",
      "Closing the database...  [0s]\n",
      "Cleaning up...  [0s]\n",
      "Total time = 15.738s\n",
      "Reported 961 pairwise alignments, 961 HSPs.\n",
      "860 queries aligned.\n",
      "Finished search. #Edges: 1492\n",
      "Allocating buffers...  [0s]\n",
      "Loading edges...  [0s]\n",
      "Sorting edges...  [0s]\n",
      "Computing edge counts...  [0.002s]\n",
      "Computing vertex cover...  [0.009s]\n",
      "Computing reassignment...  [0s]\n",
      "Computing merges...  [0s]\n",
      "Clustering round 3 complete. #Input sequences: 66932 #Clusters: 66206 Time: 15s\n",
      "Generating output...  [0.076s]\n",
      "CPU times: user 706 ms, sys: 112 ms, total: 818 ms\n",
      "Wall time: 51.6 s\n"
     ]
    }
   ],
   "source": [
    "%%time\n",
    "!../../diamond/diamond cluster \\\n",
    "  -d $diamond_dir/train_data.dmnd \\\n",
    "  -o $diamond_dir/diamond_cluster.tsv \\\n",
    "  --header \\\n",
    "  --approx-id 50 \\\n",
    "  -M 64G"
   ]
  },
  {
   "cell_type": "code",
   "execution_count": 5,
   "id": "57cbc021",
   "metadata": {},
   "outputs": [],
   "source": [
    "import pandas as pd\n",
    "import matplotlib.pyplot as plt\n",
    "import os\n",
    "import numpy as np"
   ]
  },
  {
   "cell_type": "code",
   "execution_count": 6,
   "id": "2d60e6c0",
   "metadata": {},
   "outputs": [
    {
     "data": {
      "text/html": [
       "<div>\n",
       "<style scoped>\n",
       "    .dataframe tbody tr th:only-of-type {\n",
       "        vertical-align: middle;\n",
       "    }\n",
       "\n",
       "    .dataframe tbody tr th {\n",
       "        vertical-align: top;\n",
       "    }\n",
       "\n",
       "    .dataframe thead th {\n",
       "        text-align: right;\n",
       "    }\n",
       "</style>\n",
       "<table border=\"1\" class=\"dataframe\">\n",
       "  <thead>\n",
       "    <tr style=\"text-align: right;\">\n",
       "      <th></th>\n",
       "      <th>centroid</th>\n",
       "      <th>member</th>\n",
       "    </tr>\n",
       "  </thead>\n",
       "  <tbody>\n",
       "    <tr>\n",
       "      <th>0</th>\n",
       "      <td>P20536</td>\n",
       "      <td>P20536</td>\n",
       "    </tr>\n",
       "    <tr>\n",
       "      <th>1</th>\n",
       "      <td>O95231</td>\n",
       "      <td>O95231</td>\n",
       "    </tr>\n",
       "    <tr>\n",
       "      <th>2</th>\n",
       "      <td>P54366</td>\n",
       "      <td>P54366</td>\n",
       "    </tr>\n",
       "    <tr>\n",
       "      <th>3</th>\n",
       "      <td>P33681</td>\n",
       "      <td>P33681</td>\n",
       "    </tr>\n",
       "    <tr>\n",
       "      <th>4</th>\n",
       "      <td>P77596</td>\n",
       "      <td>P77596</td>\n",
       "    </tr>\n",
       "  </tbody>\n",
       "</table>\n",
       "</div>"
      ],
      "text/plain": [
       "  centroid  member\n",
       "0   P20536  P20536\n",
       "1   O95231  O95231\n",
       "2   P54366  P54366\n",
       "3   P33681  P33681\n",
       "4   P77596  P77596"
      ]
     },
     "execution_count": 6,
     "metadata": {},
     "output_type": "execute_result"
    }
   ],
   "source": [
    "cluster_df = pd.read_csv('../../output/diamond/diamond_cluster.tsv', sep='\\t')\n",
    "cluster_df.head()"
   ]
  },
  {
   "cell_type": "code",
   "execution_count": 13,
   "id": "4fe1f46e",
   "metadata": {},
   "outputs": [
    {
     "data": {
      "text/plain": [
       "centroid\n",
       "Q59EJ3        127\n",
       "A5A3E0        111\n",
       "Q05481        107\n",
       "A0A0B4J269    100\n",
       "P36406         97\n",
       "             ... \n",
       "Q2PS07          1\n",
       "O22194          1\n",
       "Q700C7          1\n",
       "Q9QUL0          1\n",
       "P20536          1\n",
       "Name: count, Length: 66206, dtype: int64"
      ]
     },
     "execution_count": 13,
     "metadata": {},
     "output_type": "execute_result"
    }
   ],
   "source": [
    "cluster_df.centroid.value_counts()"
   ]
  },
  {
   "cell_type": "code",
   "execution_count": 21,
   "id": "4c5b24b3",
   "metadata": {},
   "outputs": [
    {
     "data": {
      "text/plain": [
       "Text(0.5, 0, 'Frequency')"
      ]
     },
     "execution_count": 21,
     "metadata": {},
     "output_type": "execute_result"
    },
    {
     "data": {
      "image/png": "[encoded data removed]",
      "text/plain": [
       "<Figure size 640x480 with 1 Axes>"
      ]
     },
     "metadata": {},
     "output_type": "display_data"
    }
   ],
   "source": [
    "cluster_df.centroid.value_counts()[:30].plot(kind='barh')\n",
    "plt.title('Top 30 clusters in train data\\nDIAMOND sequence cluster results')\n",
    "plt.xlabel('Frequency')"
   ]
  },
  {
   "cell_type": "markdown",
   "id": "a4b97241",
   "metadata": {},
   "source": [
    "## Assign each cluster with less than 10 occurences to \"unique\" cluster id"
   ]
  },
  {
   "cell_type": "code",
   "execution_count": 24,
   "id": "dccb3be9",
   "metadata": {},
   "outputs": [],
   "source": [
    "unique = cluster_df.centroid.value_counts().to_dict()"
   ]
  },
  {
   "cell_type": "code",
   "execution_count": 25,
   "id": "3c874969",
   "metadata": {},
   "outputs": [
    {
     "data": {
      "text/plain": [
       "cluster_id\n",
       "unique        113740\n",
       "Q59EJ3           127\n",
       "A5A3E0           111\n",
       "Q05481           107\n",
       "A0A0B4J269       100\n",
       "               ...  \n",
       "G5EBK8            11\n",
       "Q9UTM4            11\n",
       "Q99500            11\n",
       "C8V523            11\n",
       "A0A0R4IHP8        11\n",
       "Name: count, Length: 1591, dtype: int64"
      ]
     },
     "execution_count": 25,
     "metadata": {},
     "output_type": "execute_result"
    }
   ],
   "source": [
    "cluster_df['cluster_id'] = cluster_df['centroid'].apply(lambda x : x if cluster_counts[x] > 10 else \"unique\")\n",
    "cluster_df['cluster_id'].value_counts()"
   ]
  },
  {
   "cell_type": "markdown",
   "id": "270acd0f",
   "metadata": {},
   "source": [
    "## Save to pandas dataframe"
   ]
  },
  {
   "cell_type": "code",
   "execution_count": 26,
   "id": "b8777bdd",
   "metadata": {},
   "outputs": [
    {
     "data": {
      "text/plain": [
       "array(['P20536', 'O73864', 'O95231', 'A0A0B4J1F4', 'P54366', 'P33681',\n",
       "       'P77596', 'Q16787', 'Q59VP0', 'P13508'], dtype='<U10')"
      ]
     },
     "execution_count": 26,
     "metadata": {},
     "output_type": "execute_result"
    }
   ],
   "source": [
    "train_protein_ids = np.load('../../input/t5embeds/train_ids.npy')\n",
    "train_protein_ids[:10]"
   ]
  },
  {
   "cell_type": "code",
   "execution_count": 28,
   "id": "9938d6e2",
   "metadata": {},
   "outputs": [],
   "source": [
    "cluster_ids = [cluster_df[cluster_df['member'] == _id]['cluster_id'].values[0] for _id in train_protein_ids]"
   ]
  },
  {
   "cell_type": "code",
   "execution_count": 41,
   "id": "8456b94d",
   "metadata": {},
   "outputs": [
    {
     "data": {
      "text/html": [
       "<div>\n",
       "<style scoped>\n",
       "    .dataframe tbody tr th:only-of-type {\n",
       "        vertical-align: middle;\n",
       "    }\n",
       "\n",
       "    .dataframe tbody tr th {\n",
       "        vertical-align: top;\n",
       "    }\n",
       "\n",
       "    .dataframe thead th {\n",
       "        text-align: right;\n",
       "    }\n",
       "</style>\n",
       "<table border=\"1\" class=\"dataframe\">\n",
       "  <thead>\n",
       "    <tr style=\"text-align: right;\">\n",
       "      <th></th>\n",
       "      <th>EntryID</th>\n",
       "      <th>cluster_id</th>\n",
       "    </tr>\n",
       "  </thead>\n",
       "  <tbody>\n",
       "    <tr>\n",
       "      <th>0</th>\n",
       "      <td>P20536</td>\n",
       "      <td>unique</td>\n",
       "    </tr>\n",
       "    <tr>\n",
       "      <th>1</th>\n",
       "      <td>O73864</td>\n",
       "      <td>unique</td>\n",
       "    </tr>\n",
       "    <tr>\n",
       "      <th>2</th>\n",
       "      <td>O95231</td>\n",
       "      <td>unique</td>\n",
       "    </tr>\n",
       "    <tr>\n",
       "      <th>3</th>\n",
       "      <td>A0A0B4J1F4</td>\n",
       "      <td>unique</td>\n",
       "    </tr>\n",
       "    <tr>\n",
       "      <th>4</th>\n",
       "      <td>P54366</td>\n",
       "      <td>unique</td>\n",
       "    </tr>\n",
       "  </tbody>\n",
       "</table>\n",
       "</div>"
      ],
      "text/plain": [
       "      EntryID cluster_id\n",
       "0      P20536     unique\n",
       "1      O73864     unique\n",
       "2      O95231     unique\n",
       "3  A0A0B4J1F4     unique\n",
       "4      P54366     unique"
      ]
     },
     "execution_count": 41,
     "metadata": {},
     "output_type": "execute_result"
    }
   ],
   "source": [
    "train_cluster_df = pd.DataFrame({\n",
    "    'EntryID' : list(train_protein_ids),\n",
    "    'cluster_id' : cluster_ids\n",
    "})\n",
    "train_cluster_df.head()"
   ]
  },
  {
   "cell_type": "code",
   "execution_count": 42,
   "id": "057f57e4",
   "metadata": {},
   "outputs": [],
   "source": [
    "train_cluster_df.to_csv('../../input/train_sequence_clusters.csv' ,index=False)"
   ]
  },
  {
   "cell_type": "code",
   "execution_count": null,
   "id": "c5fbdc81",
   "metadata": {},
   "outputs": [],
   "source": []
  }
 ],
 "metadata": {
  "kernelspec": {
   "display_name": "Python 3 (ipykernel)",
   "language": "python",
   "name": "python3"
  },
  "language_info": {
   "codemirror_mode": {
    "name": "ipython",
    "version": 3
   },
   "file_extension": ".py",
   "mimetype": "text/x-python",
   "name": "python",
   "nbconvert_exporter": "python",
   "pygments_lexer": "ipython3",
   "version": "3.9.16"
  }
 },
 "nbformat": 4,
 "nbformat_minor": 5
}
