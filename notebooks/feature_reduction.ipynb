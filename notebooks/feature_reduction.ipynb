{
 "cells": [
  {
   "cell_type": "markdown",
   "id": "7a1c64a7",
   "metadata": {},
   "source": [
    "# Feature reduction\n",
    "\n",
    "We reduce 4608 features to 512 features learned by unsupervised UMAP algorithm. \n",
    "\n",
    "This requires T5, esm and protBERT embeddings (see INSTALL.md for downloading instructions)"
   ]
  },
  {
   "cell_type": "code",
   "execution_count": 1,
   "id": "69b80c82",
   "metadata": {},
   "outputs": [
    {
     "name": "stderr",
     "output_type": "stream",
     "text": [
      "/home/joni/miniconda3/envs/cafa5/lib/python3.9/site-packages/umap/distances.py:1063: NumbaDeprecationWarning: \u001b[1mThe 'nopython' keyword argument was not supplied to the 'numba.jit' decorator. The implicit default value for this argument is currently False, but it will be changed to True in Numba 0.59.0. See https://numba.readthedocs.io/en/stable/reference/deprecation.html#deprecation-of-object-mode-fall-back-behaviour-when-using-jit for details.\u001b[0m\n",
      "  @numba.jit()\n",
      "/home/joni/miniconda3/envs/cafa5/lib/python3.9/site-packages/umap/distances.py:1071: NumbaDeprecationWarning: \u001b[1mThe 'nopython' keyword argument was not supplied to the 'numba.jit' decorator. The implicit default value for this argument is currently False, but it will be changed to True in Numba 0.59.0. See https://numba.readthedocs.io/en/stable/reference/deprecation.html#deprecation-of-object-mode-fall-back-behaviour-when-using-jit for details.\u001b[0m\n",
      "  @numba.jit()\n",
      "/home/joni/miniconda3/envs/cafa5/lib/python3.9/site-packages/umap/distances.py:1086: NumbaDeprecationWarning: \u001b[1mThe 'nopython' keyword argument was not supplied to the 'numba.jit' decorator. The implicit default value for this argument is currently False, but it will be changed to True in Numba 0.59.0. See https://numba.readthedocs.io/en/stable/reference/deprecation.html#deprecation-of-object-mode-fall-back-behaviour-when-using-jit for details.\u001b[0m\n",
      "  @numba.jit()\n",
      "/home/joni/miniconda3/envs/cafa5/lib/python3.9/site-packages/umap/umap_.py:660: NumbaDeprecationWarning: \u001b[1mThe 'nopython' keyword argument was not supplied to the 'numba.jit' decorator. The implicit default value for this argument is currently False, but it will be changed to True in Numba 0.59.0. See https://numba.readthedocs.io/en/stable/reference/deprecation.html#deprecation-of-object-mode-fall-back-behaviour-when-using-jit for details.\u001b[0m\n",
      "  @numba.jit()\n",
      "2023-08-01 19:00:22.802976: I tensorflow/core/platform/cpu_feature_guard.cc:193] This TensorFlow binary is optimized with oneAPI Deep Neural Network Library (oneDNN) to use the following CPU instructions in performance-critical operations:  AVX2 FMA\n",
      "To enable them in other operations, rebuild TensorFlow with the appropriate compiler flags.\n",
      "2023-08-01 19:00:23.359974: E tensorflow/stream_executor/cuda/cuda_blas.cc:2981] Unable to register cuBLAS factory: Attempting to register factory for plugin cuBLAS when one has already been registered\n",
      "2023-08-01 19:00:24.417608: W tensorflow/stream_executor/platform/default/dso_loader.cc:64] Could not load dynamic library 'libnvinfer.so.7'; dlerror: libnvinfer.so.7: cannot open shared object file: No such file or directory; LD_LIBRARY_PATH: :/home/joni/miniconda3/envs/cafa5/lib/:/home/joni/miniconda3/envs/cafa5/lib/python3.9/site-packages/nvidia/cudnn//lib\n",
      "2023-08-01 19:00:24.418015: W tensorflow/stream_executor/platform/default/dso_loader.cc:64] Could not load dynamic library 'libnvinfer_plugin.so.7'; dlerror: libnvinfer_plugin.so.7: cannot open shared object file: No such file or directory; LD_LIBRARY_PATH: :/home/joni/miniconda3/envs/cafa5/lib/:/home/joni/miniconda3/envs/cafa5/lib/python3.9/site-packages/nvidia/cudnn//lib\n",
      "2023-08-01 19:00:24.418027: W tensorflow/compiler/tf2tensorrt/utils/py_utils.cc:38] TF-TRT Warning: Cannot dlopen some TensorRT libraries. If you would like to use Nvidia GPU with TensorRT, please make sure the missing libraries mentioned above are installed properly.\n"
     ]
    }
   ],
   "source": [
    "import numpy as np\n",
    "import os\n",
    "import umap"
   ]
  },
  {
   "cell_type": "code",
   "execution_count": 2,
   "id": "17ffd78f",
   "metadata": {},
   "outputs": [],
   "source": [
    "def load_all_embeddings():\n",
    "    train_protein_ids = np.load('../input/t5embeds/train_ids.npy')    \n",
    "    test_protein_ids = np.load('../input/t5embeds/test_ids.npy')\n",
    "    train_embeddings = np.concatenate([\n",
    "        np.load('../input/t5embeds/train_embeds.npy'),\n",
    "        np.load('../input/esm23b/train_embeds_esm2_t36_3B_UR50D.npy'),\n",
    "        np.load('../input/protbert/train_embeddings.npy')\n",
    "    ], axis=1)\n",
    "    \n",
    "    test_embeddings = np.concatenate([\n",
    "        np.load('../input/t5embeds/test_embeds.npy'),\n",
    "        np.load('../input/esm23b/test_embeds_esm2_t36_3B_UR50D.npy'),\n",
    "        np.load('../input/protbert/test_embeddings.npy')\n",
    "    ], axis=1)\n",
    "    return (train_protein_ids, train_embeddings, test_protein_ids, test_embeddings)\n",
    "\n",
    "train_protein_ids, train_embeddings, test_protein_ids, test_embeddings = load_all_embeddings()"
   ]
  },
  {
   "cell_type": "code",
   "execution_count": 6,
   "id": "f941a941",
   "metadata": {},
   "outputs": [
    {
     "data": {
      "text/plain": [
       "(142246, 4608)"
      ]
     },
     "execution_count": 6,
     "metadata": {},
     "output_type": "execute_result"
    }
   ],
   "source": [
    "train_embeddings.shape"
   ]
  },
  {
   "cell_type": "code",
   "execution_count": 3,
   "id": "89190895",
   "metadata": {},
   "outputs": [],
   "source": [
    "# normalize the embeddings\n",
    "\n",
    "from sklearn.preprocessing import StandardScaler"
   ]
  },
  {
   "cell_type": "code",
   "execution_count": 4,
   "id": "afcfe446",
   "metadata": {},
   "outputs": [],
   "source": [
    "# Initialize a scaler\n",
    "scaler = StandardScaler()\n",
    "\n",
    "# Fit on training set only\n",
    "scaler.fit(train_embeddings)\n",
    "\n",
    "# Apply transform to both the training set and the test set\n",
    "train_embeddings = scaler.transform(train_embeddings)\n",
    "test_embeddings = scaler.transform(test_embeddings)"
   ]
  },
  {
   "cell_type": "code",
   "execution_count": 5,
   "id": "882a9111",
   "metadata": {},
   "outputs": [],
   "source": [
    "# use umap to reduce the number of features\n",
    "reducer = umap.UMAP(\n",
    "    n_neighbors=30,\n",
    "    n_components=512,\n",
    "    metric='euclidean'\n",
    ")"
   ]
  },
  {
   "cell_type": "code",
   "execution_count": 6,
   "id": "b677c5f1",
   "metadata": {},
   "outputs": [],
   "source": [
    "reducer = reducer.fit(train_embeddings)"
   ]
  },
  {
   "cell_type": "code",
   "execution_count": 7,
   "id": "a0c191c0",
   "metadata": {},
   "outputs": [],
   "source": [
    "test_embeddings_umap = reducer.transform(test_embeddings)"
   ]
  },
  {
   "cell_type": "code",
   "execution_count": 8,
   "id": "5c4bc20d",
   "metadata": {},
   "outputs": [
    {
     "data": {
      "text/plain": [
       "(142246, 512)"
      ]
     },
     "execution_count": 8,
     "metadata": {},
     "output_type": "execute_result"
    }
   ],
   "source": [
    "reducer.embedding_.shape"
   ]
  },
  {
   "cell_type": "code",
   "execution_count": 9,
   "id": "01b19c2b",
   "metadata": {},
   "outputs": [
    {
     "data": {
      "text/plain": [
       "(141865, 512)"
      ]
     },
     "execution_count": 9,
     "metadata": {},
     "output_type": "execute_result"
    }
   ],
   "source": [
    "test_embeddings_umap.shape"
   ]
  },
  {
   "cell_type": "code",
   "execution_count": 10,
   "id": "4a0acd73",
   "metadata": {},
   "outputs": [],
   "source": [
    "np.save('../input/train_emb_umap_512.npy', reducer.embedding_)\n",
    "np.save('../input/test_emb_umap_512.npy', test_embeddings_umap)"
   ]
  },
  {
   "cell_type": "code",
   "execution_count": null,
   "id": "4fdfefd6",
   "metadata": {},
   "outputs": [],
   "source": []
  }
 ],
 "metadata": {
  "kernelspec": {
   "display_name": "Python 3 (ipykernel)",
   "language": "python",
   "name": "python3"
  },
  "language_info": {
   "codemirror_mode": {
    "name": "ipython",
    "version": 3
   },
   "file_extension": ".py",
   "mimetype": "text/x-python",
   "name": "python",
   "nbconvert_exporter": "python",
   "pygments_lexer": "ipython3",
   "version": "3.9.16"
  }
 },
 "nbformat": 4,
 "nbformat_minor": 5
}
